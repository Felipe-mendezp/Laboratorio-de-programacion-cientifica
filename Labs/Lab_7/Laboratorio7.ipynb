{
  "cells": [
    {
      "cell_type": "markdown",
      "source": [
        "<h1><center>Laboratorio 7: La desperación de Mr. Lepin 🐼</center></h1>\n",
        "\n",
        "<center><strong>MDS7202: Laboratorio de Programación Científica para Ciencia de Datos</strong></center>"
      ],
      "metadata": {
        "id": "XUZ1dFPHzAHl",
        "cell_id": "8dd9b572c805487a9fb430fdc4ab12bb",
        "deepnote_cell_height": 156.26666259765625,
        "deepnote_cell_type": "markdown"
      }
    },
    {
      "cell_type": "markdown",
      "source": [
        "### Cuerpo Docente:\n",
        "\n",
        "- Profesor: Pablo Badilla, Ignacio Meza\n",
        "- Auxiliar: Sebastián Tinoco\n",
        "- Ayudante: Felipe Arias, Diego Cortez"
      ],
      "metadata": {
        "id": "UD8X1uhGzAHq",
        "cell_id": "d65413cd8566460dbceffcd13ca236e7",
        "deepnote_cell_type": "markdown"
      }
    },
    {
      "cell_type": "markdown",
      "source": [
        "### Equipo: SUPER IMPORTANTE - notebooks sin nombre no serán revisados\n",
        "\n",
        "- Nombre de alumno 1: Felipe Méndez\n",
        "- Nombre de alumno 2:\n"
      ],
      "metadata": {
        "id": "tXflExjqzAHr",
        "cell_id": "8e9217d02d124830a9b86046600a1605",
        "deepnote_cell_height": 172.13333129882812,
        "deepnote_cell_type": "markdown"
      }
    },
    {
      "cell_type": "markdown",
      "source": [
        "### **Link de repositorio de GitHub:** `https://github.com/Felipe-mendezp/Labs-Figueroa-Mendez`"
      ],
      "metadata": {
        "id": "AD-V0bbZzAHr",
        "cell_id": "010402b6d5f743b885a80d2e1c6ae11a",
        "deepnote_cell_height": 62.19999694824219,
        "deepnote_cell_type": "markdown"
      }
    },
    {
      "cell_type": "markdown",
      "source": [
        "### Indice \n",
        "\n",
        "1. [Temas a tratar](#Temas-a-tratar:)\n",
        "3. [Descripción del laboratorio](#Descripción-del-laboratorio.)\n",
        "4. [Desarrollo](#Desarrollo)"
      ],
      "metadata": {
        "id": "EcnsiQMkzAHr",
        "cell_id": "3abfe63b97c946e5ba1d4061b08e7913",
        "deepnote_cell_height": 165.06666564941406,
        "deepnote_cell_type": "markdown"
      }
    },
    {
      "cell_type": "markdown",
      "source": [
        "# Temas a tratar\n",
        "\n",
        "- Aplicar Pandas para obtener características de un DataFrame.\n",
        "- Aplicar Pipelines.\n",
        "- Aplicar Clusters sobre un conjunto de datos.\n",
        "\n",
        "## Reglas:\n",
        "\n",
        "- **Grupos de 2 personas**\n",
        "- Asistencia **obligatoria** a instrucciones del lab (viernes 16.15). Luego, pueden quedarse trabajando en las salas o irse.\n",
        "- **No se revisarán entregas de personas ausentes**. \n",
        "- Cualquier duda fuera del horario de clases al foro. Mensajes al equipo docente serán respondidos por este medio.\n",
        "- Prohibidas las copias. \n",
        "- Pueden usar cualquer material del curso que estimen conveniente.\n",
        "- Código que no se pueda ejecutar, no será revisado.\n",
        "\n",
        "### Objetivos principales del laboratorio\n",
        "\n",
        "- Comprender y aprovechar las ventajas que nos ofrece la librería `pandas` con respecto a trabajar en Python 'puro'.\n",
        "- Crear nuevas características para entrenar un modelo de clustering.\n",
        "- Comprender como aplicar pipelines de Scikit-Learn para generar procesos más limpios.\n",
        "\n",
        "El laboratorio deberá ser desarrollado sin el uso indiscriminado de iteradores nativos de python (aka \"for\", \"while\"). La idea es que aprendan a exprimir al máximo las funciones optimizadas que nos entrega `numpy`, las cuales vale mencionar, son bastante más eficientes que los iteradores nativos sobre arreglos (*o tensores*)."
      ],
      "metadata": {
        "id": "6uBLPj1PzAHs",
        "cell_id": "ef0224c7a99e4b718b55493b0a1e99c4",
        "deepnote_cell_height": 724.9000244140625,
        "deepnote_cell_type": "markdown"
      }
    },
    {
      "cell_type": "markdown",
      "source": [
        "## Descripción del laboratorio."
      ],
      "metadata": {
        "id": "wrG4gYabzAHs",
        "cell_id": "59664481c26f4ac4a753765269b1db6a",
        "deepnote_cell_height": 69.86666870117188,
        "deepnote_cell_type": "markdown"
      }
    },
    {
      "cell_type": "markdown",
      "source": [
        "### Importamos librerias utiles 😸"
      ],
      "metadata": {
        "id": "MhISwri4zAHy",
        "cell_id": "8c7bf8ea553d44c7a2efd61106a0bac2",
        "deepnote_cell_height": 61.866668701171875,
        "deepnote_cell_type": "markdown"
      }
    },
    {
      "cell_type": "code",
      "source": [
        "# Libreria Core del lab.\n",
        "import os\n",
        "import numpy as np\n",
        "import pandas as pd\n",
        "import datetime\n",
        "from IPython.display import HTML\n",
        "\n",
        "# Libreria para plotear (En colab esta desactualizado plotly)\n",
        "!pip install --upgrade plotly\n",
        "import plotly.express as px\n",
        "import plotly.graph_objects as go\n",
        "\n",
        "# Librerias utiles\n",
        "from sklearn.manifold import TSNE\n",
        "from sklearn.cluster import KMeans\n",
        "from sklearn.base import BaseEstimator, TransformerMixin\n",
        "from sklearn.model_selection import train_test_split \n",
        "from sklearn.pipeline import Pipeline\n",
        "from sklearn.compose import ColumnTransformer\n",
        "from sklearn.preprocessing import MinMaxScaler\n",
        "from sklearn.preprocessing import FunctionTransformer"
      ],
      "metadata": {
        "id": "uyc33dKdzAHy",
        "colab": {
          "base_uri": "https://localhost:8080/"
        },
        "cell_id": "67b4b29f0e6b48719b58d579276f2b19",
        "outputId": "6c4c5f53-3b2d-4b89-b219-ad4965c297c5",
        "ExecuteTime": {
          "end_time": "2021-03-29T00:08:16.884674Z",
          "start_time": "2021-03-29T00:08:16.349846Z"
        },
        "source_hash": "a3741fd5",
        "execution_start": 1635469788590,
        "execution_millis": 8517,
        "deepnote_cell_height": 514.13330078125,
        "deepnote_to_be_reexecuted": false,
        "deepnote_cell_type": "code"
      },
      "outputs": [
        {
          "output_type": "stream",
          "name": "stdout",
          "text": [
            "Looking in indexes: https://pypi.org/simple, https://us-python.pkg.dev/colab-wheels/public/simple/\n",
            "Requirement already satisfied: plotly in /usr/local/lib/python3.10/dist-packages (5.13.1)\n",
            "Collecting plotly\n",
            "  Downloading plotly-5.14.1-py2.py3-none-any.whl (15.3 MB)\n",
            "\u001b[2K     \u001b[90m━━━━━━━━━━━━━━━━━━━━━━━━━━━━━━━━━━━━━━━━\u001b[0m \u001b[32m15.3/15.3 MB\u001b[0m \u001b[31m36.1 MB/s\u001b[0m eta \u001b[36m0:00:00\u001b[0m\n",
            "\u001b[?25hRequirement already satisfied: tenacity>=6.2.0 in /usr/local/lib/python3.10/dist-packages (from plotly) (8.2.2)\n",
            "Requirement already satisfied: packaging in /usr/local/lib/python3.10/dist-packages (from plotly) (23.1)\n",
            "Installing collected packages: plotly\n",
            "  Attempting uninstall: plotly\n",
            "    Found existing installation: plotly 5.13.1\n",
            "    Uninstalling plotly-5.13.1:\n",
            "      Successfully uninstalled plotly-5.13.1\n",
            "Successfully installed plotly-5.14.1\n"
          ]
        }
      ],
      "execution_count": 2
    },
    {
      "cell_type": "code",
      "source": [
        "# Si usted está utilizando Colabolatory le puede ser útil este código para cargar los archivos.\n",
        "try:\n",
        "    from google.colab import drive\n",
        "    drive.mount(\"/content/drive\")\n",
        "    path = '/content/drive/MyDrive/Laboratorios'\n",
        "except: \n",
        "    print('Ignorando conexión drive-colab')\n",
        "\n",
        "os.chdir(path)"
      ],
      "metadata": {
        "id": "gQ0-zPV4NNrq",
        "cell_id": "ce6a19ec6fc6486e832760ac3740d7ef",
        "source_hash": "c60dc4a7",
        "execution_start": 1635165625274,
        "execution_millis": 7,
        "deepnote_cell_height": 219.46665954589844,
        "deepnote_to_be_reexecuted": false,
        "deepnote_cell_type": "code",
        "colab": {
          "base_uri": "https://localhost:8080/"
        },
        "outputId": "c6e6d509-4dde-4839-c3a6-393c2ad4debf"
      },
      "outputs": [
        {
          "output_type": "stream",
          "name": "stdout",
          "text": [
            "Mounted at /content/drive\n"
          ]
        }
      ],
      "execution_count": 3
    },
    {
      "cell_type": "markdown",
      "source": [
        "# Segmentación de Clientes en Tienda de Retail 🛍️"
      ],
      "metadata": {
        "id": "QDwIXTh7bK_A",
        "cell_id": "28c7a8b483d84878ac5a4f7ba882b711",
        "owner_user_id": "badcc427-fd3d-4615-9296-faa43ec69cfb",
        "deepnote_cell_height": 133.86666870117188,
        "deepnote_cell_type": "markdown"
      }
    },
    {
      "cell_type": "markdown",
      "source": [
        "<p align=\"center\">\n",
        "  <img width=300 src=\"https://s1.eestatic.com/2018/04/14/social/la_jungla_-_social_299733421_73842361_854x640.jpg\">\n",
        "</p>"
      ],
      "metadata": {
        "tags": [],
        "cell_id": "6c6799ecc9e74272922d46a3b5a8b79e",
        "deepnote_cell_height": 294.683349609375,
        "deepnote_cell_type": "markdown",
        "id": "VargIlwd76R2"
      }
    },
    {
      "cell_type": "markdown",
      "source": [
        "## 1.1 Cargar Dataset"
      ],
      "metadata": {
        "tags": [],
        "cell_id": "160bb2695f6547448bfb0f99420f952c",
        "deepnote_cell_height": 69.86666870117188,
        "deepnote_cell_type": "markdown",
        "id": "UCJR73sk76R3"
      }
    },
    {
      "cell_type": "markdown",
      "source": [
        "Mr. Lepin, en una nueva reunión, le cuenta a ud y su equipo que los resultados derivados del análisis exploratorio de dato presentaron una gran utilidad para la empresa y que tiene un gran entusiasmo por continuar trabajando con ustedes.\n",
        "Es por esto, que Mr. Lepin les pide que cargue y visualicen algunas de las filas que componen el Dataset.\n",
        "A continuación un extracto de lo parlamentado en la reunión:\n",
        "\n",
        "    - Usted: Es un gran logro para nuestro equipo que usted haya encontrado excelente el EDA. ¿Qué tiene en mente ahora?\n",
        "    - Mr. Lepin: Resulta que hace algún tiempo, mientras tomaba un mojito en una reunión de gerentes en Panamá, oí a un *chato* acerca de **LRMFP**, que es un modelo que permite personificar a los clientes a través de la fabricación de distintos atributos que describen a los clientes. Lo encontré es-tu-pendo ñatito. \n",
        "    - Usted: Ehh bueno. Investigaremos acerca de este modelo y veremos lo que podemos hacer.\n",
        "\n",
        "Por ende, su siguiente tarea es calcular **LRMFP** sobre cada cliente y luego hacer un análisis de las características generadas. Para esto, el área de ventas les entrega un nuevo archivo llamado `online_retail_II_cleaned.pickle`, quien posee los datos del DataFrame original limpios y listos para obtener las características solicitadas por Mr. Lepin."
      ],
      "metadata": {
        "tags": [],
        "cell_id": "48d29c89e3b6455083f8fac764f97f3b",
        "deepnote_cell_height": 475.066650390625,
        "deepnote_cell_type": "markdown",
        "id": "EqUHhFuP76R4"
      }
    },
    {
      "cell_type": "code",
      "source": [
        "df_retail = pd.read_pickle(\"online_retail_II_cleaned.pickle\")\n",
        "df_retail = df_retail.astype(\n",
        "    {\n",
        "        \"Invoice\": \"category\",\n",
        "        \"StockCode\": \"category\",\n",
        "        \"Description\": \"category\",\n",
        "        \"Description\": str,\n",
        "        \"Customer ID\": \"category\",\n",
        "        \"Country\": \"category\"\n",
        "    }\n",
        ")\n",
        "df_retail.head()"
      ],
      "metadata": {
        "id": "7FNOu-CvjV5m",
        "colab": {
          "height": 206,
          "base_uri": "https://localhost:8080/"
        },
        "cell_id": "4d7d0f0855744e6c9d5a2198e5dcd690",
        "outputId": "3ba5819b-600c-45b3-a8ce-3504569148ba",
        "source_hash": "d52b246c",
        "execution_start": 1635469797118,
        "execution_millis": 466,
        "deepnote_cell_height": 489.79998779296875,
        "deepnote_output_heights": [
          177
        ],
        "deepnote_to_be_reexecuted": false,
        "deepnote_cell_type": "code"
      },
      "outputs": [
        {
          "output_type": "execute_result",
          "data": {
            "text/plain": [
              "  Invoice StockCode                          Description  Quantity  \\\n",
              "0  489434     85048  15CM CHRISTMAS GLASS BALL 20 LIGHTS        12   \n",
              "1  489434    79323P                   PINK CHERRY LIGHTS        12   \n",
              "2  489434    79323W                  WHITE CHERRY LIGHTS        12   \n",
              "3  489434     22041         RECORD FRAME 7\" SINGLE SIZE         48   \n",
              "4  489434     21232       STRAWBERRY CERAMIC TRINKET BOX        24   \n",
              "\n",
              "          InvoiceDate  Price Customer ID         Country  \n",
              "0 2009-12-01 07:45:00   6.95     13085.0  United Kingdom  \n",
              "1 2009-12-01 07:45:00   6.75     13085.0  United Kingdom  \n",
              "2 2009-12-01 07:45:00   6.75     13085.0  United Kingdom  \n",
              "3 2009-12-01 07:45:00   2.10     13085.0  United Kingdom  \n",
              "4 2009-12-01 07:45:00   1.25     13085.0  United Kingdom  "
            ],
            "text/html": [
              "\n",
              "  <div id=\"df-61c3d6e6-8ab2-44df-b27c-4052f3143195\">\n",
              "    <div class=\"colab-df-container\">\n",
              "      <div>\n",
              "<style scoped>\n",
              "    .dataframe tbody tr th:only-of-type {\n",
              "        vertical-align: middle;\n",
              "    }\n",
              "\n",
              "    .dataframe tbody tr th {\n",
              "        vertical-align: top;\n",
              "    }\n",
              "\n",
              "    .dataframe thead th {\n",
              "        text-align: right;\n",
              "    }\n",
              "</style>\n",
              "<table border=\"1\" class=\"dataframe\">\n",
              "  <thead>\n",
              "    <tr style=\"text-align: right;\">\n",
              "      <th></th>\n",
              "      <th>Invoice</th>\n",
              "      <th>StockCode</th>\n",
              "      <th>Description</th>\n",
              "      <th>Quantity</th>\n",
              "      <th>InvoiceDate</th>\n",
              "      <th>Price</th>\n",
              "      <th>Customer ID</th>\n",
              "      <th>Country</th>\n",
              "    </tr>\n",
              "  </thead>\n",
              "  <tbody>\n",
              "    <tr>\n",
              "      <th>0</th>\n",
              "      <td>489434</td>\n",
              "      <td>85048</td>\n",
              "      <td>15CM CHRISTMAS GLASS BALL 20 LIGHTS</td>\n",
              "      <td>12</td>\n",
              "      <td>2009-12-01 07:45:00</td>\n",
              "      <td>6.95</td>\n",
              "      <td>13085.0</td>\n",
              "      <td>United Kingdom</td>\n",
              "    </tr>\n",
              "    <tr>\n",
              "      <th>1</th>\n",
              "      <td>489434</td>\n",
              "      <td>79323P</td>\n",
              "      <td>PINK CHERRY LIGHTS</td>\n",
              "      <td>12</td>\n",
              "      <td>2009-12-01 07:45:00</td>\n",
              "      <td>6.75</td>\n",
              "      <td>13085.0</td>\n",
              "      <td>United Kingdom</td>\n",
              "    </tr>\n",
              "    <tr>\n",
              "      <th>2</th>\n",
              "      <td>489434</td>\n",
              "      <td>79323W</td>\n",
              "      <td>WHITE CHERRY LIGHTS</td>\n",
              "      <td>12</td>\n",
              "      <td>2009-12-01 07:45:00</td>\n",
              "      <td>6.75</td>\n",
              "      <td>13085.0</td>\n",
              "      <td>United Kingdom</td>\n",
              "    </tr>\n",
              "    <tr>\n",
              "      <th>3</th>\n",
              "      <td>489434</td>\n",
              "      <td>22041</td>\n",
              "      <td>RECORD FRAME 7\" SINGLE SIZE</td>\n",
              "      <td>48</td>\n",
              "      <td>2009-12-01 07:45:00</td>\n",
              "      <td>2.10</td>\n",
              "      <td>13085.0</td>\n",
              "      <td>United Kingdom</td>\n",
              "    </tr>\n",
              "    <tr>\n",
              "      <th>4</th>\n",
              "      <td>489434</td>\n",
              "      <td>21232</td>\n",
              "      <td>STRAWBERRY CERAMIC TRINKET BOX</td>\n",
              "      <td>24</td>\n",
              "      <td>2009-12-01 07:45:00</td>\n",
              "      <td>1.25</td>\n",
              "      <td>13085.0</td>\n",
              "      <td>United Kingdom</td>\n",
              "    </tr>\n",
              "  </tbody>\n",
              "</table>\n",
              "</div>\n",
              "      <button class=\"colab-df-convert\" onclick=\"convertToInteractive('df-61c3d6e6-8ab2-44df-b27c-4052f3143195')\"\n",
              "              title=\"Convert this dataframe to an interactive table.\"\n",
              "              style=\"display:none;\">\n",
              "        \n",
              "  <svg xmlns=\"http://www.w3.org/2000/svg\" height=\"24px\"viewBox=\"0 0 24 24\"\n",
              "       width=\"24px\">\n",
              "    <path d=\"M0 0h24v24H0V0z\" fill=\"none\"/>\n",
              "    <path d=\"M18.56 5.44l.94 2.06.94-2.06 2.06-.94-2.06-.94-.94-2.06-.94 2.06-2.06.94zm-11 1L8.5 8.5l.94-2.06 2.06-.94-2.06-.94L8.5 2.5l-.94 2.06-2.06.94zm10 10l.94 2.06.94-2.06 2.06-.94-2.06-.94-.94-2.06-.94 2.06-2.06.94z\"/><path d=\"M17.41 7.96l-1.37-1.37c-.4-.4-.92-.59-1.43-.59-.52 0-1.04.2-1.43.59L10.3 9.45l-7.72 7.72c-.78.78-.78 2.05 0 2.83L4 21.41c.39.39.9.59 1.41.59.51 0 1.02-.2 1.41-.59l7.78-7.78 2.81-2.81c.8-.78.8-2.07 0-2.86zM5.41 20L4 18.59l7.72-7.72 1.47 1.35L5.41 20z\"/>\n",
              "  </svg>\n",
              "      </button>\n",
              "      \n",
              "  <style>\n",
              "    .colab-df-container {\n",
              "      display:flex;\n",
              "      flex-wrap:wrap;\n",
              "      gap: 12px;\n",
              "    }\n",
              "\n",
              "    .colab-df-convert {\n",
              "      background-color: #E8F0FE;\n",
              "      border: none;\n",
              "      border-radius: 50%;\n",
              "      cursor: pointer;\n",
              "      display: none;\n",
              "      fill: #1967D2;\n",
              "      height: 32px;\n",
              "      padding: 0 0 0 0;\n",
              "      width: 32px;\n",
              "    }\n",
              "\n",
              "    .colab-df-convert:hover {\n",
              "      background-color: #E2EBFA;\n",
              "      box-shadow: 0px 1px 2px rgba(60, 64, 67, 0.3), 0px 1px 3px 1px rgba(60, 64, 67, 0.15);\n",
              "      fill: #174EA6;\n",
              "    }\n",
              "\n",
              "    [theme=dark] .colab-df-convert {\n",
              "      background-color: #3B4455;\n",
              "      fill: #D2E3FC;\n",
              "    }\n",
              "\n",
              "    [theme=dark] .colab-df-convert:hover {\n",
              "      background-color: #434B5C;\n",
              "      box-shadow: 0px 1px 3px 1px rgba(0, 0, 0, 0.15);\n",
              "      filter: drop-shadow(0px 1px 2px rgba(0, 0, 0, 0.3));\n",
              "      fill: #FFFFFF;\n",
              "    }\n",
              "  </style>\n",
              "\n",
              "      <script>\n",
              "        const buttonEl =\n",
              "          document.querySelector('#df-61c3d6e6-8ab2-44df-b27c-4052f3143195 button.colab-df-convert');\n",
              "        buttonEl.style.display =\n",
              "          google.colab.kernel.accessAllowed ? 'block' : 'none';\n",
              "\n",
              "        async function convertToInteractive(key) {\n",
              "          const element = document.querySelector('#df-61c3d6e6-8ab2-44df-b27c-4052f3143195');\n",
              "          const dataTable =\n",
              "            await google.colab.kernel.invokeFunction('convertToInteractive',\n",
              "                                                     [key], {});\n",
              "          if (!dataTable) return;\n",
              "\n",
              "          const docLinkHtml = 'Like what you see? Visit the ' +\n",
              "            '<a target=\"_blank\" href=https://colab.research.google.com/notebooks/data_table.ipynb>data table notebook</a>'\n",
              "            + ' to learn more about interactive tables.';\n",
              "          element.innerHTML = '';\n",
              "          dataTable['output_type'] = 'display_data';\n",
              "          await google.colab.output.renderOutput(dataTable, element);\n",
              "          const docLink = document.createElement('div');\n",
              "          docLink.innerHTML = docLinkHtml;\n",
              "          element.appendChild(docLink);\n",
              "        }\n",
              "      </script>\n",
              "    </div>\n",
              "  </div>\n",
              "  "
            ]
          },
          "metadata": {},
          "execution_count": 4
        }
      ],
      "execution_count": 4
    },
    {
      "cell_type": "markdown",
      "source": [
        "## 1.2 Creación de nuevas Caracteristicas [2 Puntos] "
      ],
      "metadata": {
        "tags": [],
        "cell_id": "060e1885d93d4325a313fded82de1921",
        "deepnote_cell_height": 109.86666870117188,
        "deepnote_cell_type": "markdown",
        "id": "xlF7g1io76R7"
      }
    },
    {
      "cell_type": "markdown",
      "source": [
        "Como ya se les comento, Mr. Lepin esta interesado en obtener las características **LRMFP**, para esto les señala que estas características se construyen en base a las siguientes definiciones:\n",
        "\n",
        "- **Length (L)**: Intervalo de tiempo, en días, entre la primera y la última visita del cliente. Mientras mas grande sea el valor, mas fiel es el cliente.\n",
        "\n",
        "- **Recency (R)**: Indica hace cuanto tiempo el cliente realizo su ultima compra. Notar que para este caso, mientras mas grande es el valor, menos interes posee el usuario para repetir una compra en uno de los locales.\n",
        "\n",
        "- **Monetary (M)**: El término \"monetario\" se refiere a la cantidad media de dinero gastada por cada visita del cliente durante el período de observación y refleja la contribución del cliente a los ingresos de la empresa.\n",
        "\n",
        "- **Frequency (F)**: Se refiere al número total de visitas del cliente durante el periodo de observación. Cuanto mayor sea la frecuencia, mayor será la fidelidad del cliente. \n",
        "\n",
        "- **Periodicity (P)**: Representa si los clientes visitan las tiendas con regularidad.\n",
        "\n",
        "$$Periodicity(n)=std(IVT_1, ..., IVT_n)$$\n",
        "\n",
        "&nbsp;&nbsp; &nbsp;&nbsp;&nbsp;&nbsp;&nbsp;&nbsp;Donde $IVT$ denota el tiempo entre visitas y n representa el número de valores de tiempo entre visitas de un cliente.\n",
        " \n",
        "\n",
        "$$IVT_i=date\\_diff(t_{i+1},t)$$\n",
        "\n",
        "En base a las definiciones señaladas, diseñe una función que permita obtener las características **LRMFP** recibiendo un DataFrame como entrada. Para esto, no estará permitido el uso de iteradores, utilice todas las herramientas que les ofrece `pandas` para realizar esto.\n",
        "\n",
        "Una referencia que le puede ser útil es el [documento original](https://www.researchgate.net/publication/315979555_LRFMP_model_for_customer_segmentation_in_the_grocery_retail_industry_a_case_study) en donde se propone este método."
      ],
      "metadata": {
        "tags": [],
        "cell_id": "e650f364c9c64b079603f6d9312d2d13",
        "deepnote_cell_height": 862.933349609375,
        "deepnote_cell_type": "markdown",
        "id": "SeEagpnE76R8"
      }
    },
    {
      "cell_type": "markdown",
      "source": [
        "**Ejemplo de Resultado Esperado:**\n",
        "\n",
        "| Customer ID | Length | Recency | Frequency | Monetary | Periodicity |\n",
        "|------------:|-------:|--------:|----------:|---------:|------------:|\n",
        "|   12346.0   |    294 |      67 |        46 |   -64.68 |        37.0 |\n",
        "|   12347.0   |     37 |       3 |        71 |  1323.32 |         0.0 |\n",
        "|   12349.0   |    327 |      43 |       107 |  2646.99 |        78.0 |\n",
        "|   12352.0   |     16 |      11 |        18 |   343.80 |         0.0 |\n",
        "|   12356.0   |     44 |      16 |        84 |  3562.25 |        12.0 |"
      ],
      "metadata": {
        "tags": [],
        "cell_id": "bee8d549c7c043a5b0cafae0543afadf",
        "deepnote_cell_height": 212.6666717529297,
        "deepnote_cell_type": "markdown",
        "id": "7JSNdgkT76R8"
      }
    },
    {
      "cell_type": "markdown",
      "source": [
        "**Respuesta:**"
      ],
      "metadata": {
        "tags": [],
        "cell_id": "3c7f8a4a06a44cbd8d50e8a4decf4c71",
        "deepnote_cell_height": 52.26666259765625,
        "deepnote_cell_type": "markdown",
        "id": "gzR_BVKl76R9"
      }
    },
    {
      "cell_type": "code",
      "source": [
        "def custom_features(dataframe_in):\n",
        "    # Length (L)\n",
        "    grouped = dataframe_in.groupby('Customer ID')['InvoiceDate'].agg(['min', 'max'])\n",
        "    grouped['Length'] = (grouped['max'] - grouped['min']).dt.days\n",
        "    \n",
        "    # Recency (R)\n",
        "    current_date = dataframe_in['InvoiceDate'].max()\n",
        "    grouped['Recency'] = (current_date - grouped['max']).dt.days + 1\n",
        "\n",
        "    # Frequency (F)\n",
        "    grouped['Frequency'] = dataframe_in.groupby('Customer ID').size()\n",
        "    \n",
        "    # Monetary (M)\n",
        "    dataframe_in['Monetary'] = dataframe_in['Price'] * dataframe_in['Quantity']\n",
        "    grouped['Monetary'] = np.round(dataframe_in.groupby('Customer ID')['Monetary'].mean(), decimals=2)\n",
        "    \n",
        "    # Periodicity (P)\n",
        "    dataframe_in['IVT'] = dataframe_in.groupby('Customer ID')['InvoiceDate'].diff().dt.days\n",
        "    grouped['Periodicity'] = np.round(dataframe_in.groupby('Customer ID')['IVT'].std(), decimals=2)\n",
        "    \n",
        "    # Eliminamos las columnas y filas que no sirven\n",
        "    dataframe_in.drop(columns='IVT', inplace=True)\n",
        "    grouped.drop(columns=['min', 'max'], inplace=True)\n",
        "    grouped = grouped[grouped['Length'] > 0]\n",
        "    \n",
        "    return pd.DataFrame(grouped)"
      ],
      "metadata": {
        "tags": [],
        "cell_id": "39a8b98eacdc43a4bdfeaa138b746198",
        "owner_user_id": "8c58f50a-7a08-41a2-952e-38bdb7507048",
        "deepnote_cell_height": 83.86666870117188,
        "deepnote_cell_type": "code",
        "id": "u3Mm-bV376R9"
      },
      "outputs": [],
      "execution_count": 5
    },
    {
      "cell_type": "code",
      "source": [
        "custom_features(df_retail).head()"
      ],
      "metadata": {
        "colab": {
          "base_uri": "https://localhost:8080/",
          "height": 238
        },
        "id": "enoqZSW0FmYz",
        "outputId": "596d0157-d2a8-4e2f-abac-fdeb1f745401"
      },
      "execution_count": 6,
      "outputs": [
        {
          "output_type": "execute_result",
          "data": {
            "text/plain": [
              "             Length  Recency  Frequency  Monetary  Periodicity\n",
              "Customer ID                                                   \n",
              "12346.0         196      165         33     11.30        21.72\n",
              "12347.0          37        3         71     18.64         4.42\n",
              "12349.0         181       43        102     26.19        16.20\n",
              "12352.0          16       11         18     19.10         3.88\n",
              "12356.0          44       16         83     42.90         3.66"
            ],
            "text/html": [
              "\n",
              "  <div id=\"df-d9166786-a65f-4d73-bf1a-1263c8c78d68\">\n",
              "    <div class=\"colab-df-container\">\n",
              "      <div>\n",
              "<style scoped>\n",
              "    .dataframe tbody tr th:only-of-type {\n",
              "        vertical-align: middle;\n",
              "    }\n",
              "\n",
              "    .dataframe tbody tr th {\n",
              "        vertical-align: top;\n",
              "    }\n",
              "\n",
              "    .dataframe thead th {\n",
              "        text-align: right;\n",
              "    }\n",
              "</style>\n",
              "<table border=\"1\" class=\"dataframe\">\n",
              "  <thead>\n",
              "    <tr style=\"text-align: right;\">\n",
              "      <th></th>\n",
              "      <th>Length</th>\n",
              "      <th>Recency</th>\n",
              "      <th>Frequency</th>\n",
              "      <th>Monetary</th>\n",
              "      <th>Periodicity</th>\n",
              "    </tr>\n",
              "    <tr>\n",
              "      <th>Customer ID</th>\n",
              "      <th></th>\n",
              "      <th></th>\n",
              "      <th></th>\n",
              "      <th></th>\n",
              "      <th></th>\n",
              "    </tr>\n",
              "  </thead>\n",
              "  <tbody>\n",
              "    <tr>\n",
              "      <th>12346.0</th>\n",
              "      <td>196</td>\n",
              "      <td>165</td>\n",
              "      <td>33</td>\n",
              "      <td>11.30</td>\n",
              "      <td>21.72</td>\n",
              "    </tr>\n",
              "    <tr>\n",
              "      <th>12347.0</th>\n",
              "      <td>37</td>\n",
              "      <td>3</td>\n",
              "      <td>71</td>\n",
              "      <td>18.64</td>\n",
              "      <td>4.42</td>\n",
              "    </tr>\n",
              "    <tr>\n",
              "      <th>12349.0</th>\n",
              "      <td>181</td>\n",
              "      <td>43</td>\n",
              "      <td>102</td>\n",
              "      <td>26.19</td>\n",
              "      <td>16.20</td>\n",
              "    </tr>\n",
              "    <tr>\n",
              "      <th>12352.0</th>\n",
              "      <td>16</td>\n",
              "      <td>11</td>\n",
              "      <td>18</td>\n",
              "      <td>19.10</td>\n",
              "      <td>3.88</td>\n",
              "    </tr>\n",
              "    <tr>\n",
              "      <th>12356.0</th>\n",
              "      <td>44</td>\n",
              "      <td>16</td>\n",
              "      <td>83</td>\n",
              "      <td>42.90</td>\n",
              "      <td>3.66</td>\n",
              "    </tr>\n",
              "  </tbody>\n",
              "</table>\n",
              "</div>\n",
              "      <button class=\"colab-df-convert\" onclick=\"convertToInteractive('df-d9166786-a65f-4d73-bf1a-1263c8c78d68')\"\n",
              "              title=\"Convert this dataframe to an interactive table.\"\n",
              "              style=\"display:none;\">\n",
              "        \n",
              "  <svg xmlns=\"http://www.w3.org/2000/svg\" height=\"24px\"viewBox=\"0 0 24 24\"\n",
              "       width=\"24px\">\n",
              "    <path d=\"M0 0h24v24H0V0z\" fill=\"none\"/>\n",
              "    <path d=\"M18.56 5.44l.94 2.06.94-2.06 2.06-.94-2.06-.94-.94-2.06-.94 2.06-2.06.94zm-11 1L8.5 8.5l.94-2.06 2.06-.94-2.06-.94L8.5 2.5l-.94 2.06-2.06.94zm10 10l.94 2.06.94-2.06 2.06-.94-2.06-.94-.94-2.06-.94 2.06-2.06.94z\"/><path d=\"M17.41 7.96l-1.37-1.37c-.4-.4-.92-.59-1.43-.59-.52 0-1.04.2-1.43.59L10.3 9.45l-7.72 7.72c-.78.78-.78 2.05 0 2.83L4 21.41c.39.39.9.59 1.41.59.51 0 1.02-.2 1.41-.59l7.78-7.78 2.81-2.81c.8-.78.8-2.07 0-2.86zM5.41 20L4 18.59l7.72-7.72 1.47 1.35L5.41 20z\"/>\n",
              "  </svg>\n",
              "      </button>\n",
              "      \n",
              "  <style>\n",
              "    .colab-df-container {\n",
              "      display:flex;\n",
              "      flex-wrap:wrap;\n",
              "      gap: 12px;\n",
              "    }\n",
              "\n",
              "    .colab-df-convert {\n",
              "      background-color: #E8F0FE;\n",
              "      border: none;\n",
              "      border-radius: 50%;\n",
              "      cursor: pointer;\n",
              "      display: none;\n",
              "      fill: #1967D2;\n",
              "      height: 32px;\n",
              "      padding: 0 0 0 0;\n",
              "      width: 32px;\n",
              "    }\n",
              "\n",
              "    .colab-df-convert:hover {\n",
              "      background-color: #E2EBFA;\n",
              "      box-shadow: 0px 1px 2px rgba(60, 64, 67, 0.3), 0px 1px 3px 1px rgba(60, 64, 67, 0.15);\n",
              "      fill: #174EA6;\n",
              "    }\n",
              "\n",
              "    [theme=dark] .colab-df-convert {\n",
              "      background-color: #3B4455;\n",
              "      fill: #D2E3FC;\n",
              "    }\n",
              "\n",
              "    [theme=dark] .colab-df-convert:hover {\n",
              "      background-color: #434B5C;\n",
              "      box-shadow: 0px 1px 3px 1px rgba(0, 0, 0, 0.15);\n",
              "      filter: drop-shadow(0px 1px 2px rgba(0, 0, 0, 0.3));\n",
              "      fill: #FFFFFF;\n",
              "    }\n",
              "  </style>\n",
              "\n",
              "      <script>\n",
              "        const buttonEl =\n",
              "          document.querySelector('#df-d9166786-a65f-4d73-bf1a-1263c8c78d68 button.colab-df-convert');\n",
              "        buttonEl.style.display =\n",
              "          google.colab.kernel.accessAllowed ? 'block' : 'none';\n",
              "\n",
              "        async function convertToInteractive(key) {\n",
              "          const element = document.querySelector('#df-d9166786-a65f-4d73-bf1a-1263c8c78d68');\n",
              "          const dataTable =\n",
              "            await google.colab.kernel.invokeFunction('convertToInteractive',\n",
              "                                                     [key], {});\n",
              "          if (!dataTable) return;\n",
              "\n",
              "          const docLinkHtml = 'Like what you see? Visit the ' +\n",
              "            '<a target=\"_blank\" href=https://colab.research.google.com/notebooks/data_table.ipynb>data table notebook</a>'\n",
              "            + ' to learn more about interactive tables.';\n",
              "          element.innerHTML = '';\n",
              "          dataTable['output_type'] = 'display_data';\n",
              "          await google.colab.output.renderOutput(dataTable, element);\n",
              "          const docLink = document.createElement('div');\n",
              "          docLink.innerHTML = docLinkHtml;\n",
              "          element.appendChild(docLink);\n",
              "        }\n",
              "      </script>\n",
              "    </div>\n",
              "  </div>\n",
              "  "
            ]
          },
          "metadata": {},
          "execution_count": 6
        }
      ]
    },
    {
      "cell_type": "markdown",
      "source": [
        "**Resúesta de Pauta:**"
      ],
      "metadata": {
        "tags": [],
        "cell_id": "e227578abc624b36bedcf300ab03dec3",
        "deepnote_cell_height": 52.26666259765625,
        "deepnote_cell_type": "markdown",
        "id": "9Z3fDnZh76R9"
      }
    },
    {
      "cell_type": "markdown",
      "source": [
        "## 1.3 Pipelines 👷"
      ],
      "metadata": {
        "tags": [],
        "cell_id": "e4adca3e05c741df93087e2a0638ef7d",
        "deepnote_cell_height": 69.86666870117188,
        "deepnote_cell_type": "markdown",
        "id": "iKiOnlZs76R-"
      }
    },
    {
      "cell_type": "markdown",
      "source": [
        "Finalmente *Don Mora* le pregunta si seria posible realizar un pipeline para realizar una segmentación de los clientes con los nuevos datos generados, a lo que usted responde que **sí** y propone la utilización de k-means para la segmentación.\n",
        "\n",
        "A continuación siga los pasos requeridos para obtener la segmentación de clientes."
      ],
      "metadata": {
        "tags": [],
        "cell_id": "20e2c59abf64489d8cabc5c230e86fd2",
        "deepnote_cell_height": 133.46665954589844,
        "deepnote_cell_type": "markdown",
        "id": "wp0EtXyP76R-"
      }
    },
    {
      "cell_type": "markdown",
      "source": [
        "### 1.3.1 Estandarizar Caracteristicas [0.5 puntos]"
      ],
      "metadata": {
        "tags": [],
        "cell_id": "c6162b8b49a045bba12f9b17b51f21bf",
        "deepnote_cell_height": 61.866668701171875,
        "deepnote_cell_type": "markdown",
        "id": "YfmS5V5j76R-"
      }
    },
    {
      "cell_type": "markdown",
      "source": [
        "Construya una clase llamada ``MinMax()`` utilizando ``BaseEstimator`` y ``TransformerMixin`` para realizar una transformación de cada una de las columnas de un DataFrame utilizando ``ColumnTransformer()`` más tarde (tome como referencia el siguiente [enlace](https://sklearn-template.readthedocs.io/en/latest/user_guide.html#transformer)).\n",
        "\n",
        "\n",
        " Para esto considere que Min-Max escaler queda dada por la ecuación:\n",
        "\n",
        "$$MinMax = \\dfrac{x-min(x)}{max(x) - min(x)}$$\n",
        "\n",
        "Con esto buscamos que los valores que componen a las columnas se muevan en el rango de valores $[0, 1]$."
      ],
      "metadata": {
        "tags": [],
        "cell_id": "94c48775ecb4496d970fbd920f65c126",
        "deepnote_cell_height": 268.70001220703125,
        "deepnote_cell_type": "markdown",
        "id": "Hpy0QZfS76R_"
      }
    },
    {
      "cell_type": "markdown",
      "source": [
        "**Respuesta:**"
      ],
      "metadata": {
        "tags": [],
        "cell_id": "c087d1fa8aa94d7485fe1292bf628660",
        "deepnote_cell_height": 52.26666259765625,
        "deepnote_cell_type": "markdown",
        "id": "HGOfp0BI76R_"
      }
    },
    {
      "cell_type": "code",
      "source": [
        "class MinMax(BaseEstimator, TransformerMixin):\n",
        "    def __init__(self):\n",
        "        self.scaler = MinMaxScaler()\n",
        "    \n",
        "    def fit(self, X, y=None):\n",
        "        self.scaler.fit(X)\n",
        "        return self\n",
        "    \n",
        "    def transform(self, X, y=None):\n",
        "        return self.scaler.transform(X)\n",
        "    \n",
        "    def fit_transform(self, X, y=None):\n",
        "        return self.scaler.fit_transform(X)"
      ],
      "metadata": {
        "tags": [],
        "cell_id": "07cb4dcf097c4c6baabb9ae2bda25caf",
        "deepnote_cell_height": 83.86666870117188,
        "deepnote_cell_type": "code",
        "id": "usizUdf576R_"
      },
      "outputs": [],
      "execution_count": 7
    },
    {
      "cell_type": "markdown",
      "source": [
        "### 1.3.2 `T-SNE` Pipeline [1.0 puntos]"
      ],
      "metadata": {
        "tags": [],
        "cell_id": "b280dbe181ce4d80a6a5b5f563c842e7",
        "deepnote_cell_height": 62.19999694824219,
        "deepnote_cell_type": "markdown",
        "id": "bkJVCavZ76R_"
      }
    },
    {
      "cell_type": "markdown",
      "source": [
        "Para comenzar introduciéndose en el uso de pipeline, decide probar realizando un pipeline enfocado en la reducción de dimensionalidad y así hacer no decepcionar a Mr. Lepin con la clusterización del modelo. \n",
        "\n",
        "Configure un pipeline utilizando el algoritmo `T-SNE` sobre los datos **LRMFP**, donde, para la realización del pipeline considera los siguientes pasos:\n",
        "\n",
        "1. Como primer paso obtenga las características **LRMFP** desde el DataFrame ``df_retail_II_cleaned.pickle`` utilizando la función ``custom_features`` creada anteriormente, junto a ``FunctionTransformer()``. Considere esto como el primer paso de su pipeline.\n",
        "2. En segundo lugar usando ``ColumnTransformer()`` aplique el MinxMax scaler creado por usted sobre todas las columnas generadas en el paso anterior. \n",
        "3. Finalmente, aplique un último paso donde obtiene las 2 componentes más relevantes utilizando el algoritmo `T-SNE` de sckit-learn.\n",
        "\n",
        "Tras aplicar las transformaciones sobre el dataset **LRMFP**, gráfique las componentes obtenidas en la reducción de dimensionalidad."
      ],
      "metadata": {
        "tags": [],
        "cell_id": "c532e63f2fd541cda5b741d2f24c1ea8",
        "deepnote_cell_height": 413.8666687011719,
        "deepnote_cell_type": "markdown",
        "id": "lhEX-3b276SC"
      }
    },
    {
      "cell_type": "markdown",
      "source": [
        "**Respuesta:**"
      ],
      "metadata": {
        "tags": [],
        "cell_id": "a480355952a34b6cb7e72afa764091d6",
        "deepnote_cell_height": 52.26666259765625,
        "deepnote_cell_type": "markdown",
        "id": "o3n8L4bA76SC"
      }
    },
    {
      "cell_type": "code",
      "source": [
        "# Paso 1: Obtener las características LRMFP utilizando custom_features y FunctionTransformer\n",
        "feature_extractor = FunctionTransformer(custom_features)\n",
        "\n",
        "# Paso 2: Aplicar MinMax scaler a todas las columnas generadas\n",
        "minmax_scaler = MinMax()\n",
        "\n",
        "# Paso 3: Reducción de dimensionalidad con T-SNE\n",
        "tsne = TSNE(n_components=2)\n",
        "\n",
        "# Creamos el ColumnTransformer para aplicar el escalado MinMax\n",
        "column_transformer = ColumnTransformer(\n",
        "    transformers=[('minmax', minmax_scaler, slice(0, -1))]  # Excluye la última columna 'Periodicity'\n",
        ")\n",
        "\n",
        "# Creamos el pipeline con los pasos definidos\n",
        "pipeline = Pipeline([\n",
        "    ('features', feature_extractor),\n",
        "    ('scaling', column_transformer),\n",
        "    ('tsne', tsne)\n",
        "])\n",
        "\n",
        "# Aplicamos el pipeline al DataFrame\n",
        "X_transformed = pipeline.fit_transform(df_retail)\n",
        "\n",
        "# Creamos el plot\n",
        "fig = px.scatter(x=X_transformed[:, 0], y=X_transformed[:, 1])\n",
        "fig.update_layout(\n",
        "    title='Reducción de dimensionalidad con T-SNE',\n",
        "    xaxis_title='Componente 1',\n",
        "    yaxis_title='Componente 2'\n",
        ")\n",
        "fig.show()"
      ],
      "metadata": {
        "tags": [],
        "cell_id": "1889976b7a4c40c7825752979b577567",
        "deepnote_cell_height": 65.86666870117188,
        "deepnote_cell_type": "code",
        "colab": {
          "base_uri": "https://localhost:8080/",
          "height": 542
        },
        "id": "06l0FHIn76SC",
        "outputId": "720821c7-ab56-4124-86c8-33e7279dcd05"
      },
      "outputs": [
        {
          "output_type": "display_data",
          "data": {
            "text/html": [
              "<html>\n",
              "<head><meta charset=\"utf-8\" /></head>\n",
              "<body>\n",
              "    <div>            <script src=\"https://cdnjs.cloudflare.com/ajax/libs/mathjax/2.7.5/MathJax.js?config=TeX-AMS-MML_SVG\"></script><script type=\"text/javascript\">if (window.MathJax && window.MathJax.Hub && window.MathJax.Hub.Config) {window.MathJax.Hub.Config({SVG: {font: \"STIX-Web\"}});}</script>                <script type=\"text/javascript\">window.PlotlyConfig = {MathJaxConfig: 'local'};</script>\n",
              "        <script charset=\"utf-8\" src=\"https://cdn.plot.ly/plotly-2.20.0.min.js\"></script>                <div id=\"73ba0c66-7aab-4eeb-a3e0-ef606642633d\" class=\"plotly-graph-div\" style=\"height:525px; width:100%;\"></div>            <script type=\"text/javascript\">                                    window.PLOTLYENV=window.PLOTLYENV || {};                                    if (document.getElementById(\"73ba0c66-7aab-4eeb-a3e0-ef606642633d\")) {                    Plotly.newPlot(                        \"73ba0c66-7aab-4eeb-a3e0-ef606642633d\",                        [{\"hovertemplate\":\"x=%{x}<br>y=%{y}<extra></extra>\",\"legendgroup\":\"\",\"marker\":{\"color\":\"#636efa\",\"symbol\":\"circle\"},\"mode\":\"markers\",\"name\":\"\",\"showlegend\":false,\"x\":[10.95071792602539,63.20661544799805,7.679687023162842,68.04270935058594,58.2882080078125,-46.609703063964844,-14.08682632446289,-30.231775283813477,-1.0877389907836914,-8.523073196411133,38.000450134277344,-10.896020889282227,37.52206802368164,13.224405288696289,60.48006057739258,-1.386110544204712,30.801956176757812,4.184450626373291,24.38128662109375,-16.99195098876953,4.092092990875244,57.29082107543945,-9.221661567687988,-24.429624557495117,-31.788156509399414,-37.931400299072266,31.66701316833496,23.206518173217773,24.219602584838867,21.003759384155273,-22.797565460205078,-5.554827690124512,61.70943832397461,36.541419982910156,-27.792621612548828,42.38334655761719,27.263349533081055,10.834009170532227,-49.67561721801758,33.52587127685547,-27.16716957092285,-40.46443176269531,36.47245407104492,-0.7995681762695312,58.6906623840332,39.65446090698242,37.68266296386719,56.74989318847656,-3.1036009788513184,40.045230865478516,19.80652618408203,42.063541412353516,-57.58763122558594,-57.11359786987305,-36.106292724609375,33.19120407104492,-5.092635631561279,31.788785934448242,-16.857582092285156,33.80253219604492,-41.11441421508789,10.485595703125,-45.2728271484375,-2.1461892127990723,-13.796173095703125,-9.364249229431152,9.583528518676758,-2.4329898357391357,13.20264720916748,-45.639625549316406,-34.154151916503906,19.64020538330078,41.27214050292969,-8.14914608001709,27.524938583374023,-1.303944706916809,-46.03487777709961,19.129140853881836,26.45236587524414,59.31298828125,-49.35209274291992,55.80055618286133,-42.5480842590332,42.79658126831055,36.812744140625,26.359588623046875,-42.06773376464844,52.09065246582031,20.042522430419922,-48.72088623046875,-36.59986114501953,3.0975143909454346,-24.047517776489258,64.75625610351562,-27.210891723632812,6.930746078491211,3.7991507053375244,-50.434391021728516,44.240928649902344,-35.95750045776367,-34.241886138916016,-5.703330039978027,-49.90312957763672,-28.31234359741211,31.600759506225586,59.52051544189453,-5.93238639831543,39.7624626159668,23.349525451660156,41.9488639831543,50.61558151245117,16.300710678100586,5.736586570739746,-8.016880989074707,-23.420373916625977,-18.688796997070312,-52.85087203979492,-23.613910675048828,-46.3957405090332,42.21650695800781,23.51443862915039,-17.251380920410156,38.11176681518555,6.667093753814697,-17.231584548950195,-47.82593536376953,-32.97439193725586,40.534236907958984,39.2607421875,27.31243133544922,-53.56755447387695,-59.05691146850586,-60.118072509765625,-53.77584457397461,28.356319427490234,22.345712661743164,38.681243896484375,27.406848907470703,37.3045654296875,22.097169876098633,-50.4378662109375,-54.946449279785156,35.93967819213867,-56.468379974365234,-43.465110778808594,26.648548126220703,41.488704681396484,19.340612411499023,-2.871934413909912,-11.273088455200195,-0.9128531217575073,0.4723788797855377,-40.4104118347168,68.08477020263672,67.78497314453125,42.59944152832031,24.809350967407227,11.330313682556152,-54.29502868652344,-61.008907318115234,29.27742576599121,-53.80891036987305,-2.0766258239746094,-38.00458908081055,44.26531982421875,17.388813018798828,62.34486389160156,64.62647247314453,-0.5094487071037292,-54.86309051513672,24.432058334350586,11.589734077453613,37.474365234375,14.866151809692383,-19.937440872192383,65.50806427001953,53.42620086669922,2.0787863731384277,26.710180282592773,42.32964324951172,-39.42881774902344,17.540584564208984,41.6901969909668,33.77216720581055,21.55810546875,57.12211227416992,12.76325798034668,58.00611114501953,-30.835712432861328,-47.444236755371094,24.898582458496094,-51.08165740966797,-17.273447036743164,-37.910518646240234,-2.978219985961914,-57.855525970458984,-9.102981567382812,22.761947631835938,-25.524381637573242,-35.531394958496094,18.488853454589844,-1.6665297746658325,-11.883888244628906,16.35999298095703,65.880126953125,-11.039637565612793,39.41522979736328,-0.7150151133537292,39.740108489990234,42.298316955566406,-40.86817169189453,67.87659454345703,-18.783845901489258,-60.21630859375,-34.63676071166992,13.86318588256836,-2.453605890274048,4.346471786499023,-36.61567306518555,4.929500102996826,29.487775802612305,3.240933656692505,16.66761589050293,5.439849376678467,28.61650848388672,38.27874755859375,-47.36587905883789,-7.784048557281494,-14.149895668029785,-53.90316390991211,-3.6954612731933594,-9.693268775939941,-25.881418228149414,18.61001968383789,-60.21588897705078,7.498785495758057,-28.929645538330078,-19.702016830444336,13.673261642456055,-48.5737419128418,24.118432998657227,-40.44301223754883,-9.401873588562012,-1.8209487199783325,-48.94153594970703,38.32135772705078,38.25193405151367,-46.2911262512207,-45.29106521606445,36.829750061035156,13.276187896728516,7.558004379272461,-15.90502643585205,18.908037185668945,69.51700592041016,-42.97694396972656,-50.112083435058594,-15.81132984161377,-7.637744426727295,-37.36951446533203,42.66901397705078,-35.58333969116211,-49.537010192871094,-1.905570149421692,-22.491558074951172,-24.614107131958008,-14.301219940185547,2.728654384613037,-0.9902386665344238,-3.441540241241455,18.495275497436523,-41.90473175048828,60.141090393066406,-42.239131927490234,57.108699798583984,-26.4440975189209,-29.565196990966797,14.546439170837402,-49.06011962890625,13.99245834350586,-10.83425235748291,-41.12424087524414,28.838178634643555,-45.64250564575195,29.364322662353516,3.0219333171844482,-43.18783950805664,21.121978759765625,23.399208068847656,50.18501663208008,65.39757537841797,-32.33396911621094,21.259071350097656,23.944488525390625,22.888973236083984,9.32529354095459,38.5943603515625,-38.633243560791016,-10.508116722106934,67.05205535888672,-57.557064056396484,38.73613357543945,-10.597882270812988,27.866296768188477,1.6728113889694214,38.95232391357422,12.75682544708252,57.81740188598633,15.008835792541504,-2.2823355197906494,59.24387741088867,7.685999870300293,-56.283138275146484,-60.531917572021484,-0.6130053400993347,-60.002628326416016,-11.446295738220215,35.41537857055664,-60.54872512817383,28.748855590820312,-17.394956588745117,-59.80698776245117,67.22454071044922,-45.2914924621582,13.761126518249512,-3.116859197616577,24.12493133544922,-14.364666938781738,-19.527116775512695,51.817176818847656,-8.445164680480957,-22.119884490966797,-5.611220359802246,-23.140243530273438,51.78845977783203,38.747520446777344,-32.3837776184082,35.80492401123047,-16.815826416015625,62.96133041381836,-45.04156494140625,33.726226806640625,66.66317749023438,29.816028594970703,-39.80403137207031,-8.069326400756836,-42.87421798706055,20.813274383544922,39.69118118286133,-27.98495864868164,-30.596437454223633,30.061429977416992,-38.21382141113281,-10.375168800354004,-41.96694564819336,29.13048553466797,-55.411502838134766,-59.55439758300781,19.495824813842773,-40.231624603271484,-12.960686683654785,12.91629409790039,20.377012252807617,10.355753898620605,56.43768310546875,-55.028141021728516,21.795482635498047,-29.750768661499023,-32.69587326049805,-41.352725982666016,18.693225860595703,-3.6640536785125732,16.19231605529785,-40.937252044677734,8.053020477294922,-10.008626937866211,-15.304682731628418,-13.93511962890625,-20.018415451049805,-26.676822662353516,35.3717155456543,15.355721473693848,39.398006439208984,-33.74580001831055,-1.0033923387527466,8.804219245910645,26.904495239257812,-35.00414276123047,42.116268157958984,-9.638928413391113,-25.459096908569336,26.467266082763672,66.72271728515625,-40.96289825439453,-1.915358066558838,63.39706802368164,-19.425678253173828,-57.91264343261719,-58.35020065307617,-18.874568939208984,-16.842914581298828,17.187957763671875,-1.1788235902786255,-26.688642501831055,34.90718078613281,39.53207778930664,30.272851943969727,-3.8964860439300537,-19.3089656829834,31.606220245361328,-31.554771423339844,2.5185999870300293,20.428279876708984,17.754838943481445,32.64335250854492,7.1511712074279785,0.4113300144672394,-26.558944702148438,30.088315963745117,66.0724105834961,0.8837385773658752,-14.095027923583984,-35.95234680175781,-59.60212326049805,54.40068054199219,24.194068908691406,-52.72882843017578,-57.099857330322266,3.3465540409088135,-15.786097526550293,25.932249069213867,19.655786514282227,-15.65444564819336,24.533069610595703,22.73351287841797,-24.479433059692383,21.722497940063477,58.31151580810547,61.80949020385742,23.453107833862305,-18.734703063964844,57.78474807739258,-15.845779418945312,-44.120296478271484,-10.832296371459961,31.885292053222656,59.63541030883789,20.111082077026367,-45.32662582397461,62.277923583984375,-11.57719612121582,38.79755401611328,4.296283721923828,-30.615156173706055,1.8678152561187744,0.6754529476165771,32.917842864990234,-55.097511291503906,-27.98212432861328,37.47459411621094,23.515113830566406,0.3025865852832794,25.263626098632812,-48.63845443725586,-18.75245475769043,33.074214935302734,-39.25870132446289,1.2340078353881836,-17.312170028686523,38.928768157958984,12.444191932678223,-27.202566146850586,29.39237403869629,24.617660522460938,57.36040496826172,34.4550666809082,-5.35184907913208,27.91004180908203,-9.397296905517578,-50.215396881103516,-8.650035858154297,-18.588163375854492,-54.457069396972656,36.2140998840332,69.0249252319336,36.944496154785156,4.921923637390137,-20.236841201782227,-4.894631862640381,24.004812240600586,-6.323537349700928,-59.46120834350586,32.63470458984375,19.291671752929688,53.4323844909668,-11.265782356262207,-4.24973201751709,1.7455822229385376,43.79353713989258,-22.84159278869629,-45.27816390991211,-23.7828311920166,-45.06816482543945,5.57766580581665,-50.847415924072266,-47.4836540222168,-53.725948333740234,-43.28127670288086,32.72418212890625,25.32747459411621,11.554681777954102,42.01448059082031,-36.98234939575195,4.050373554229736,-1.254319190979004,-20.609270095825195,4.196869373321533,-37.3370246887207,63.94624328613281,-23.624073028564453,-55.79012680053711,24.424896240234375,57.45302963256836,-31.595333099365234,12.675629615783691,6.634428024291992,23.481630325317383,-47.13650131225586,37.174293518066406,-10.337627410888672,20.878353118896484,58.432395935058594,-7.276601791381836,51.98288345336914,-47.61893844604492,59.69053268432617,-18.586679458618164,36.55937576293945,-18.017366409301758,-37.24058532714844,-60.22980880737305,3.2681310176849365,30.12108039855957,53.41264724731445,-44.926658630371094,-21.740671157836914,-46.91923904418945,-33.787071228027344,-39.36857604980469,-9.009073257446289,14.488484382629395,9.91994571685791,-0.6918323040008545,-3.990262269973755,-50.75895309448242,-6.872276782989502,-20.926464080810547,23.584848403930664,64.81864166259766,18.748022079467773,-58.84279251098633,20.764631271362305,9.42112922668457,7.738469123840332,-45.8338508605957,-46.516357421875,1.615351915359497,20.102352142333984,-29.028911590576172,26.116962432861328,37.66061782836914,24.107301712036133,-43.56019973754883,19.471691131591797,-16.52825164794922,-3.222872257232666,-51.261539459228516,-6.200578689575195,29.583023071289062,-32.82051086425781,29.4954776763916,-31.0032958984375,18.003538131713867,-45.490901947021484,-32.90155029296875,-43.38615417480469,-3.713714838027954,30.883920669555664,-37.79789352416992,-14.964982986450195,-28.5894718170166,-26.94883155822754,30.678077697753906,-16.988483428955078,-40.00298309326172,29.534563064575195,30.288209915161133,3.4950063228607178,0.8770797252655029,-9.786504745483398,65.99671173095703,62.2441291809082,-44.619449615478516,-60.88515090942383,-15.198238372802734,32.23622512817383,-17.562179565429688,-19.728673934936523,31.90186309814453,-10.418020248413086,7.185178279876709,-21.234752655029297,8.97121524810791,-20.829092025756836,43.25162124633789,9.263480186462402,-7.495186805725098,-3.780618190765381,25.794082641601562,-33.071998596191406,-11.250998497009277,-21.586889266967773,31.512733459472656,-47.53691482543945,-16.771154403686523,-20.464113235473633,56.7851676940918,-50.2255973815918,-12.435806274414062,22.365951538085938,-52.293643951416016,-59.34461212158203,6.1262407302856445,18.64818000793457,29.55828094482422,59.369136810302734,34.542293548583984,-60.38528060913086,38.65262985229492,-51.31911087036133,-14.178287506103516,25.32444953918457,-19.73908233642578,-24.856082916259766,-52.421146392822266,33.38283920288086,23.002485275268555,-2.808321237564087,12.435168266296387,58.553104400634766,56.412864685058594,-56.834373474121094,-5.351438522338867,-15.705288887023926,-1.3182085752487183,-55.25916290283203,3.697049379348755,-11.520112991333008,-35.3742790222168,6.866855144500732,59.6563835144043,-54.99013900756836,50.26730728149414,9.83935260772705,-19.05916976928711,34.6367301940918,-22.676807403564453,-43.36973571777344,-34.771759033203125,-22.377094268798828,27.317731857299805,-50.232765197753906,31.70231056213379,24.13744354248047,63.347816467285156,-1.5238304138183594,-41.60814666748047,-48.59785461425781,-8.121086120605469,-41.221370697021484,-53.63902282714844,5.058251857757568,19.488590240478516,9.317601203918457,33.01448059082031,25.350540161132812,-47.964027404785156,-32.03822708129883,-8.411498069763184,10.59546947479248,-25.4183349609375,16.55596351623535,-33.79349136352539,-0.40999457240104675,37.61452102661133,3.616321563720703,-24.7449951171875,-26.047243118286133,40.709075927734375,9.645034790039062,-41.87320327758789,-43.157958984375,0.49594762921333313,31.131189346313477,7.494540691375732,-9.17947006225586,-10.74615478515625,-51.31263732910156,33.13555908203125,33.75615692138672,-27.41526222229004,0.9573897123336792,29.901304244995117,25.66975975036621,-23.298696517944336,55.91133117675781,-28.1138973236084,-36.95989227294922,36.62574005126953,61.128517150878906,8.935991287231445,-48.24021911621094,40.38084030151367,-42.64655685424805,-21.312082290649414,-39.237178802490234,-47.01323318481445,-12.308259963989258,-43.62432861328125,30.95345115661621,-8.950909614562988,57.47875213623047,-1.2004494667053223,-20.185686111450195,54.435543060302734,-22.110328674316406,-29.264774322509766,17.489662170410156,-40.63087463378906,-1.8305281400680542,-49.95918655395508,-57.3555793762207,-55.09867477416992,-39.757816314697266,66.19166564941406,-13.907554626464844,31.4483699798584,42.95216369628906,-42.93146514892578,-35.228675842285156,66.469970703125,40.61187744140625,25.325435638427734,-49.0625,-20.35150909423828,30.289722442626953,56.8836784362793,24.540632247924805,25.521726608276367,-14.460495948791504,2.1128616333007812,-41.86896896362305,39.29093933105469,-4.267874240875244,27.750995635986328,19.961671829223633,-58.394569396972656,-60.58488082885742,-51.613224029541016,0.07241558283567429,0.9205378293991089,-31.485532760620117,-45.78843307495117,3.563835620880127,-22.45613670349121,-49.26503372192383,-44.30672836303711,-17.001014709472656,-57.382015228271484,38.58221435546875,19.957733154296875,-42.29369354248047,37.19881057739258,-29.129714965820312,5.770847320556641,-48.49763107299805,-46.958126068115234,-22.220714569091797,57.3913688659668,33.59364700317383,39.75597381591797,24.190780639648438,-18.547801971435547,-21.206172943115234,-58.659339904785156,-36.21379089355469,-58.372955322265625,-26.038097381591797,59.06026840209961,33.20561218261719,-37.63109588623047,18.176156997680664,-47.72216796875,-9.945062637329102,12.238184928894043,-20.554244995117188,-3.4519128799438477,38.292545318603516,-8.911563873291016,2.4292452335357666,-46.97166061401367,-1.448624610900879,17.163959503173828,-34.64999008178711,-24.966358184814453,57.92014694213867,8.284256935119629,-39.500083923339844,-37.004539489746094,-57.53462219238281,-29.685476303100586,38.866355895996094,-29.65866470336914,14.299372673034668,-46.51266860961914,-14.446544647216797,36.409969329833984,-28.59108543395996,-46.859092712402344,-61.04802322387695,-23.737634658813477,-56.925010681152344,31.422197341918945,-52.023414611816406,24.14173698425293,-0.171620175242424,22.756404876708984,58.96430969238281,66.8492660522461,38.6744384765625,30.024080276489258,0.8759561777114868,69.83055114746094,-28.285964965820312,12.45439338684082,21.10418701171875,18.50677490234375,39.53586959838867,-3.6747186183929443,68.18373107910156,-28.68262481689453,-45.38759231567383,1.4888615608215332,-39.46068572998047,32.11570358276367,8.038901329040527,-14.432490348815918,-16.905431747436523,-15.85672664642334,65.6883316040039,-41.003604888916016,-51.833106994628906,-21.168413162231445,-53.30656814575195,17.780710220336914,38.08757400512695,41.763084411621094,17.644332885742188,20.566781997680664,-23.21078109741211,-19.43007469177246,31.74012565612793,40.16422653198242,31.36084747314453,7.820976734161377,24.114662170410156,27.238466262817383,-4.026732921600342,34.10572814941406,-10.235410690307617,33.29479217529297,22.05038833618164,38.566829681396484,-23.450199127197266,23.264793395996094,10.904634475708008,-27.56848907470703,-27.142335891723633,34.742774963378906,-10.833846092224121,21.269006729125977,40.87288284301758,-2.0740370750427246,-17.188207626342773,-16.387596130371094,17.483924865722656,-41.151119232177734,30.478696823120117,7.462331295013428,-26.645475387573242,-19.638301849365234,-41.60963439941406,-6.518411636352539,-51.526023864746094,-6.323819160461426,20.680858612060547,-59.61074447631836,-58.921875,-16.901458740234375,-11.490580558776855,59.419002532958984,5.687518119812012,-41.45366668701172,-45.77412414550781,24.379528045654297,28.89313507080078,35.25713348388672,0.5399312376976013,21.647886276245117,54.81669998168945,-7.1508026123046875,-29.42316436767578,36.849884033203125,-47.3175163269043,-45.304752349853516,60.48989486694336,22.398380279541016,-17.615922927856445,55.13740921020508,-23.40057373046875,-22.852567672729492,39.003578186035156,56.80891036987305,60.26105880737305,-24.158252716064453,58.2169075012207,55.01701354980469,-33.56694793701172,38.734107971191406,-4.199861526489258,18.02315330505371,33.79588317871094,40.26588439941406,-49.85744094848633,13.733006477355957,55.557552337646484,-16.776811599731445,-56.765316009521484,28.44508171081543,-30.480159759521484,-7.21221923828125,-11.773299217224121,37.229793548583984,-36.37591552734375,-0.9315073490142822,2.5865933895111084,53.04632568359375,-28.665464401245117,-45.94277572631836,-38.01255416870117,15.253499031066895,-45.52693557739258,-12.493885040283203,-9.653176307678223,-18.47886085510254,22.38432502746582,30.764671325683594,-45.004329681396484,-3.8480453491210938,-10.98973274230957,-56.94527816772461,-47.98066329956055,-27.77094841003418,70.35585021972656,52.85212707519531,-10.120126724243164,-46.21604537963867,28.416921615600586,-43.703792572021484,39.65459442138672,-26.803009033203125,-47.55835723876953,36.34970474243164,-25.389127731323242,-39.04806137084961,-37.501461029052734,-22.651723861694336,21.41798210144043,-17.776817321777344,-41.91145324707031,-56.92973327636719,-23.04350471496582,-26.229984283447266,40.91960906982422,-23.59430694580078,40.1506233215332,70.5428237915039,10.532354354858398,60.78681182861328,6.533379554748535,-18.985492706298828,-25.756824493408203,-22.897735595703125,21.99734115600586,40.571311950683594,-42.12511444091797,-9.1188383102417,-40.40928649902344,16.138383865356445,52.444007873535156,-32.383296966552734,24.832128524780273,-6.496453285217285,16.227500915527344,36.32761001586914,31.78925132751465,62.934024810791016,-9.091620445251465,-60.60146713256836,-38.06198501586914,-31.48506736755371,0.6389586925506592,-10.397845268249512,-20.20186424255371,20.360292434692383,-41.776737213134766,-29.59327507019043,-47.95926284790039,-48.43775177001953,1.9191755056381226,-17.235441207885742,39.198543548583984,-26.297422409057617,-2.189645290374756,35.080078125,-33.75834655761719,31.479808807373047,33.39736557006836,-42.8697395324707,-30.814651489257812,32.08479690551758,-8.929372787475586,30.64740562438965,19.330291748046875,1.5830448865890503,-51.145652770996094,-29.53768539428711,-13.178485870361328,-11.196168899536133,60.65317153930664,-15.232914924621582,-40.729732513427734,-5.59377384185791,52.6137580871582,30.2293643951416,-44.055755615234375,-61.3048095703125,-0.6711931228637695,-47.2463264465332,-34.60639572143555,30.056533813476562,18.251798629760742,20.70250701904297,16.553041458129883,63.237186431884766,14.120656967163086,16.105224609375,-5.816056251525879,5.203830242156982,-38.5782470703125,-29.04808235168457,-9.45661449432373,38.3883056640625,32.06574630737305,-17.480552673339844,-27.943822860717773,26.71817970275879,-20.09596061706543,-61.14624786376953,-17.493087768554688,-47.02222442626953,-10.509328842163086,6.952349662780762,-1.3391859531402588,5.101634979248047,59.73477554321289,-13.108871459960938,13.854167938232422,-60.28950119018555,28.340246200561523,41.0770378112793,17.063405990600586,61.85618209838867,-13.837441444396973,-32.915504455566406,-59.87202835083008,-26.2867431640625,-11.57677936553955,19.76898956298828,-14.870795249938965,20.8160457611084,44.218711853027344,64.131591796875,-12.555242538452148,33.25099182128906,8.38542366027832,57.85087585449219,34.94124221801758,39.3416633605957,-10.014680862426758,-58.45503616333008,3.562955856323242,23.76146697998047,42.730403900146484,-42.55399703979492,-47.20292663574219,-60.23887252807617,-28.92140007019043,-10.332222938537598,43.42137145996094,-56.38188171386719,23.98797035217285,-19.418428421020508,-32.356407165527344,64.3475112915039,27.382572174072266,-36.7199821472168,15.758662223815918,-59.13787841796875,-13.933625221252441,58.944217681884766,0.31589630246162415,22.3155517578125,60.621334075927734,-31.104459762573242,36.68264389038086,-23.388818740844727,-43.61265563964844,58.87937927246094,-2.495025634765625,9.270435333251953,-38.499900817871094,7.158074378967285,26.5344181060791,51.83216857910156,-39.51224899291992,38.501834869384766,-55.5727653503418,-26.943023681640625,52.950984954833984,-3.0206170082092285,-24.233171463012695,53.098941802978516,-17.280885696411133,-9.846577644348145,6.355260372161865,4.783144950866699,-40.52302551269531,-46.31962585449219,-22.041057586669922,-17.226621627807617,27.651470184326172,-28.711530685424805,51.42633056640625,35.57415008544922,31.097774505615234,-9.52053451538086,-15.86414909362793,-29.589336395263672,-47.024234771728516,10.686325073242188,20.362926483154297,-52.30316925048828,21.187803268432617,-4.239320278167725,8.365965843200684,-39.635196685791016,23.25029754638672,4.94834566116333,-33.20595932006836,-52.4765739440918,41.5673828125,-30.962556838989258,59.64470672607422,-33.99576950073242,-26.11077880859375,3.1458239555358887,20.122486114501953,39.98462677001953,-7.235109329223633,-33.26171112060547,-9.213318824768066,55.519927978515625,38.3199462890625,59.92396545410156,-5.380150318145752,-43.418006896972656,-59.15938949584961,-20.302330017089844,-56.147010803222656,28.148927688598633,20.051349639892578,61.08420181274414,-43.67521286010742,-9.698752403259277,-5.604822158813477,-61.425498962402344,-32.305877685546875,38.964534759521484,-43.81281661987305,7.24738883972168,0.2565358877182007,30.948572158813477,39.105812072753906,-7.452083110809326,23.39316749572754,68.40972900390625,51.74295425415039,5.212389945983887,-17.902679443359375,-25.654531478881836,-28.49519157409668,-10.987434387207031,-0.16487261652946472,-27.551801681518555,59.600257873535156,21.80888557434082,-47.299720764160156,38.58311080932617,22.913522720336914,-32.82475662231445,-5.239491939544678,-17.823339462280273,15.072668075561523,-43.66480255126953,-44.971893310546875,-53.53847122192383,-5.740508079528809,25.84547233581543,-16.531763076782227,9.980134963989258,-51.962989807128906,1.700196385383606,-60.499549865722656,19.156169891357422,63.2999382019043,0.13091689348220825,10.85820484161377,6.271534442901611,21.417695999145508,29.18792724609375,-49.13237762451172,54.50191879272461,47.08906173706055,-8.901948928833008,66.8671646118164,-25.85264778137207,-37.100860595703125,-52.23847961425781,5.282378673553467,54.68805694580078,-60.00899124145508,36.661949157714844,-44.36089324951172,-23.804378509521484,40.294857025146484,-43.87511444091797,0.6134793162345886,-5.083451271057129,-30.27749252319336,-48.27903747558594,-56.159088134765625,6.383613109588623,-19.759479522705078,4.249691009521484,2.145684242248535,-36.88489532470703,7.700429439544678,-31.97248077392578,55.38248062133789,41.71247482299805,3.57078218460083,-59.42898941040039,-54.69990539550781,38.60224533081055,15.237855911254883,-26.590633392333984,36.372047424316406,-48.8322639465332,7.423808574676514,-24.223793029785156,-54.300106048583984,32.57815170288086,41.87859344482422,4.7758097648620605,45.52443313598633,18.828296661376953,38.78172302246094,-4.375088214874268,59.66646194458008,7.849487781524658,4.208747863769531,-0.02619090862572193,16.754695892333984,23.042264938354492,20.59224510192871,-6.661860466003418,25.25562286376953,58.86014175415039,17.74014663696289,18.31159019470215,36.77063751220703,-36.02585983276367,34.44171142578125,34.09218215942383,36.88573455810547,17.8852481842041,57.87123107910156,57.79819869995117,-41.52333450317383,-23.3850040435791,-33.266807556152344,-12.527393341064453,-37.05607604980469,-4.601353168487549,-14.607961654663086,-28.075708389282227,39.423702239990234,-31.081743240356445,-0.7180644273757935,27.991920471191406,-2.4480462074279785,-47.7680549621582,-58.44734191894531,-8.072640419006348,-28.355527877807617,-29.19779396057129,1.7909700870513916,11.32023811340332,-35.68916320800781,25.663942337036133,3.5033295154571533,-3.5482828617095947,-38.902164459228516,-28.98652458190918,0.37642332911491394,24.674795150756836,15.083708763122559,-11.473302841186523,39.11953353881836,68.35538482666016,-46.035240173339844,-5.738979816436768,5.328440189361572,38.1710205078125,28.204492568969727,5.237509727478027,-26.01483154296875,5.441423416137695,7.266104698181152,41.38026428222656,-32.146514892578125,16.383548736572266,-50.637123107910156,55.96247863769531,37.21446990966797,23.403661727905273,-48.297367095947266,25.326251983642578,68.35075378417969,-24.93843650817871,30.44219207763672,0.5747879147529602,56.96354293823242,28.2091121673584,-39.85173416137695,32.70845413208008,60.803226470947266,28.190975189208984,-41.82465362548828,-42.793434143066406,18.46053695678711,-24.073659896850586,-48.4234504699707,-22.97896957397461,-57.72051239013672,-47.358036041259766,45.03104019165039,26.49369239807129,56.67803955078125,18.20020866394043,24.963376998901367,-60.854957580566406,-33.7297477722168,61.09693145751953,-9.696459770202637,28.633216857910156,-24.53602409362793,24.21542739868164,-37.234371185302734,29.268770217895508,24.128990173339844,-16.484386444091797,60.04695510864258,48.43865966796875,69.75714111328125,52.95021438598633,-60.155696868896484,55.07073211669922,-59.136375427246094,37.587547302246094,41.50619125366211,-4.240976333618164,30.311872482299805,-25.763105392456055,-13.462249755859375,-17.229053497314453,3.1931655406951904,1.1587661504745483,-3.391055107116699,61.69873046875,42.11491012573242,-53.65318298339844,14.402993202209473,-50.32732009887695,-1.892008662223816,-34.73421096801758,-47.322017669677734,64.21528625488281,54.093414306640625,18.082698822021484,-28.170106887817383,23.66147232055664,27.99718475341797,-0.6668351292610168,3.325838088989258,39.81238555908203,34.143802642822266,9.805944442749023,14.76410961151123,-9.042901039123535,-39.35588836669922,-38.31908416748047,38.77327346801758,-24.48336410522461,-2.591480016708374,-31.006309509277344,38.023616790771484,-46.08002853393555,-16.284175872802734,-29.234418869018555,17.636598587036133,-36.804969787597656,28.281673431396484,14.385504722595215,29.608394622802734,-26.16826057434082,38.061885833740234,13.983036994934082,-53.53939437866211,-37.393157958984375,14.058488845825195,51.51868438720703,1.3115395307540894,-28.906753540039062,-40.317481994628906,12.14202880859375,-50.064491271972656,26.026535034179688,-37.345794677734375,-21.479787826538086,1.555357575416565,-29.96805191040039,-55.44683837890625,63.23630905151367,9.071321487426758,21.263111114501953,39.77427673339844,-33.231773376464844,-52.944602966308594,-42.78857421875,-37.6171989440918,51.23016357421875,-41.003761291503906,-28.416303634643555,70.19196319580078,-28.433374404907227,66.8980941772461,14.887918472290039,55.320682525634766,31.5595645904541,6.810947895050049,-48.95852279663086,-57.01893615722656,-27.281965255737305,-43.84606170654297,20.543148040771484,-59.88819885253906,-32.041961669921875,-11.667049407958984,16.806011199951172,0.5537617206573486,-28.09735107421875,-23.613204956054688,-19.54895782470703,-44.955997467041016,-6.262860298156738,27.146249771118164,40.993995666503906,38.64069747924805,56.47126388549805,-36.74117660522461,-59.7172966003418,-25.801408767700195,29.688037872314453,38.12382125854492,-6.730022430419922,31.7155818939209,27.653141021728516,13.973569869995117,-58.225704193115234,-56.21731185913086,-48.857017517089844,-23.604900360107422,20.059921264648438,-40.9711799621582,6.9469075202941895,-43.62522888183594,31.32700538635254,-4.132650852203369,-29.855398178100586,15.661380767822266,37.40266036987305,-52.691162109375,35.10847473144531,6.777470111846924,25.044044494628906,-19.368160247802734,-9.486990928649902,18.87318229675293,-47.388938903808594,-34.02497100830078,61.42558288574219,62.20780563354492,65.02078247070312,27.268375396728516,10.562617301940918,38.94698715209961,-51.64235305786133,-26.237695693969727,-45.40061950683594,2.779033660888672,33.824493408203125,3.321040153503418,-6.882897853851318,42.80885696411133,2.3844223022460938,-17.848445892333984,55.18858337402344,28.02237892150879,-59.35986328125,7.254374027252197,31.80419158935547,13.215165138244629,-28.700145721435547,-55.9906005859375,32.46844482421875,-22.600669860839844,2.4231066703796387,32.33150100708008,54.50590896606445,25.015419006347656,-43.449100494384766,-51.32054901123047,31.588769912719727,36.621742248535156,-55.8559455871582,12.179537773132324,-57.959869384765625,4.4327192306518555,19.35735511779785,-46.272132873535156,50.56204605102539,64.73110961914062,56.687843322753906,-43.30659484863281,31.722530364990234,-49.31482696533203,18.743202209472656,-47.43265914916992,-60.31352233886719,-1.7948640584945679,43.951229095458984,18.231260299682617,-44.23800277709961,18.430843353271484,6.443507194519043,54.384796142578125,-3.488662004470825,1.1727828979492188,-48.70695495605469,31.561853408813477,-11.550954818725586,9.946632385253906,36.74433517456055,2.348661184310913,-35.610233306884766,28.947649002075195,5.594359874725342,26.329328536987305,-3.250361442565918,-47.640411376953125,-22.86914825439453,-17.13727378845215,28.716121673583984,12.096502304077148,17.839677810668945,-5.069645881652832,-38.721466064453125,-18.031946182250977,-59.59469223022461,36.10740661621094,-34.26803207397461,67.78248596191406,-6.602797985076904,-1.598975419998169,28.38888931274414,4.039290904998779,3.3731002807617188,-47.05270767211914,35.70263671875,-50.96672821044922,58.39320373535156,-46.3680534362793,-32.14339828491211,26.008949279785156,21.122264862060547,-2.0497019290924072,-39.39289474487305,-38.79054641723633,-60.290306091308594,-56.017738342285156,-56.57701873779297,-4.756507873535156,-47.63313293457031,27.65113067626953,-30.379182815551758,-57.14232635498047,55.26103973388672,13.840330123901367,43.2545280456543,-45.659202575683594,58.045066833496094,15.934469223022461,-21.781801223754883,-52.05544662475586,-10.38177490234375,-41.699363708496094,9.05966567993164,21.270488739013672,28.64183235168457,-55.36040115356445,-1.9873943328857422,-57.95531463623047,21.452131271362305,33.41767501831055,-44.847591400146484,46.122188568115234,42.3610954284668,-29.60121726989746,28.189422607421875,-7.267380237579346,-54.7000617980957,23.777162551879883,-11.661334037780762,-12.691490173339844,61.20450210571289,41.78229522705078,31.872201919555664,38.10394287109375,-26.84687614440918,-55.685916900634766,23.087047576904297,-48.44417953491211,-55.71808624267578,-33.00746536254883,14.597102165222168,21.81719207763672,52.066036224365234,-59.51759338378906,-48.40507888793945,33.957950592041016,-49.821624755859375,22.987138748168945,50.06226348876953,23.39333724975586,-1.4806959629058838,34.854244232177734,-4.5392351150512695,-58.60962677001953,-59.37482833862305,26.197261810302734,70.62826538085938,27.70981216430664,-44.6910400390625,18.973529815673828,51.37639236450195,-7.427639007568359,65.48715209960938,-46.289608001708984,-41.782020568847656,1.6627848148345947,51.78849411010742,19.526212692260742,-17.408632278442383,61.86265563964844,-59.949798583984375,27.86294937133789,-49.3607292175293,-25.931840896606445,63.77396011352539,-29.77726936340332,-29.796649932861328,-37.981388092041016,21.664859771728516,-7.486000061035156,-49.03148651123047,37.46971130371094,32.749271392822266,64.2618179321289,4.282398700714111,27.744775772094727,2.3383476734161377,9.527565002441406,46.20020294189453,38.413089752197266,37.907859802246094,12.146688461303711,24.679800033569336,66.19332885742188,3.552943468093872,3.4356303215026855,15.152209281921387,-0.40571895241737366,38.29225540161133,17.819664001464844,34.884159088134766,27.26885986328125,24.04058265686035,28.957481384277344,34.12900161743164,50.95294189453125,-45.571773529052734,68.56866455078125,-46.983585357666016,-56.56031036376953,-43.165550231933594,41.72245788574219,29.627887725830078,32.896060943603516,-8.263912200927734,-8.13480281829834,-37.59638214111328,-8.254804611206055,26.184616088867188,-44.905914306640625,-17.697978973388672,13.780266761779785,4.794753074645996,9.143637657165527,6.2002363204956055,-27.380891799926758,9.943943977355957,53.392051696777344,-17.7103328704834,-54.02170944213867,-45.58404541015625,27.84512710571289,34.783870697021484,4.3818535804748535,-48.40275573730469,29.458614349365234,-16.153202056884766,29.537952423095703,-2.5305755138397217,38.06245803833008,48.41828918457031,-52.6121940612793,4.770209789276123,-26.156850814819336,-37.38689041137695,23.072362899780273,17.49846076965332,-41.94209289550781,8.891915321350098,-0.9184647798538208,-49.10651779174805,-56.25510787963867,-23.3972225189209,-20.924518585205078,-57.51164627075195,-21.80885887145996,41.16575622558594,29.255523681640625,32.40154266357422,3.570972442626953,-1.2544019222259521,38.601097106933594,1.3789821863174438,64.71244812011719,-49.46958541870117,-28.35378074645996,-48.45561218261719,-0.06343482434749603,-13.220452308654785,-46.6442985534668,-19.0589656829834,27.660856246948242,-32.86394119262695,22.275720596313477,-39.89131164550781,-22.790603637695312,16.50368881225586,-52.733482360839844,60.222434997558594,37.488826751708984,7.481436252593994,31.216901779174805,66.9901351928711,-25.35373878479004,60.839263916015625,40.74205780029297,66.23727416992188,8.688502311706543,-4.8153300285339355,25.775524139404297,-55.9133415222168,32.980491638183594,40.8491325378418,43.443416595458984,61.67544174194336,-19.653488159179688,1.1809426546096802,69.27477264404297,-16.23516845703125,-20.454179763793945,-51.00349807739258,30.041059494018555,-19.011381149291992,4.0798869132995605,52.247371673583984,59.19971466064453,64.9959716796875,-17.45628547668457,6.906527996063232,38.98613357543945,17.856752395629883,24.749515533447266,42.81587219238281,-2.2395379543304443,-20.92367935180664,3.337801456451416,-11.011384010314941,20.978614807128906,-46.57632827758789,31.1643123626709,-6.767333984375,-52.87196731567383,28.879541397094727,56.02992630004883,-10.705324172973633,-11.316823959350586,49.80216598510742,21.513790130615234,-46.34930419921875,-8.007708549499512,41.409236907958984,31.868391036987305,39.655311584472656,-4.946165084838867,27.07491111755371,-14.743112564086914,-39.94550323486328,-57.349632263183594,-13.981497764587402,-11.020663261413574,-0.6477852463722229,15.850349426269531,14.132643699645996,0.0862484872341156,30.51347541809082,11.287675857543945,17.755367279052734,-19.000329971313477,55.59965133666992,-22.661067962646484,-50.861576080322266,-2.133511543273926,12.280977249145508,-37.68230056762695,-52.51298522949219,20.706125259399414,10.81464958190918,2.943084955215454,61.75529861450195,7.184473037719727,63.10333251953125,22.36859130859375,-28.641258239746094,15.049874305725098,-25.367408752441406,-12.372823715209961,21.576732635498047,18.26947593688965,21.485225677490234,-59.17972946166992,-41.54891586303711,-35.9871940612793,12.623246192932129,2.4799370765686035,57.14116668701172,-45.28910446166992,54.06770324707031,-31.778825759887695,-23.513877868652344,31.703649520874023,-24.97327423095703,61.966739654541016,32.04540252685547,41.07150650024414,-53.51531219482422,37.492549896240234,-41.42515182495117,-9.484026908874512,42.95110321044922,34.898597717285156,56.91008758544922,0.9671253561973572,24.807523727416992,-9.495789527893066,63.471126556396484,34.65166473388672,34.530601501464844,15.552023887634277,36.57672882080078,41.81298828125,40.15766525268555,-18.80143165588379,-18.358497619628906,8.241706848144531,36.172096252441406,58.69261169433594,-22.471559524536133,5.966501712799072,43.538299560546875,-37.82532501220703,-24.115997314453125,14.526541709899902,31.805410385131836,-9.5556058883667,33.139522552490234,54.00191116333008,9.624968528747559,38.28164291381836,-22.4162654876709,13.6549072265625,14.589178085327148,23.720407485961914,-49.00819396972656,-17.147281646728516,16.873859405517578,24.746641159057617,-32.70337677001953,-33.75333023071289,-10.497944831848145,58.64619445800781,-25.28522300720215,-9.559711456298828,-58.52488327026367,39.174224853515625,51.89829635620117,-45.273460388183594,-39.43183517456055,37.90456771850586,17.7235107421875,21.686450958251953,49.33928680419922,-18.764331817626953,-59.48746871948242,-12.110478401184082,-25.95842933654785,-32.99205017089844,-48.55173873901367,-60.06797790527344,-29.694686889648438,-27.317340850830078,20.283349990844727,1.2192703485488892,29.409408569335938,-13.837105751037598,-10.514033317565918,-10.253522872924805,33.28406524658203,-42.35231399536133,-6.98112154006958,30.407623291015625,5.643270969390869,6.72161865234375,63.543766021728516,-37.863765716552734,-32.096160888671875,-49.67560577392578,-53.19939041137695,-36.253482818603516,-10.12882137298584,41.72475814819336,59.010581970214844,6.201214790344238,1.256180763244629,-10.880219459533691,-42.48992919921875,8.733332633972168,-28.64873695373535,-31.199726104736328,5.823101043701172,28.770549774169922,-10.038493156433105,17.396730422973633,31.32765769958496,-47.84198760986328,-0.17430752515792847,32.11772918701172,32.421051025390625,24.673999786376953,33.71603775024414,-7.824801445007324,-18.446475982666016,-23.127742767333984,-14.819779396057129,-19.95075798034668,-26.230504989624023,13.366251945495605,-13.262125968933105,-35.78022766113281,54.89016342163086,62.6491813659668,-13.00549602508545,11.10400104522705,42.39622497558594,-49.72718048095703,-43.23106384277344,51.3017463684082,22.721342086791992,57.685298919677734,-14.596124649047852,-41.73447799682617,-59.67707443237305,-15.744197845458984,-18.69612693786621,37.27403259277344,-39.60129165649414,-12.085062026977539,-41.653709411621094,-59.0396842956543,-48.880340576171875,-58.44989013671875,-57.30055618286133,-55.588829040527344,-53.69563293457031,-36.03646469116211,-58.9579963684082,-5.3079376220703125,-51.927154541015625,62.60273742675781,-39.6606559753418,-26.286970138549805,-34.0274543762207,5.843539714813232,4.280235767364502,23.341999053955078,-45.8948974609375,-32.899749755859375,22.51730728149414,-47.332786560058594,-0.4929744303226471,-10.776470184326172,12.198080062866211,-32.831058502197266,1.253993272781372,35.040740966796875,-1.9659807682037354,-11.74135971069336,-8.01328182220459,-10.93861198425293,47.11508560180664,-5.96627140045166,-60.07558822631836,-42.068058013916016,-60.38087463378906,-17.302244186401367,-39.55997848510742,-23.234159469604492,-45.826377868652344,-47.53030014038086,-16.740726470947266,-51.29078674316406,-41.3975830078125,15.187923431396484,57.7559814453125,35.92573928833008,19.304515838623047,20.3460636138916,11.064492225646973,69.63633728027344,-17.197336196899414,34.90324783325195,51.906429290771484,-31.611278533935547,17.914716720581055,4.057431221008301,-4.916889190673828,56.67190933227539,8.25903034210205,3.3123319149017334,10.097312927246094,23.222074508666992,-41.00254821777344,34.1407470703125,-24.26723289489746,-15.207685470581055,40.78790283203125,35.712013244628906,53.759246826171875,-7.138531684875488,58.98214340209961,-50.04054260253906,-8.143948554992676,0.8124701976776123,30.377639770507812,20.227191925048828,61.56264114379883,14.154425621032715,2.8114371299743652,55.8407096862793,-10.112804412841797,-23.950002670288086,-56.65742111206055,41.32386016845703,-30.674680709838867,-39.15814971923828,10.304959297180176,30.048847198486328,-56.65357208251953,14.764113426208496,71.21367645263672,41.06147766113281,-5.694704055786133,-1.309587836265564,66.87612915039062,61.033382415771484,61.66987609863281,-47.81682205200195,21.59658432006836,18.031465530395508,38.604888916015625,-14.741714477539062,7.43847131729126,60.172733306884766,-17.175373077392578,33.83189010620117,17.721458435058594,-48.483760833740234,18.45001983642578,-43.508056640625,66.55115509033203,21.626934051513672,-36.23577117919922,-12.700576782226562,59.579750061035156,-21.03022003173828,18.607112884521484,-1.7346206903457642,31.406742095947266,-35.510128021240234,-26.165271759033203,7.0531415939331055,-6.525051593780518,-48.756160736083984,-5.303497791290283,-46.3575325012207,-46.004398345947266,-20.477035522460938,23.328500747680664,46.27526092529297,39.872371673583984,37.58810806274414,-11.127761840820312,50.67189407348633,46.547000885009766,-18.096385955810547,-38.479400634765625,-5.463128566741943,-45.392635345458984,-30.946500778198242,29.05997657775879,60.260616302490234,64.33717346191406,-18.295703887939453,4.106131553649902,8.852582931518555,59.40933609008789,27.929643630981445,-16.75010108947754,39.16220474243164,-59.07353210449219,-28.950702667236328,-59.193756103515625,27.57349395751953,19.419963836669922,-28.811086654663086,-28.289228439331055,58.37867736816406,-4.35643196105957,20.812795639038086,-33.3316535949707,0.9363089799880981,14.039861679077148,34.011165618896484,20.93436050415039,0.9052510261535645,-40.07046127319336,-48.061424255371094,56.257484436035156,10.183764457702637,-9.73676872253418,-11.749006271362305,-25.40837860107422,-45.0788688659668,8.882596015930176,-50.21181869506836,47.28232192993164,-25.357826232910156,38.37166976928711,-19.427135467529297,-47.2175178527832,-41.71824264526367,-9.008511543273926,-30.636140823364258,22.88528060913086,-23.337486267089844,-27.824125289916992,-18.400976181030273,-58.06837463378906,27.178876876831055,-53.18450927734375,-9.844372749328613,-8.500875473022461,13.136961936950684,51.828739166259766,17.237552642822266,20.23029136657715,-29.115665435791016,37.3173942565918,29.06917381286621,26.07134437561035,13.689078330993652,31.629810333251953,24.869548797607422,43.35581588745117,-12.004222869873047,43.22471237182617,14.507320404052734,-0.9990464448928833,-22.14781951904297,-30.927217483520508,-45.575138092041016,-23.233182907104492,-29.036863327026367,34.2704963684082,21.06212615966797,-10.094466209411621,-8.846778869628906,-43.3354606628418,9.529692649841309,1.1560337543487549,28.617395401000977,17.74912452697754,-51.2166633605957,-5.26076602935791,-33.37081527709961,51.06427001953125,68.64889526367188,-9.321427345275879,20.607765197753906,9.09522819519043,-22.955324172973633,-5.239315032958984,-11.509278297424316,17.60645866394043,40.230831146240234,-4.185370445251465,15.401076316833496,-12.957537651062012,-59.77438735961914,-29.073366165161133,71.4580078125,-25.61111068725586,21.30211067199707,13.246688842773438,21.830894470214844,30.576261520385742,-51.35359191894531,43.18635559082031,-51.801517486572266,-50.27668762207031,-23.88159942626953,40.0196418762207,-0.11499474942684174,70.99899291992188,-2.1339876651763916,-50.112064361572266,-26.564849853515625,16.486373901367188,-45.313724517822266,-3.6227333545684814,11.29637622833252,-9.341632843017578,69.91962432861328,-59.28474807739258,25.01013946533203,-30.4667911529541,-3.958319902420044,-59.63432312011719,-32.43394470214844,12.752339363098145,-33.19704818725586,52.188961029052734,27.230850219726562,-25.47521209716797,-33.927032470703125,-51.46149444580078,21.570663452148438,-4.551287651062012,-0.37911856174468994,-43.22627258300781,33.26744079589844,52.01152038574219,38.485076904296875,-59.60105514526367,66.47492218017578,-26.296783447265625,-33.86561584472656,29.889902114868164,-31.972944259643555,-27.699121475219727,54.32017135620117,39.99309158325195,58.89247131347656,-35.76835632324219,56.30124282836914,-39.00265121459961,15.612969398498535,-32.87109375,-32.37673568725586,52.79078674316406,-48.968902587890625,8.128555297851562,-45.631587982177734,-31.86859703063965,-50.77541732788086,-8.993083000183105,29.406837463378906,20.657228469848633,38.568851470947266,27.825794219970703,23.89181137084961,-41.01535415649414,-20.43011474609375,25.627578735351562,-49.760581970214844,13.68282413482666,-38.992244720458984,-43.184139251708984,-45.577117919921875,-16.760021209716797,3.5130932331085205,-19.767183303833008,-32.4766731262207,-11.065861701965332,14.776317596435547,24.412076950073242,-30.363264083862305,56.41153335571289,-39.77119445800781,65.11721801757812,-48.35504150390625,-37.25084686279297,57.47526168823242,-36.71506118774414,27.549158096313477,-46.618621826171875,-8.4369535446167,29.964130401611328,-60.4862174987793,32.794525146484375,15.506621360778809,24.563154220581055,-14.512344360351562,-50.44108200073242,38.720054626464844,49.34605407714844,20.872486114501953,-50.18177032470703,-14.208377838134766,-56.83448791503906,42.73238754272461,-14.049590110778809,-31.41345977783203,-55.92486572265625,10.727474212646484,-14.674734115600586,-38.601566314697266,-48.524070739746094,65.8746337890625,-31.56984519958496,18.877899169921875,1.5945996046066284,-60.27461624145508,58.143882751464844,31.5616512298584,-38.465965270996094,-21.392133712768555,4.245094299316406,-31.569231033325195,22.442594528198242,-40.10310363769531,56.249183654785156,-3.9148972034454346,42.22895050048828,-48.078369140625,-47.642730712890625,40.12808609008789,28.35491180419922,-14.730513572692871,-25.940067291259766,26.157676696777344,54.92756271362305,-30.482484817504883,38.77524185180664,-7.65067720413208,31.80512046813965,38.10600280761719,8.208160400390625,-5.244074821472168,40.57624816894531,25.303199768066406,-4.215599060058594,-36.706146240234375,37.71775436401367,-41.580650329589844,-60.62132263183594,-2.9213168621063232,39.910430908203125,20.28326416015625,4.5734171867370605,-57.862152099609375,57.153926849365234,58.72761535644531,-50.2379264831543,31.855566024780273,-57.44765090942383,28.890972137451172,3.1503968238830566,-23.114465713500977,27.43094825744629,-3.327955722808838,6.739882469177246,-38.683780670166016,67.2588882446289,-27.545536041259766,-21.292797088623047,14.88527774810791,15.293325424194336,-25.121557235717773,-34.59407043457031,39.297733306884766,48.6182975769043,-36.89319610595703,-59.58892822265625,38.43442153930664,38.90914535522461,58.423030853271484,-57.85883712768555,9.649398803710938,0.23028787970542908,54.48337936401367,-12.545882225036621,-19.12261199951172,-49.95675277709961,-23.756319046020508,18.559812545776367,-53.17658996582031,13.466980934143066,22.254619598388672,26.75422477722168,-21.86566162109375,18.037147521972656,-0.20872752368450165,12.408368110656738,-17.431045532226562,-37.42420196533203,38.8167724609375,41.663612365722656,-46.535282135009766,59.413604736328125,-20.87367057800293,-5.651008605957031,-1.5967286825180054,59.86892318725586,-41.03019714355469,68.70153045654297,13.57645034790039,33.472557067871094,39.2213249206543,-15.277067184448242,-11.042755126953125,27.621448516845703,-25.067651748657227,-52.19282531738281,43.94609451293945,41.59672164916992,57.171329498291016,69.0010986328125,34.92649459838867,-8.912187576293945,21.356060028076172,39.39329528808594,-3.2336063385009766,19.820301055908203,70.48248291015625,-23.48838996887207,-20.080394744873047,-55.62592315673828,-21.188703536987305,-55.351070404052734,8.430745124816895,28.19774627685547,30.660390853881836,-30.273906707763672,14.147971153259277,-40.54585266113281,30.869226455688477,41.14964294433594,-45.89468002319336,11.858838081359863,22.81505584716797,39.47918701171875,-34.122657775878906,-39.722747802734375,33.12117004394531,-44.2237434387207,65.9495849609375,27.274219512939453,-52.22732925415039,-41.666839599609375,62.04597091674805,24.273841857910156,15.018973350524902,36.29769515991211,-40.1747932434082,-2.30159068107605,71.11404418945312,-33.45960998535156,54.9415168762207,-1.264974594116211,37.78904724121094,31.406414031982422,25.612764358520508,29.270423889160156,-10.52471923828125,-46.91653823852539,-43.57077407836914,20.820955276489258,-13.196418762207031,33.760318756103516,22.757461547851562,-4.931382179260254,-38.99943542480469,67.26366424560547,-53.09745407104492,22.770030975341797,5.713521480560303,-30.32868003845215,38.822052001953125,-30.436988830566406,-31.459001541137695,-46.67414474487305,17.60720443725586,15.68609619140625,-27.09444236755371,-32.18669128417969,38.17446517944336,26.750490188598633,15.693819046020508,43.66111755371094,38.5125732421875,55.50874710083008,-28.618879318237305,-42.49046325683594,-8.066557884216309,-49.032379150390625,-44.8755989074707,-42.99353790283203,39.88082504272461,-52.2895622253418,38.268470764160156,52.222835540771484,17.478565216064453,58.948978424072266,-51.442569732666016,59.01902770996094,-46.339698791503906,23.107402801513672,23.761444091796875,-14.616132736206055,58.35957717895508,-25.659809112548828,-61.407588958740234,40.78868865966797,23.73954200744629,-18.22458839416504,19.58111572265625,-61.00847625732422,-16.87796401977539,-32.84889602661133,-24.989715576171875,-1.5480098724365234,-47.426116943359375,-54.6170768737793,-52.57025909423828,-40.679222106933594,9.742507934570312,-33.024898529052734,57.97151184082031,-57.67240524291992,2.3032736778259277,-22.329357147216797,11.560462951660156,57.089969635009766,-38.36903381347656,-37.63326644897461,-46.063411712646484,29.79409408569336,26.644901275634766,-59.09794235229492,17.999006271362305,-35.4802131652832,-17.863798141479492,34.339012145996094,-1.2958171367645264,28.248687744140625,-44.76380157470703,-39.249977111816406,-40.45541000366211,28.089313507080078,42.89920425415039,-59.971187591552734,26.194812774658203,41.1493034362793,64.14463806152344,24.497690200805664,-49.97449493408203,-14.778775215148926,-22.141212463378906,-29.908592224121094,-45.35099411010742,28.525272369384766,-47.07182312011719,-34.282073974609375,64.86997985839844,16.226465225219727,-55.99583435058594,39.271766662597656,25.234853744506836,-58.3996696472168,20.962984085083008,0.3410932421684265,-57.5905876159668,30.79648780822754,59.773868560791016,25.76731300354004,5.688488006591797,63.76465606689453,30.04895782470703,-54.9272575378418,-36.977386474609375,12.969189643859863,2.5213568210601807,-32.75830078125,-9.312578201293945,68.91128540039062,15.140372276306152,-42.203285217285156,70.78897857666016,-3.819890022277832,-40.82783889770508,-33.22409439086914,-14.247077941894531,26.822938919067383,3.893397092819214,-26.37127113342285,62.52996063232422,42.9220085144043,19.457904815673828,-13.342218399047852,43.62847900390625,-35.11372756958008,-16.91875457763672,-26.357135772705078,-53.022705078125,12.69035816192627,17.806964874267578,29.134675979614258,42.7469482421875,61.608909606933594,-39.59425735473633,24.50246810913086,20.351839065551758,-56.59251022338867,-1.9913023710250854,-13.272921562194824,-4.544545650482178,-35.19027328491211,61.28497314453125,-20.79348373413086,-55.58518600463867,27.810869216918945,29.550662994384766,-56.69707107543945,2.756588935852051,67.57022094726562,-21.00400161743164,-49.379459381103516,-53.09516143798828,11.366691589355469,-11.716691017150879,12.052947998046875,39.193016052246094,-30.64619255065918,-42.90000915527344,-47.449371337890625,0.5402855277061462,21.916858673095703,19.25159454345703,25.008426666259766,61.84712219238281,71.91716003417969,30.927597045898438,-12.408291816711426,55.11785888671875,6.442981243133545,-37.48226547241211,-40.287261962890625,-9.902200698852539,-7.483926773071289,37.936946868896484,-56.886898040771484,-50.25535202026367,-2.8678946495056152,-39.256649017333984,16.76775550842285,-21.079172134399414,21.94675064086914,-30.99138832092285,5.775966644287109,26.037607192993164,51.77273178100586,-15.713133811950684,18.492277145385742,-32.52979278564453,41.299137115478516,7.424134731292725,42.36222839355469,35.272560119628906,-53.40239715576172,-26.410991668701172,-40.1170768737793,-60.23045349121094,-24.17853355407715,-54.7725830078125,22.98400115966797,-32.00697708129883,-2.5963211059570312,57.32647705078125,2.6560678482055664,-10.787874221801758,38.80876922607422,-23.357650756835938,-5.402068614959717,-17.82503318786621,14.744346618652344,0.25267156958580017,29.861146926879883,-54.064762115478516,-45.330902099609375,-1.1996735334396362,21.91830825805664,25.274999618530273,28.343713760375977,19.199777603149414,-30.176376342773438,38.28049087524414,-30.413267135620117,0.9212442636489868,6.648245334625244],\"xaxis\":\"x\",\"y\":[26.83420753479004,-17.65607261657715,-25.373821258544922,-9.865452766418457,-15.744805335998535,4.786112308502197,42.76399612426758,-31.03455352783203,4.844034194946289,-10.124811172485352,34.405975341796875,-11.499587059020996,34.26007080078125,-8.766700744628906,-10.073325157165527,-33.25676727294922,-11.46754264831543,4.561082363128662,-5.1904215812683105,-14.588983535766602,4.55933141708374,-15.977524757385254,-35.940673828125,-28.427749633789062,-24.310945510864258,-22.744850158691406,-24.108633041381836,-10.183853149414062,-20.670738220214844,-29.102684020996094,41.127159118652344,-10.762359619140625,-10.453588485717773,-12.938212394714355,35.84523391723633,-20.626161575317383,-11.48549747467041,-35.381221771240234,-30.288272857666016,-29.129636764526367,29.946229934692383,31.54072380065918,39.492488861083984,31.707626342773438,-2.363090991973877,-14.685232162475586,7.795088291168213,-5.278247833251953,37.561161041259766,-9.82302474975586,17.24542808532715,19.682069778442383,30.348634719848633,28.803218841552734,-30.188282012939453,-22.222412109375,-25.924253463745117,-21.79387664794922,-36.8745002746582,27.310562133789062,-30.494258880615234,9.866534233093262,18.798770904541016,-36.59946060180664,-28.382173538208008,-0.14698246121406555,-9.222502708435059,35.87471389770508,-6.747346878051758,13.325979232788086,-25.62098503112793,10.483189582824707,15.372883796691895,-9.600581169128418,35.581939697265625,36.482601165771484,22.109636306762695,7.635916233062744,24.72321128845215,-12.831233978271484,-3.921304941177368,-16.041059494018555,-33.879520416259766,-22.26317024230957,7.229029655456543,-23.027902603149414,18.672151565551758,-17.854778289794922,-12.461685180664062,16.845077514648438,15.405277252197266,-27.77138328552246,-12.673223495483398,-5.472750186920166,-31.398298263549805,4.0682573318481445,-33.58841323852539,7.751162528991699,-22.703617095947266,16.624065399169922,29.475854873657227,-10.257492065429688,-24.731800079345703,-14.671468734741211,12.97728443145752,-12.483729362487793,3.9829413890838623,17.979490280151367,-30.301355361938477,21.242351531982422,-16.82234764099121,-32.911895751953125,-5.641763687133789,-31.12439727783203,-9.15405559539795,-13.991471290588379,-28.104167938232422,-8.090070724487305,-28.85547637939453,-22.62433433532715,-11.53191089630127,-35.404640197753906,34.423519134521484,25.57993507385254,-11.186198234558105,-24.1171817779541,-27.002552032470703,23.844236373901367,-13.426892280578613,22.12874984741211,-30.253528594970703,31.305065155029297,25.93749237060547,13.322382926940918,-22.552642822265625,17.656661987304688,-9.515206336975098,18.260623931884766,34.868080139160156,-30.7923526763916,13.209195137023926,21.735919952392578,32.15836715698242,9.177791595458984,30.073123931884766,-30.769107818603516,-21.39267921447754,-29.15809440612793,-36.344825744628906,-28.6483211517334,-0.8666445016860962,-1.576292872428894,-25.89020347595215,-10.256364822387695,-6.291752815246582,20.373769760131836,2.844879627227783,10.174652099609375,10.753108978271484,36.43246078491211,-21.881383895874023,-31.711864471435547,36.385597229003906,26.21146583557129,12.609131813049316,6.010464191436768,-18.85159683227539,-6.5852532386779785,-28.141210556030273,9.828697204589844,-30.281269073486328,26.960126876831055,8.305542945861816,12.621026039123535,-35.711063385009766,-15.018044471740723,-22.262928009033203,5.5580267906188965,-6.284160614013672,11.351436614990234,-30.018312454223633,-5.271756649017334,-24.64729118347168,26.055742263793945,18.348987579345703,-17.72498893737793,11.234585762023926,-9.404862403869629,33.67133331298828,-8.553388595581055,17.076200485229492,10.729487419128418,46.57097244262695,26.901512145996094,-38.514732360839844,14.11658000946045,0.1499992460012436,-31.971221923828125,33.35517120361328,23.141000747680664,-3.753225803375244,-33.29118728637695,-3.8644096851348877,28.022705078125,-14.934326171875,0.79185551404953,-10.388750076293945,-33.5809440612793,-23.605371475219727,12.488434791564941,33.85137176513672,-11.008819580078125,-35.23754119873047,22.227733612060547,-23.895000457763672,-30.505508422851562,8.091075897216797,-28.75859260559082,-22.28805923461914,-33.31430435180664,-26.732580184936523,2.61822772026062,-29.997602462768555,4.132312774658203,25.25786018371582,-20.46409797668457,-9.14989948272705,-6.729004859924316,-34.42580795288086,1.6363345384597778,-36.1150016784668,1.2253392934799194,32.59626770019531,29.663076400756836,30.680545806884766,-30.520309448242188,31.883146286010742,44.06049728393555,-32.631473541259766,-4.344900608062744,19.353099822998047,20.488094329833984,-35.404884338378906,35.0986213684082,-5.690321922302246,24.868797302246094,41.45249557495117,28.71077537536621,-27.076679229736328,39.65929412841797,26.493873596191406,-26.39274024963379,-11.765951156616211,-33.80717849731445,-10.320902824401855,19.69841194152832,10.357376098632812,-11.73270320892334,41.452850341796875,-30.878833770751953,17.532684326171875,26.393280029296875,-4.150269508361816,-27.887117385864258,-9.343058586120605,-11.9901762008667,36.40110397338867,-9.005626678466797,-0.055912766605615616,-28.17359161376953,9.164000511169434,34.04928970336914,1.0494160652160645,30.78307342529297,3.3810157775878906,35.245479583740234,-32.65573501586914,-6.997334957122803,22.622108459472656,-4.7192702293396,-10.385026931762695,14.245551109313965,23.174833297729492,12.25174331665039,5.773070335388184,28.795612335205078,-19.160966873168945,-28.975099563598633,-16.85140037536621,-17.012571334838867,-15.42430305480957,34.48871612548828,30.897592544555664,-4.1855902671813965,32.557369232177734,10.718868255615234,-15.41910457611084,18.958660125732422,0.16806982457637787,-5.154480457305908,28.733375549316406,26.946239471435547,-8.522313117980957,18.348848342895508,-10.453460693359375,24.049814224243164,-33.986751556396484,-1.014431118965149,-36.18501663208008,35.238094329833984,-0.2091943919658661,26.549219131469727,14.333044052124023,24.68979835510254,-27.378480911254883,34.31637954711914,38.99968338012695,39.82172393798828,34.86357116699219,-30.5844669342041,-12.072225570678711,31.994157791137695,-12.421603202819824,30.395729064941406,11.376701354980469,-37.712039947509766,-6.336921215057373,-6.524652004241943,-13.458395957946777,-21.786575317382812,42.22919845581055,-36.177024841308594,-34.632484436035156,-35.854347229003906,-20.758607864379883,9.634142875671387,-33.6052360534668,6.382899761199951,-10.86166763305664,-1.64234459400177,16.819284439086914,-27.175600051879883,-13.587188720703125,-29.850425720214844,27.467668533325195,-31.178974151611328,30.74962043762207,6.928073406219482,36.227115631103516,-14.485610961914062,34.4184455871582,-29.569181442260742,-28.98747444152832,-10.925125122070312,16.358211517333984,24.30756378173828,13.451827049255371,30.722576141357422,30.727039337158203,33.74494171142578,-27.01782989501953,27.37163543701172,18.66054916381836,-3.6846046447753906,-14.70886516571045,2.3928613662719727,11.580794334411621,32.70245361328125,28.739965438842773,33.73025894165039,-0.975979745388031,38.7878532409668,13.23997688293457,19.693683624267578,-32.07347106933594,-9.004162788391113,-5.586483001708984,37.94528579711914,-29.42302703857422,-13.134695053100586,39.30167770385742,-6.632848739624023,-9.072366714477539,-33.66473388671875,1.527229905128479,-2.213566303253174,-22.22760581970215,-23.943634033203125,10.594550132751465,-27.39735221862793,-9.766380310058594,-29.8509521484375,-8.97251033782959,-23.816102981567383,-30.029600143432617,-5.490261077880859,42.61007308959961,12.109354019165039,9.697959899902344,-33.64655685424805,-23.935894012451172,-30.26318359375,-27.553281784057617,-31.60495948791504,26.213584899902344,32.174072265625,30.419322967529297,0.48086315393447876,-12.224581718444824,-12.297113418579102,-24.339292526245117,-34.69094467163086,-12.472515106201172,-29.216766357421875,-11.365837097167969,-31.05105209350586,2.515371322631836,-33.425262451171875,9.256129264831543,-9.123759269714355,31.697227478027344,-27.660808563232422,28.737934112548828,25.272401809692383,3.1431236267089844,-8.993154525756836,15.380143165588379,5.126526832580566,1.7407914400100708,-12.22058391571045,19.087268829345703,19.7061710357666,-5.393218994140625,3.288419008255005,10.193885803222656,-9.248473167419434,4.788417816162109,-17.33658790588379,1.0236996412277222,12.34805679321289,43.4691162109375,-0.2163614183664322,-25.175302505493164,17.601694107055664,41.666847229003906,-23.14112663269043,0.5092369318008423,30.829837799072266,19.599546432495117,-2.7197415828704834,1.1921544075012207,8.964104652404785,-35.080379486083984,28.65578269958496,29.276409149169922,-6.697937965393066,27.187820434570312,21.944948196411133,31.328401565551758,35.41761779785156,3.3663289546966553,31.733211517333984,20.61347770690918,21.04818344116211,-14.844905853271484,12.889780044555664,22.650848388671875,29.90095329284668,-14.047544479370117,26.16400909423828,11.251387596130371,-28.77312660217285,-28.23639678955078,-23.3421688079834,2.1522104740142822,39.49617385864258,2.4630792140960693,-29.241619110107422,-2.7068564891815186,22.97577476501465,-35.42936325073242,-29.817880630493164,8.16158676147461,40.1393928527832,-7.64438009262085,34.057857513427734,-25.306297302246094,41.41237258911133,-27.68523597717285,-4.87418794631958,-11.361217498779297,23.792236328125,6.246021270751953,30.080032348632812,3.5777461528778076,-12.3825101852417,3.5096986293792725,5.554250240325928,11.130030632019043,-11.944836616516113,12.140978813171387,-29.130287170410156,13.08268928527832,27.456497192382812,-27.648523330688477,12.524653434753418,7.780957221984863,-33.064002990722656,9.906288146972656,-12.608091354370117,8.294631004333496,-24.37468719482422,19.584392547607422,-31.365297317504883,-0.9785483479499817,-8.670845985412598,0.24636004865169525,14.444982528686523,-17.05128288269043,-14.374245643615723,6.373331546783447,-29.458162307739258,2.5513343811035156,-23.4688663482666,-8.710295677185059,4.433383941650391,-9.241732597351074,23.700763702392578,34.91809844970703,-10.364141464233398,-23.362619400024414,-14.63886547088623,-4.569147109985352,-24.869831085205078,-26.132131576538086,4.078719615936279,42.6302604675293,18.541383743286133,-24.220239639282227,-22.55596160888672,33.5882682800293,-4.78605318069458,-10.265410423278809,-23.235685348510742,26.218162536621094,-33.57889938354492,13.249244689941406,23.549583435058594,-33.02974319458008,-28.22902488708496,11.372794151306152,26.917512893676758,0.9607031345367432,38.23139953613281,22.33621597290039,39.8731575012207,-24.79511833190918,16.100400924682617,-1.3953207731246948,9.86987590789795,7.389939308166504,-23.034706115722656,-32.04192352294922,-30.966222763061523,-26.96414566040039,11.630489349365234,1.7123583555221558,-23.003868103027344,-22.41094398498535,23.970643997192383,-14.152533531188965,20.230772018432617,19.13892936706543,8.35790729522705,-5.11410665512085,-28.146202087402344,-29.289024353027344,40.866920471191406,36.691673278808594,20.437347412109375,9.920248985290527,34.58165740966797,-33.87654495239258,-31.36470603942871,-33.633277893066406,17.14415740966797,-35.62956619262695,10.975173950195312,-29.483057022094727,-10.792291641235352,-28.91944122314453,-30.815372467041016,-24.250770568847656,41.029457092285156,26.842927932739258,19.563831329345703,-21.071372985839844,29.26461410522461,34.035789489746094,-27.528730392456055,-9.191819190979004,-0.057815901935100555,12.45766830444336,32.10536193847656,-5.77496862411499,29.555856704711914,-11.200191497802734,-35.63728713989258,-10.421051025390625,2.1719725131988525,-8.324098587036133,41.11551284790039,-24.95072364807129,-30.067506790161133,11.202544212341309,-28.295045852661133,-8.160886764526367,-28.470184326171875,33.91291427612305,26.659618377685547,0.6811214685440063,39.32037353515625,17.396299362182617,26.670801162719727,45.71394729614258,40.106876373291016,-19.914833068847656,6.609142780303955,-34.26836013793945,32.19019317626953,14.652613639831543,7.584050178527832,-26.164745330810547,10.960881233215332,28.99406623840332,-2.906381368637085,26.34980583190918,24.165796279907227,41.167945861816406,12.682568550109863,41.789920806884766,18.610843658447266,-22.79918670654297,-25.19631004333496,0.2657690942287445,11.125019073486328,31.76287078857422,37.06237030029297,9.634106636047363,4.1889777183532715,2.8943045139312744,7.014583587646484,4.39584493637085,-26.85256004333496,-2.3104019165039062,21.393375396728516,-0.45604097843170166,42.53397750854492,-30.546077728271484,-6.161940574645996,4.604001045227051,6.1169610023498535,-16.355384826660156,26.823055267333984,-15.013618469238281,39.52393341064453,-12.088052749633789,-25.251523971557617,22.427440643310547,-33.375938415527344,35.05213928222656,8.61706256866455,26.856454849243164,16.726106643676758,-2.43493914604187,-38.0286750793457,-33.86958694458008,-3.988927125930786,-26.53879165649414,-30.083293914794922,-31.72051239013672,27.92473602294922,2.279998540878296,-28.25440788269043,-10.53837776184082,3.802870988845825,-23.30942153930664,-26.333984375,39.90970230102539,26.78845977783203,-29.250375747680664,11.732312202453613,29.419803619384766,5.894598484039307,24.130062103271484,-35.74510192871094,-32.45568084716797,38.79911804199219,-23.80747413635254,-25.324453353881836,-28.985811233520508,11.638293266296387,-34.80655288696289,7.9877610206604,27.200435638427734,0.41767632961273193,-27.90198516845703,-30.726028442382812,36.23062515258789,-11.415624618530273,-31.124589920043945,4.621175765991211,-11.2540922164917,-7.979832649230957,38.02391815185547,3.7945518493652344,-13.549715042114258,28.533178329467773,29.374666213989258,-11.803384780883789,-6.080994129180908,1.640162706375122,-19.584060668945312,11.13289737701416,39.249332427978516,24.743738174438477,-6.803979873657227,-7.579370021820068,20.150577545166016,-21.794315338134766,-36.50685501098633,-13.354660034179688,6.783551216125488,-30.172332763671875,-16.99722671508789,-10.486435890197754,-22.281814575195312,11.784575462341309,30.929180145263672,-1.3078750371932983,-31.795671463012695,13.813777923583984,7.261508941650391,-32.1014518737793,-9.540677070617676,-33.020992279052734,5.836273193359375,-21.782758712768555,16.56958770751953,22.01894760131836,-6.259554386138916,18.440954208374023,-5.301149368286133,20.857898712158203,39.20828628540039,-28.58882713317871,-11.62763500213623,17.901559829711914,5.885226249694824,-33.672245025634766,-34.546634674072266,-23.70735740661621,10.28382396697998,-35.73349380493164,4.412813663482666,4.641575336456299,28.51097297668457,25.73005485534668,10.951364517211914,-26.438703536987305,31.148969650268555,-23.144487380981445,29.721269607543945,29.00847053527832,-16.271900177001953,-5.124261379241943,-32.29037094116211,-29.787776947021484,4.1297197341918945,-18.347476959228516,30.403793334960938,18.583450317382812,8.043598175048828,-34.274227142333984,27.02039909362793,4.2104620933532715,-7.360032081604004,-8.788642883300781,-12.620896339416504,30.197494506835938,17.463417053222656,-20.46990966796875,-35.64480209350586,40.03646469116211,30.738372802734375,14.205464363098145,28.704723358154297,39.405338287353516,-3.954509735107422,36.190975189208984,17.14323616027832,7.02931022644043,22.07806968688965,-29.78303337097168,-29.745647430419922,43.27894973754883,37.88980484008789,41.49220657348633,43.5534553527832,1.1067744493484497,4.437129497528076,-28.261981964111328,11.204899787902832,17.430896759033203,35.30615997314453,-16.35378074645996,-26.322866439819336,15.727993965148926,23.68979835510254,5.267786502838135,35.92050552368164,11.804046630859375,-32.679203033447266,3.0776493549346924,-26.164941787719727,-27.69451141357422,39.04920959472656,-28.47610855102539,-26.68062973022461,36.506874084472656,-27.25238037109375,30.68616485595703,31.238697052001953,14.608357429504395,12.592514991760254,5.013221740722656,-12.991782188415527,3.835848093032837,-11.009135246276855,32.844356536865234,36.801109313964844,-9.810700416564941,-11.022994995117188,-30.472288131713867,-34.301753997802734,-17.10228157043457,-3.4321279525756836,-12.685606956481934,-5.004796504974365,-12.447249412536621,32.953269958496094,-24.044038772583008,-3.3358912467956543,-22.84358787536621,-11.27202320098877,-24.855575561523438,-33.80413818359375,43.522666931152344,-25.281265258789062,-5.877527236938477,-27.256574630737305,-30.274030685424805,41.40637969970703,8.391532897949219,-33.96305847167969,-13.882353782653809,25.046276092529297,-1.1214776039123535,-23.55260467529297,-8.38824462890625,-12.505617141723633,-9.181070327758789,-13.694314002990723,-9.41633129119873,4.29921817779541,11.69638729095459,-29.681964874267578,-35.9737548828125,38.94654083251953,42.36983871459961,-29.140024185180664,-19.31041717529297,8.429551124572754,-17.097759246826172,11.1469087600708,10.502787590026855,-30.921098709106445,29.13319206237793,8.442102432250977,-34.36750030517578,3.537445068359375,24.6634521484375,-28.957063674926758,-13.80866813659668,38.21012496948242,14.22298526763916,-33.270748138427734,5.362922668457031,26.796554565429688,39.2349967956543,39.667301177978516,22.268512725830078,-11.641639709472656,8.583939552307129,40.247928619384766,-12.867986679077148,33.99649429321289,5.463602542877197,-11.449531555175781,42.541534423828125,-0.8611319065093994,-33.49726486206055,-30.928691864013672,12.870906829833984,-13.246092796325684,-28.18553924560547,25.973163604736328,-7.808555603027344,19.828081130981445,2.94071364402771,-4.321316719055176,-16.17359733581543,7.83518648147583,-29.064516067504883,23.325727462768555,-12.811427116394043,-11.852790832519531,42.45479202270508,3.153204917907715,-14.212002754211426,-35.82233810424805,-10.599011421203613,-17.118772506713867,-0.15846145153045654,-35.546844482421875,-12.117789268493652,-10.410825729370117,-23.4155330657959,36.90702819824219,2.346791982650757,-3.0891427993774414,5.231595993041992,-20.016220092773438,-28.209943771362305,-8.041874885559082,-23.431684494018555,-30.569955825805664,12.834851264953613,-21.70675277709961,-24.291017532348633,-11.392433166503906,40.703609466552734,28.777299880981445,14.29404354095459,32.235015869140625,-35.716339111328125,-24.59646987915039,-16.019683837890625,30.793367385864258,-23.248685836791992,12.574579238891602,23.600788116455078,1.573817253112793,42.04302978515625,-22.280691146850586,11.068285942077637,13.529239654541016,-30.052114486694336,-37.06692886352539,2.6262145042419434,4.171050071716309,-30.758005142211914,-14.628180503845215,-10.300106048583984,-25.513181686401367,-34.47104263305664,-23.53534507751465,-22.648916244506836,12.963430404663086,-9.447450637817383,34.81438064575195,-23.58286476135254,26.193706512451172,-9.892788887023926,15.12603759765625,27.278549194335938,-12.89996337890625,31.534887313842773,-3.6330041885375977,14.419732093811035,8.681412696838379,38.25850296020508,-16.707014083862305,-23.044343948364258,37.738372802734375,17.358503341674805,-10.074995994567871,-4.692325115203857,-1.058898687362671,-6.441195011138916,-25.23744773864746,34.953861236572266,-34.55717849731445,-20.607379913330078,-24.183767318725586,34.170501708984375,-36.35902786254883,19.828277587890625,-32.29347610473633,-20.921613693237305,20.707275390625,-7.193305492401123,41.903141021728516,-29.656963348388672,39.842315673828125,29.42593765258789,0.255388081073761,43.68790054321289,35.2880744934082,-25.11266326904297,-17.2805118560791,-25.7617244720459,-24.813987731933594,-23.315427780151367,17.921112060546875,20.012828826904297,-15.038660049438477,3.351214647293091,24.74262809753418,30.40419578552246,41.79948425292969,-21.409629821777344,-15.471921920776367,-33.798500061035156,-13.455048561096191,24.17345428466797,29.357666015625,38.809356689453125,15.953984260559082,-25.450695037841797,12.888137817382812,42.16404724121094,-14.17632007598877,-1.9007188081741333,-10.404659271240234,-30.789894104003906,33.35443115234375,-32.93639373779297,-6.785895824432373,-13.173216819763184,43.957191467285156,33.278011322021484,3.7104315757751465,-19.446481704711914,-23.52159881591797,12.716147422790527,37.34976577758789,32.08087158203125,2.7656607627868652,-25.28887176513672,-22.565597534179688,-3.280003309249878,-22.26961326599121,-28.583024978637695,-1.5757911205291748,-33.07404327392578,12.445231437683105,-34.561668395996094,-10.043692588806152,19.040424346923828,34.53662872314453,1.181485891342163,-22.294414520263672,-9.230342864990234,-13.66168212890625,-16.084823608398438,34.642398834228516,39.43975830078125,35.32283401489258,45.993858337402344,-24.586585998535156,-25.10601043701172,27.569841384887695,-30.74273109436035,-10.320243835449219,4.175243854522705,42.597408294677734,-7.4112749099731445,30.285572052001953,36.02854537963867,23.32714080810547,12.997296333312988,-18.5885066986084,-27.2634220123291,20.128416061401367,32.868896484375,-28.41320037841797,-3.792729139328003,29.74995994567871,-10.849048614501953,-20.139842987060547,-23.699880599975586,-4.613908767700195,-33.70244216918945,-11.117350578308105,27.037904739379883,-19.235952377319336,-10.021614074707031,-12.103114128112793,-1.0317108631134033,21.90042495727539,-7.8311686515808105,-8.147403717041016,-24.630094528198242,17.452486038208008,22.82552719116211,22.144798278808594,-16.648557662963867,1.4951707124710083,13.725837707519531,13.051438331604004,-22.42329978942871,-35.28984451293945,31.875125885009766,-17.1859188079834,-11.005247116088867,26.113725662231445,28.356996536254883,6.496672630310059,-12.038763046264648,-19.187204360961914,-36.633453369140625,11.59911060333252,-2.092958927154541,-33.51734161376953,39.760257720947266,-10.388184547424316,20.385530471801758,-14.630232810974121,-27.989194869995117,-35.341182708740234,32.68247985839844,4.554403305053711,34.9970817565918,-17.157485961914062,13.92879581451416,-15.218354225158691,24.795072555541992,-30.117570877075195,-25.51186752319336,-26.136445999145508,-26.950092315673828,-22.537538528442383,-36.27425765991211,-25.60682487487793,3.590972661972046,28.159921646118164,-29.873281478881836,-32.91470718383789,-33.162052154541016,-36.28334426879883,25.701581954956055,24.707141876220703,-22.052038192749023,39.87368392944336,17.5794677734375,1.0199154615402222,41.87446594238281,-14.79891586303711,11.740967750549316,-6.109585762023926,-17.801298141479492,-28.473590850830078,-14.764084815979004,-5.690179347991943,-8.348981857299805,-25.484243392944336,5.108174800872803,-1.7870523929595947,19.87981414794922,6.220447063446045,-27.61748695373535,32.723453521728516,-14.26608943939209,29.659616470336914,-14.241456985473633,29.632780075073242,7.14843225479126,18.20227813720703,-8.917901992797852,-31.55204963684082,-29.063745498657227,2.410759925842285,33.863101959228516,1.0309836864471436,40.36428451538086,28.99888801574707,11.757180213928223,41.54193878173828,12.52641773223877,-30.477317810058594,-22.39044189453125,-0.5557613372802734,10.788511276245117,-36.518531799316406,-1.7369531393051147,37.76374435424805,-22.0889949798584,-22.15481185913086,11.38892650604248,-6.10403299331665,-26.149967193603516,-22.867725372314453,33.1788330078125,-31.18350601196289,4.570102691650391,-12.728224754333496,-20.30569076538086,-30.0825252532959,41.06880569458008,34.74707794189453,-27.837814331054688,-28.238889694213867,31.222400665283203,30.066349029541016,1.9263283014297485,31.98806381225586,24.501209259033203,23.22284698486328,-30.821420669555664,28.744300842285156,40.78382873535156,-13.422539710998535,-6.781412601470947,-28.21831512451172,-31.358896255493164,1.3386588096618652,-34.5435791015625,34.0445671081543,-32.64005661010742,-6.527353286743164,-29.84807014465332,7.042052745819092,34.13705062866211,6.874439239501953,-3.7476086616516113,-35.87852096557617,9.30403995513916,28.403392791748047,-22.606870651245117,-31.1602783203125,-24.225177764892578,-24.0032958984375,-22.346101760864258,-27.5291690826416,-14.406758308410645,-30.44381332397461,32.39384078979492,0.965472400188446,-30.677623748779297,-23.158395767211914,34.088191986083984,8.159662246704102,28.987340927124023,-13.427490234375,-10.273541450500488,16.058269500732422,30.626256942749023,39.94915008544922,-31.92607307434082,24.06893539428711,21.568721771240234,-8.216792106628418,42.49918746948242,-10.364741325378418,-9.477161407470703,13.233146667480469,-31.271820068359375,-22.483551025390625,2.8308541774749756,15.326601028442383,27.43045997619629,22.32540512084961,7.585809707641602,-10.428272247314453,-34.29640197753906,-30.59079360961914,25.78433609008789,16.77447509765625,4.088890552520752,-12.065546035766602,-31.906984329223633,13.322409629821777,20.699424743652344,-6.630321502685547,-23.049501419067383,30.29962921142578,-14.733699798583984,-36.23725128173828,-13.225855827331543,-1.939958930015564,-8.514609336853027,-8.239899635314941,6.4768853187561035,5.559152126312256,18.743223190307617,-33.73619842529297,-27.266530990600586,-14.270371437072754,13.966591835021973,-0.016315387561917305,-13.850634574890137,22.756088256835938,26.99925422668457,5.629437446594238,-11.479150772094727,29.39590835571289,-10.274834632873535,-19.0523624420166,-25.103267669677734,-17.62220001220703,22.674894332885742,-33.80293655395508,28.60500717163086,-36.99818420410156,37.57032012939453,-28.991235733032227,23.63162612915039,28.684246063232422,6.476982116699219,-27.379732131958008,4.88885498046875,-32.57167053222656,9.25342082977295,40.53075408935547,33.10131072998047,-16.407482147216797,-34.657527923583984,-4.3359503746032715,29.497241973876953,-12.391668319702148,-34.17706298828125,-28.264142990112305,-26.123876571655273,-34.37041091918945,31.083391189575195,33.68722915649414,12.561094284057617,-26.224538803100586,-10.064438819885254,-11.991735458374023,12.765266418457031,-4.281085014343262,-26.3858585357666,10.240998268127441,-13.098993301391602,-6.478679180145264,-11.714947700500488,-8.737940788269043,-26.012651443481445,22.855815887451172,32.57399368286133,12.593618392944336,22.1798095703125,-17.147186279296875,-23.61410140991211,32.8709716796875,-29.70249366760254,5.709235668182373,-7.491016387939453,37.411434173583984,-31.09784507751465,0.8872167468070984,-11.289441108703613,22.872236251831055,-29.904151916503906,10.25597858428955,-21.655569076538086,-23.618106842041016,12.679588317871094,-33.527137756347656,0.22038650512695312,-25.858501434326172,5.4185404777526855,-15.219908714294434,13.882596015930176,-6.345124244689941,-23.867948532104492,23.66026496887207,-20.891408920288086,10.652193069458008,33.63788986206055,35.85052490234375,24.736675262451172,0.6795015335083008,-1.3496291637420654,23.117389678955078,-23.233407974243164,33.32054138183594,15.118400573730469,10.312077522277832,-31.78371238708496,-10.191633224487305,3.8046875,-23.307579040527344,-9.241539001464844,-23.492799758911133,21.258197784423828,-23.765968322753906,27.671449661254883,38.32949447631836,19.922983169555664,39.35726547241211,-28.685861587524414,-20.815954208374023,-11.941167831420898,43.65517807006836,27.138486862182617,-2.5417771339416504,-36.28353500366211,-12.297125816345215,10.824295997619629,1.3592159748077393,-9.635795593261719,22.40165901184082,-33.373382568359375,-24.6589412689209,-8.191559791564941,-2.8145875930786133,-20.525468826293945,29.281003952026367,36.08525848388672,-12.613120079040527,2.6439778804779053,-31.476459503173828,28.675806045532227,25.637800216674805,37.48817443847656,9.325636863708496,-7.822239398956299,41.752567291259766,26.888507843017578,-30.329822540283203,27.128149032592773,-22.38571548461914,-38.09602355957031,28.75821304321289,8.957390785217285,-31.192276000976562,-14.04241943359375,33.6063232421875,5.503949165344238,16.733625411987305,17.907917022705078,-5.824772357940674,-23.568727493286133,39.045387268066406,-12.214513778686523,2.9859650135040283,11.217107772827148,27.273853302001953,-31.90208625793457,-19.641399383544922,5.156457901000977,23.494979858398438,-26.659881591796875,27.093599319458008,6.639886379241943,2.7116341590881348,-22.707096099853516,-24.035724639892578,31.548870086669922,25.486303329467773,24.512466430664062,-0.7734615802764893,-35.237510681152344,16.59164047241211,-23.00922203063965,-24.181224822998047,-30.000425338745117,17.58793830871582,21.978153228759766,-18.768627166748047,-23.466039657592773,24.856191635131836,-9.160196304321289,36.25334167480469,-15.19989013671875,-35.837947845458984,-9.91988754272461,17.7353572845459,27.967300415039062,-25.793581008911133,30.28663444519043,-13.38433837890625,17.79055404663086,-22.775144577026367,30.36213493347168,-27.917673110961914,41.16714859008789,12.849197387695312,4.575076103210449,33.473751068115234,-26.326156616210938,-30.469675064086914,30.26055335998535,-34.59275436401367,34.5107307434082,-24.644277572631836,41.02092361450195,-15.85053539276123,-30.386680603027344,26.82438087463379,-21.779129028320312,29.30819320678711,-18.846033096313477,-34.2800407409668,27.634584426879883,-30.853431701660156,-7.167533874511719,24.298748016357422,6.569476127624512,-30.835145950317383,-26.657331466674805,19.66197967529297,-29.236984252929688,-4.773725986480713,30.488866806030273,-22.290666580200195,-5.576704502105713,32.69986343383789,-32.3623161315918,7.542895793914795,12.67719841003418,5.849398612976074,27.53850555419922,-6.657057762145996,41.84124755859375,-30.988527297973633,-1.911874532699585,21.178998947143555,33.08049774169922,0.9934135675430298,-17.510509490966797,-12.373824119567871,17.436307907104492,-8.86703872680664,-21.949825286865234,7.103114604949951,-28.625455856323242,-33.19707107543945,-34.11123275756836,39.230560302734375,0.5456134080886841,-10.332977294921875,12.697683334350586,1.2139298915863037,44.15580368041992,1.7887440919876099,-22.611833572387695,8.937309265136719,-32.938358306884766,29.93891716003418,27.61467170715332,31.704782485961914,3.437053680419922,29.754783630371094,-10.478775024414062,6.203029632568359,12.220497131347656,-22.607383728027344,22.32192039489746,15.110638618469238,10.022744178771973,4.699172019958496,25.019245147705078,13.62710952758789,-8.589780807495117,31.81461524963379,-0.7509927153587341,-17.067888259887695,-23.388778686523438,-19.805335998535156,-1.4100944995880127,-16.801679611206055,-32.37689971923828,-9.44178581237793,22.283220291137695,0.26617956161499023,-30.580585479736328,22.021448135375977,35.49613571166992,-23.87036895751953,9.510811805725098,19.671321868896484,-30.597169876098633,26.7335205078125,3.150493860244751,3.62595534324646,34.34189224243164,-4.158557891845703,30.44379997253418,-7.243352890014648,-26.195390701293945,7.953512668609619,5.1235833168029785,22.076602935791016,-11.860941886901855,-6.2937140464782715,18.192609786987305,-27.256027221679688,2.6306779384613037,-9.017477989196777,-35.2798957824707,28.061960220336914,10.629777908325195,-0.5168566107749939,1.3055059909820557,27.41291618347168,-13.95300006866455,28.596200942993164,7.165661334991455,-27.08378791809082,-14.263777732849121,39.739479064941406,-28.989402770996094,-11.579360961914062,-5.942309379577637,28.62334632873535,13.141291618347168,6.420121669769287,-31.004798889160156,-17.848814010620117,-6.027510166168213,25.244197845458984,-22.968002319335938,18.681516647338867,-4.332494735717773,19.349782943725586,14.615219116210938,25.519851684570312,16.110767364501953,13.726672172546387,3.029543399810791,26.009132385253906,34.44844436645508,-15.52949047088623,29.00898551940918,-11.407764434814453,-32.41972351074219,17.644794464111328,-26.318031311035156,-2.991006374359131,27.988588333129883,42.538795471191406,8.870479583740234,42.137569427490234,-28.422121047973633,-9.443692207336426,-18.551471710205078,-21.868806838989258,16.167434692382812,-29.12836265563965,28.61197280883789,-15.886040687561035,5.172820568084717,-28.995750427246094,-22.73552703857422,15.354464530944824,-21.863037109375,34.82988739013672,40.71834182739258,12.870641708374023,33.10045623779297,41.284175872802734,-25.365215301513672,1.8142154216766357,-22.6237735748291,5.113759994506836,37.25838088989258,32.309715270996094,5.433873176574707,11.86097526550293,-25.72095489501953,7.159404277801514,-32.63503646850586,27.899749755859375,-19.41544532775879,-21.267602920532227,10.927877426147461,25.196128845214844,-10.969026565551758,-4.137148380279541,1.7541385889053345,-23.550216674804688,-16.652544021606445,-3.2209126949310303,11.545894622802734,-26.105722427368164,10.647915840148926,24.34154510498047,-7.044212341308594,-10.071928024291992,21.309036254882812,10.977044105529785,9.683758735656738,-15.771316528320312,-10.581908226013184,-16.0473690032959,32.311973571777344,15.686368942260742,6.080096244812012,-26.07260513305664,-31.367141723632812,-32.92303466796875,-15.622310638427734,10.160257339477539,-21.65431785583496,-3.5101799964904785,-16.635103225708008,-17.554141998291016,-14.968673706054688,33.46925354003906,24.097450256347656,-22.073774337768555,3.9442412853240967,-3.797954559326172,6.902669429779053,-29.418853759765625,-3.502239942550659,-7.946308612823486,20.331531524658203,-8.122220993041992,-6.212032794952393,-21.912738800048828,-23.507116317749023,-12.467243194580078,-34.16785430908203,-30.345970153808594,-7.810517311096191,-10.30592155456543,-9.177268981933594,13.243629455566406,-37.49599838256836,-17.494539260864258,-31.12283706665039,-28.84966468811035,23.25545883178711,17.632457733154297,-9.706402778625488,12.739235877990723,-18.38477897644043,-33.364967346191406,-6.815129280090332,-26.25102424621582,6.680837631225586,-19.126394271850586,26.109012603759766,-24.480728149414062,12.515738487243652,-35.483001708984375,-9.210235595703125,14.389470100402832,-8.748822212219238,-7.456841945648193,-26.572525024414062,43.766319274902344,-4.999520301818848,-5.7006402015686035,-27.361507415771484,-26.527578353881836,34.19789123535156,-28.873933792114258,-22.27208137512207,41.544559478759766,16.566808700561523,20.045791625976562,-28.143909454345703,-14.002537727355957,-8.456454277038574,6.038227558135986,19.915782928466797,-35.0197639465332,-11.279547691345215,-34.23924255371094,41.08755874633789,-22.72199821472168,10.409476280212402,-30.320514678955078,-21.407352447509766,15.016571044921875,-12.248934745788574,-30.24529266357422,17.090673446655273,26.8579044342041,33.106361389160156,-23.247228622436523,5.387971878051758,-9.551685333251953,39.70182418823242,11.091383934020996,-23.256723403930664,11.347075462341309,9.585558891296387,7.557196617126465,-8.653594970703125,-2.3644495010375977,10.529230117797852,-3.2327728271484375,-3.2013401985168457,21.96467399597168,35.37907028198242,1.677439570426941,31.661813735961914,-28.374155044555664,27.076984405517578,40.790199279785156,-29.789358139038086,19.669235229492188,-21.766271591186523,-26.391294479370117,-24.402976989746094,-28.307649612426758,1.0392916202545166,2.023056983947754,33.61771011352539,-34.700260162353516,-29.632532119750977,-11.155143737792969,-21.305652618408203,-13.509956359863281,15.129837989807129,-6.718567848205566,-32.36758804321289,-34.63700485229492,-11.859857559204102,5.7580180168151855,8.721736907958984,-23.80587387084961,-21.028621673583984,-20.62568473815918,-31.06812858581543,3.4722483158111572,-9.653984069824219,43.60747528076172,-34.263492584228516,-28.16305160522461,9.912649154663086,-25.76430892944336,-10.896388053894043,-16.99765968322754,4.645640850067139,-7.255292892456055,-10.063735961914062,3.180715799331665,37.52833938598633,6.08056640625,5.937082767486572,13.856243133544922,-32.41383361816406,-9.230456352233887,27.8361873626709,-8.9056978225708,5.680525779724121,-30.590557098388672,5.690999984741211,-34.72123336791992,10.185331344604492,35.61556625366211,-10.894078254699707,-2.0923635959625244,-25.89628791809082,-22.659107208251953,-11.404131889343262,-6.52293062210083,-9.940266609191895,-20.444303512573242,-25.779129028320312,23.92759895324707,2.9701457023620605,35.563018798828125,42.76287841796875,-27.265098571777344,29.32577133178711,42.89472198486328,-6.213516712188721,-3.65681791305542,-6.401702404022217,26.36937713623047,-8.029536247253418,-8.930293083190918,-4.764467239379883,12.214326858520508,-25.44305419921875,-20.004905700683594,41.17898178100586,7.704301834106445,-33.997596740722656,-33.45716094970703,-31.618186950683594,8.857956886291504,30.839645385742188,-4.88228702545166,-11.256160736083984,-11.199104309082031,-27.479114532470703,-4.156466007232666,-18.2393798828125,-22.737037658691406,-7.001305103302002,-35.077667236328125,-25.481182098388672,18.679832458496094,-22.851652145385742,-15.79624080657959,23.792282104492188,31.667098999023438,32.54304885864258,-32.443206787109375,0.899436354637146,-12.825316429138184,29.818132400512695,-23.514162063598633,-24.034732818603516,-8.94192886352539,27.872753143310547,-26.241748809814453,-0.38946303725242615,27.028072357177734,-23.513471603393555,-29.825645446777344,-13.268299102783203,-29.812320709228516,2.004391670227051,18.788103103637695,39.401397705078125,-16.7204647064209,-9.049996376037598,33.001495361328125,-24.752166748046875,-9.099512100219727,28.856618881225586,27.963098526000977,28.21355438232422,34.44917297363281,20.75005340576172,32.184288024902344,-35.934757232666016,-32.51738739013672,-34.551578521728516,28.77342987060547,1.6234443187713623,-31.524309158325195,25.983930587768555,13.144410133361816,32.92023849487305,-26.139657974243164,-5.96816873550415,-28.764535903930664,42.17557144165039,26.943449020385742,-17.973247528076172,-3.3561034202575684,-10.014094352722168,41.535675048828125,-33.536502838134766,-33.22467041015625,-22.046871185302734,-30.979990005493164,-24.524635314941406,-31.552444458007812,-12.030613899230957,-34.128684997558594,-33.102481842041016,-9.2089262008667,4.268343925476074,-13.196707725524902,2.099669933319092,4.702627658843994,10.467761039733887,-19.152809143066406,-7.154435634613037,-28.9703426361084,23.644941329956055,-32.64579772949219,16.542621612548828,-23.690738677978516,-28.10836410522461,26.928770065307617,41.110450744628906,-22.961977005004883,28.038698196411133,21.488935470581055,21.281585693359375,35.523983001708984,31.39990997314453,-18.90559959411621,-3.616395950317383,36.12106704711914,-34.33995819091797,-25.3242130279541,-6.497556209564209,-11.817831039428711,-32.080543518066406,-3.8748040199279785,29.255739212036133,-1.2996835708618164,-31.36470603942871,-2.00775146484375,19.647510528564453,26.508193969726562,-26.464908599853516,7.218406677246094,15.872511863708496,-27.73463249206543,24.561973571777344,-1.3193919658660889,-27.214494705200195,1.7517451047897339,-12.931940078735352,15.063309669494629,-25.686376571655273,-29.475147247314453,21.999523162841797,-26.641403198242188,-11.307847023010254,-12.110431671142578,6.8463616371154785,9.343832969665527,-31.298992156982422,-2.130521059036255,-28.658018112182617,-8.619869232177734,2.0666444301605225,-11.873080253601074,-13.34193229675293,-36.62648010253906,-17.017736434936523,37.69242858886719,-36.349632263183594,-10.901432037353516,27.129257202148438,-30.728517532348633,32.21028137207031,3.993586540222168,-1.8349189758300781,-11.478649139404297,-35.25444793701172,20.256305694580078,-0.7433261871337891,30.931194305419922,-16.142534255981445,-13.333120346069336,-4.733797550201416,-11.751323699951172,14.142311096191406,9.582834243774414,42.706031799316406,41.533382415771484,33.5892219543457,33.87525939941406,-24.740032196044922,21.51064109802246,27.701030731201172,1.7548588514328003,29.964094161987305,9.656845092773438,12.453869819641113,15.855594635009766,17.324857711791992,9.175642967224121,39.55998992919922,16.36790657043457,-10.28901481628418,-25.051637649536133,38.92988586425781,31.95196533203125,27.826683044433594,28.27924156188965,1.856226921081543,29.415077209472656,26.964332580566406,31.35979652404785,-8.53203010559082,33.35734939575195,-12.66460132598877,-9.084490776062012,21.17231559753418,30.358644485473633,-28.260894775390625,36.02054977416992,39.45835494995117,41.34321212768555,-6.41411018371582,-23.574621200561523,-10.491972923278809,29.807680130004883,-32.33283615112305,34.88682556152344,-34.8339729309082,-23.54558563232422,-18.146196365356445,26.315431594848633,-29.027799606323242,-33.334537506103516,-27.6801815032959,31.024213790893555,27.269277572631836,3.71311092376709,39.41963195800781,29.635372161865234,4.584326267242432,-5.771551609039307,-7.447072982788086,-30.719905853271484,5.959945201873779,-22.66111183166504,22.049816131591797,-30.01030158996582,-28.712709426879883,38.61268997192383,2.8567659854888916,-4.305280685424805,-35.04719924926758,-24.72414779663086,17.989185333251953,-33.00624084472656,30.198284149169922,-9.821813583374023,44.197914123535156,24.715545654296875,27.091093063354492,-20.248252868652344,-9.240141868591309,0.9544432163238525,11.148627281188965,-9.233717918395996,1.735714316368103,-23.509716033935547,19.976821899414062,-18.472816467285156,-6.030499458312988,-28.51061248779297,2.498229742050171,-2.4242098331451416,-8.223828315734863,15.131904602050781,23.980693817138672,34.61604309082031,-22.93747901916504,-26.16106605529785,6.867875099182129,16.17902946472168,27.853466033935547,-10.394256591796875,16.258682250976562,-1.3850435018539429,-36.79151916503906,-9.719809532165527,-14.421759605407715,-20.416048049926758,13.317036628723145,-11.578853607177734,-33.990360260009766,36.15071487426758,41.852622985839844,-32.01536178588867,-18.4812068939209,45.30243682861328,-28.904441833496094,-3.4102048873901367,-23.895944595336914,-33.111454010009766,-32.24826431274414,-14.947559356689453,-12.399078369140625,29.617040634155273,-33.15836715698242,-14.24142074584961,-28.733625411987305,8.381566047668457,37.705570220947266,17.635807037353516,32.06426239013672,-29.66373062133789,3.995520830154419,-4.51490592956543,-31.96670913696289,39.04489517211914,-28.379587173461914,-32.55835723876953,-24.347402572631836,-23.575048446655273,-21.481773376464844,18.355255126953125,-11.328439712524414,-26.769845962524414,-19.033411026000977,-23.44610023498535,-22.143726348876953,13.21159553527832,2.0444679260253906,11.43851089477539,-26.4886417388916,4.8131303787231445,-12.951919555664062,-2.5918586254119873,-35.03208923339844,-0.6922448873519897,-26.10397720336914,-9.903816223144531,5.233402729034424,-25.43498992919922,37.498069763183594,7.453703880310059,23.53125,24.70268440246582,19.942739486694336,-3.9658055305480957,-14.56226921081543,-32.89762878417969,-19.8851261138916,38.208744049072266,30.555017471313477,-26.995655059814453,-33.72956085205078,26.78265380859375,-13.764406204223633,31.653079986572266,-27.960309982299805,13.44539737701416,3.892317533493042,-19.089134216308594,-3.4874606132507324,41.587799072265625,1.12174654006958,-32.456180572509766,-30.719881057739258,-2.605797529220581,-26.9340877532959,-23.625324249267578,39.54656219482422,41.02086639404297,-29.43763542175293,11.407000541687012,-29.130146026611328,41.0854377746582,30.62615966796875,-28.97970962524414,-24.45948600769043,35.01148223876953,-13.68120288848877,31.483667373657227,-29.186120986938477,16.53171730041504,-1.5364713668823242,40.375064849853516,-31.40144157409668,-23.22886848449707,-29.713781356811523,-22.1599063873291,-23.067506790161133,-14.835945129394531,16.85617446899414,24.63127899169922,27.4373779296875,-23.55659294128418,-6.259921550750732,-22.91921615600586,42.26856994628906,10.452188491821289,3.1540768146514893,-36.302818298339844,-12.974994659423828,-25.82758140563965,-24.36968231201172,-13.414737701416016,-17.295013427734375,-12.422157287597656,14.962766647338867,-1.6765186786651611,2.888662576675415,12.674569129943848,26.855318069458008,31.410099029541016,20.557188034057617,6.520982265472412,24.15277099609375,1.3448009490966797,20.9582576751709,-20.26665687561035,-9.776288986206055,40.54551696777344,17.40308952331543,-31.86517906188965,-14.512853622436523,-36.309688568115234,39.21765899658203,29.167003631591797,31.361934661865234,38.418758392333984,27.913955688476562,-13.630147933959961,21.611175537109375,23.105003356933594,-9.995257377624512,-28.226247787475586,16.94042205810547,-33.80766677856445,-14.060308456420898,37.25766372680664,13.869860649108887,11.2688570022583,11.54956340789795,-27.80392074584961,-14.368576049804688,31.346874237060547,6.711823463439941,-9.6333646774292,0.01271762140095234,-31.506256103515625,-34.471832275390625,28.49787139892578,31.31964683532715,37.245628356933594,-34.41034698486328,-11.22869873046875,-8.394715309143066,28.91680335998535,-26.40169334411621,-27.86956024169922,3.6927073001861572,29.551776885986328,20.686065673828125,27.4613037109375,23.396011352539062,-16.2359676361084,6.494190692901611,-24.09163475036621,-33.27432632446289,0.13379672169685364,11.262090682983398,39.27402877807617,32.686885833740234,-19.465557098388672,5.510281562805176,-16.567527770996094,35.022823333740234,22.219406127929688,-3.418142318725586,-32.56346893310547,22.405845642089844,6.194079399108887,31.492422103881836,-32.579402923583984,3.69746470451355,-20.7310848236084,-4.474618434906006,-23.91835594177246,-5.41810417175293,-29.958698272705078,-25.63119888305664,-24.377140045166016,31.155139923095703,-25.357337951660156,-31.71099090576172,-28.36602020263672,14.35777473449707,-17.175260543823242,11.841635704040527,-11.16890811920166,-20.460325241088867,-18.128786087036133,41.46921920776367,20.315000534057617,17.810638427734375,-28.95366668701172,-29.3461971282959,-31.481348037719727,-24.451095581054688,-35.11785888671875,-30.82590103149414,11.624885559082031,11.234753608703613,-30.525720596313477,-4.63470983505249,-34.070980072021484,-23.69527816772461,41.00895309448242,3.5189881324768066,21.87571144104004,-31.88795280456543,-15.336162567138672,-23.123825073242188,-2.3367936611175537,27.00876808166504,-27.15079116821289,3.7107715606689453,16.65260887145996,35.15880584716797,26.207860946655273,-8.377387046813965,-21.128402709960938,34.28374481201172,-9.677918434143066,-26.003833770751953,-7.460519790649414,41.33650588989258,1.09758460521698,-13.304896354675293,-23.625179290771484,29.97269058227539,13.201231956481934,35.9874382019043,9.165032386779785,17.146329879760742,38.35424041748047,21.014427185058594,11.656431198120117,-24.506921768188477,37.846595764160156,33.02370834350586,-32.02070999145508,-14.305944442749023,21.1960391998291,-29.62847137451172,1.2871098518371582,23.78064727783203,-9.821203231811523,-29.105955123901367,26.01255989074707,38.52611541748047,-0.5508080124855042,-28.770366668701172,8.985784530639648,28.439708709716797,-5.44146728515625,4.706862449645996,-24.741199493408203,2.0230321884155273,-31.284975051879883,24.69450569152832,17.371458053588867,43.13486099243164,38.14759826660156,-30.953065872192383,-9.705845832824707,31.339683532714844,33.442752838134766,-11.52599811553955,9.744321823120117,26.814334869384766,-30.839014053344727,-37.084014892578125,11.53194522857666,23.305850982666016,-29.081722259521484,-29.964813232421875,24.337047576904297,21.05480194091797,32.12810134887695,36.7462158203125,-13.325435638427734,-22.8309383392334,-7.631106853485107,7.455972194671631,-11.189663887023926,-9.242128372192383,10.262751579284668,30.87746238708496,8.911962509155273,17.820682525634766,0.9678988456726074,-11.265585899353027,34.34026336669922,-32.780696868896484,-30.011234283447266,-31.60589599609375,-9.287728309631348,-22.595632553100586,-35.3447151184082,2.7688581943511963,-8.1068696975708,-25.32940673828125,28.039098739624023,26.720767974853516,-22.467838287353516,13.14873218536377,25.812719345092773,37.026363372802734,9.915045738220215,-18.09406280517578,23.746341705322266,-3.0294055938720703,5.50976037979126,4.79620885848999,-26.458614349365234,-28.440073013305664,-31.681745529174805,40.686492919921875,-2.0561490058898926,16.74153709411621,-9.017844200134277,6.034882545471191,34.37189483642578,-11.106314659118652,-1.7466129064559937,-26.91191291809082,26.754270553588867,46.42544937133789,21.68389892578125,-21.71723175048828,-27.620864868164062,-24.480026245117188,-1.8398233652114868,42.57724380493164,38.554813385009766,37.82371520996094,-11.2903470993042,11.847984313964844,-7.666478157043457,-8.017354011535645,37.13143539428711,-21.8121280670166,-34.393802642822266,42.14879608154297,-29.521778106689453,-23.228038787841797,12.355395317077637,13.31627082824707,15.981931686401367,-20.884092330932617,-10.293720245361328,38.89192199707031,-9.10213565826416,5.110402584075928,10.744268417358398,-2.677659034729004,2.2882232666015625,-10.862257957458496,-12.277804374694824,-31.72630500793457,23.693071365356445,-36.2502326965332,23.687644958496094,26.847890853881836,-26.963930130004883,29.708736419677734,-33.72602462768555,-30.48930549621582,-32.507080078125,-11.053065299987793,-20.685773849487305,-33.14860153198242,-34.863525390625,-21.764785766601562,17.107275009155273,-23.77385902404785,25.639968872070312,8.776010513305664,19.247779846191406,-7.630746841430664,2.740056276321411,-28.01970100402832,11.843297004699707,-2.119856357574463,4.400559425354004,-31.056686401367188,-11.388029098510742,31.74663734436035,-36.68995666503906,-10.643768310546875,-23.373794555664062,-10.194989204406738,-32.92088317871094,33.977745056152344,-28.720609664916992,17.646831512451172,-30.775941848754883,-25.747587203979492,4.904957294464111,-28.08774757385254,-18.14923095703125,42.65754699707031,9.066628456115723,4.4762139320373535,5.1180596351623535,14.765742301940918,-10.575894355773926,-27.5490665435791,-11.480177879333496,-28.987773895263672,-32.608272552490234,37.86211395263672,35.3836555480957,21.53619384765625,-25.130512237548828,-4.601395130157471,12.769818305969238,-22.556198120117188,28.48442268371582,38.56989288330078,-5.599104404449463,-32.002227783203125,12.933030128479004,39.711402893066406,-22.90247344970703,36.447566986083984,31.719545364379883,2.7491629123687744,24.40544319152832,10.838876724243164,-24.996564865112305,23.566598892211914,1.1643315553665161,38.63249206542969,-25.950145721435547,-33.83092498779297,-18.000635147094727,9.8865385055542,-16.81836700439453,4.775477409362793,-12.20034408569336,32.29814910888672,-12.221842765808105,0.13019855320453644,-34.85530471801758,37.702491760253906,23.990537643432617,16.12818145751953,41.949031829833984,6.760599613189697,36.407989501953125,44.346500396728516,26.837820053100586,39.497642517089844,34.78410720825195,-9.17223072052002,11.075618743896484,13.510254859924316,28.127418518066406,-31.150922775268555,-33.342987060546875,-13.80958080291748,30.082977294921875,28.74123191833496,39.516361236572266,-34.87519073486328,-5.218750476837158,-23.244384765625,14.646414756774902,-6.8479695320129395,36.67320251464844,19.51551055908203,22.059431076049805,-4.476682186126709,16.99346160888672,-35.5154914855957,-28.80039405822754,-37.65276336669922,2.6906423568725586,-31.973628997802734,18.569868087768555,32.73379898071289,35.62244415283203,17.6964168548584,33.09137725830078,-28.76906967163086,19.860559463500977,-12.768330574035645,-5.470784664154053,-4.15313196182251,-26.937049865722656,-22.935863494873047,34.58382797241211,-6.51408052444458,28.131256103515625,-5.746864318847656,15.684057235717773,-14.32443904876709,-31.739822387695312,15.911662101745605,38.13698959350586,17.205541610717773,23.548171997070312,20.148786544799805,6.156068801879883,27.564115524291992,28.936561584472656,-18.86539077758789,-30.20543670654297,28.22394561767578,-9.8363037109375,-30.374849319458008,6.988345146179199,27.819528579711914,-32.99465560913086,29.827089309692383,18.79157257080078,-24.954607009887695,-6.774345397949219,-31.768293380737305,13.606891632080078,-10.930302619934082,38.833526611328125,12.280930519104004,23.713058471679688,35.631103515625,19.938282012939453,-34.99653625488281,-15.59161376953125,-3.0028421878814697,18.47222328186035,-31.296085357666016,-33.75896072387695,17.657140731811523,29.82158660888672,41.079307556152344,-32.968971252441406,-27.744447708129883,-30.26182746887207,-4.426525115966797,36.29509735107422,19.872541427612305,-20.15167236328125,-24.65912437438965,19.713939666748047,-17.520160675048828,3.8310437202453613,-31.088199615478516,-27.666227340698242,1.0635300874710083,28.54033851623535,-10.513375282287598,-28.935245513916016,6.261819839477539,-29.34114646911621,-29.257654190063477,9.514548301696777,-7.784910678863525,-5.123655796051025,-35.16008758544922,1.4108729362487793,1.1294113397598267,-2.810570478439331,2.3811275959014893,-7.650445938110352,-8.355960845947266,27.837299346923828,-32.01736068725586,-5.193284034729004,6.683363437652588,32.0725212097168,-33.3437614440918,-12.337820053100586,-15.589115142822266,-11.42507266998291,29.82131576538086,-27.05675506591797,-9.231117248535156,-26.390724182128906,12.186734199523926,21.414152145385742,-12.513567924499512,-8.321857452392578,-21.992225646972656,15.423301696777344,-30.83119010925293,6.048903465270996,28.297311782836914,28.576250076293945,-21.674236297607422,16.933795928955078,35.3684196472168,-6.5553107261657715,33.03278732299805,-19.537553787231445,-4.287716865539551,5.354247570037842,19.883386611938477,20.699440002441406,-4.866469860076904,18.81005096435547,29.499221801757812,8.51639461517334,32.36228561401367,27.28740692138672,20.8155517578125,-31.87870216369629,2.2095305919647217,-29.163423538208008,-17.783248901367188,-30.157527923583984,-19.69292449951172,-9.556629180908203,2.0291452407836914,-9.897061347961426,-31.555044174194336,-10.781452178955078,-3.5513992309570312,27.491830825805664,0.4249303638935089,5.2009429931640625,5.908282279968262,22.90464973449707,-28.86353874206543,31.41866111755371,33.59877014160156,20.814250946044922,30.454008102416992,32.38579559326172,-20.05101203918457,-28.825298309326172,30.410625457763672,-32.51998519897461],\"yaxis\":\"y\",\"type\":\"scattergl\"}],                        {\"template\":{\"data\":{\"histogram2dcontour\":[{\"type\":\"histogram2dcontour\",\"colorbar\":{\"outlinewidth\":0,\"ticks\":\"\"},\"colorscale\":[[0.0,\"#0d0887\"],[0.1111111111111111,\"#46039f\"],[0.2222222222222222,\"#7201a8\"],[0.3333333333333333,\"#9c179e\"],[0.4444444444444444,\"#bd3786\"],[0.5555555555555556,\"#d8576b\"],[0.6666666666666666,\"#ed7953\"],[0.7777777777777778,\"#fb9f3a\"],[0.8888888888888888,\"#fdca26\"],[1.0,\"#f0f921\"]]}],\"choropleth\":[{\"type\":\"choropleth\",\"colorbar\":{\"outlinewidth\":0,\"ticks\":\"\"}}],\"histogram2d\":[{\"type\":\"histogram2d\",\"colorbar\":{\"outlinewidth\":0,\"ticks\":\"\"},\"colorscale\":[[0.0,\"#0d0887\"],[0.1111111111111111,\"#46039f\"],[0.2222222222222222,\"#7201a8\"],[0.3333333333333333,\"#9c179e\"],[0.4444444444444444,\"#bd3786\"],[0.5555555555555556,\"#d8576b\"],[0.6666666666666666,\"#ed7953\"],[0.7777777777777778,\"#fb9f3a\"],[0.8888888888888888,\"#fdca26\"],[1.0,\"#f0f921\"]]}],\"heatmap\":[{\"type\":\"heatmap\",\"colorbar\":{\"outlinewidth\":0,\"ticks\":\"\"},\"colorscale\":[[0.0,\"#0d0887\"],[0.1111111111111111,\"#46039f\"],[0.2222222222222222,\"#7201a8\"],[0.3333333333333333,\"#9c179e\"],[0.4444444444444444,\"#bd3786\"],[0.5555555555555556,\"#d8576b\"],[0.6666666666666666,\"#ed7953\"],[0.7777777777777778,\"#fb9f3a\"],[0.8888888888888888,\"#fdca26\"],[1.0,\"#f0f921\"]]}],\"heatmapgl\":[{\"type\":\"heatmapgl\",\"colorbar\":{\"outlinewidth\":0,\"ticks\":\"\"},\"colorscale\":[[0.0,\"#0d0887\"],[0.1111111111111111,\"#46039f\"],[0.2222222222222222,\"#7201a8\"],[0.3333333333333333,\"#9c179e\"],[0.4444444444444444,\"#bd3786\"],[0.5555555555555556,\"#d8576b\"],[0.6666666666666666,\"#ed7953\"],[0.7777777777777778,\"#fb9f3a\"],[0.8888888888888888,\"#fdca26\"],[1.0,\"#f0f921\"]]}],\"contourcarpet\":[{\"type\":\"contourcarpet\",\"colorbar\":{\"outlinewidth\":0,\"ticks\":\"\"}}],\"contour\":[{\"type\":\"contour\",\"colorbar\":{\"outlinewidth\":0,\"ticks\":\"\"},\"colorscale\":[[0.0,\"#0d0887\"],[0.1111111111111111,\"#46039f\"],[0.2222222222222222,\"#7201a8\"],[0.3333333333333333,\"#9c179e\"],[0.4444444444444444,\"#bd3786\"],[0.5555555555555556,\"#d8576b\"],[0.6666666666666666,\"#ed7953\"],[0.7777777777777778,\"#fb9f3a\"],[0.8888888888888888,\"#fdca26\"],[1.0,\"#f0f921\"]]}],\"surface\":[{\"type\":\"surface\",\"colorbar\":{\"outlinewidth\":0,\"ticks\":\"\"},\"colorscale\":[[0.0,\"#0d0887\"],[0.1111111111111111,\"#46039f\"],[0.2222222222222222,\"#7201a8\"],[0.3333333333333333,\"#9c179e\"],[0.4444444444444444,\"#bd3786\"],[0.5555555555555556,\"#d8576b\"],[0.6666666666666666,\"#ed7953\"],[0.7777777777777778,\"#fb9f3a\"],[0.8888888888888888,\"#fdca26\"],[1.0,\"#f0f921\"]]}],\"mesh3d\":[{\"type\":\"mesh3d\",\"colorbar\":{\"outlinewidth\":0,\"ticks\":\"\"}}],\"scatter\":[{\"fillpattern\":{\"fillmode\":\"overlay\",\"size\":10,\"solidity\":0.2},\"type\":\"scatter\"}],\"parcoords\":[{\"type\":\"parcoords\",\"line\":{\"colorbar\":{\"outlinewidth\":0,\"ticks\":\"\"}}}],\"scatterpolargl\":[{\"type\":\"scatterpolargl\",\"marker\":{\"colorbar\":{\"outlinewidth\":0,\"ticks\":\"\"}}}],\"bar\":[{\"error_x\":{\"color\":\"#2a3f5f\"},\"error_y\":{\"color\":\"#2a3f5f\"},\"marker\":{\"line\":{\"color\":\"#E5ECF6\",\"width\":0.5},\"pattern\":{\"fillmode\":\"overlay\",\"size\":10,\"solidity\":0.2}},\"type\":\"bar\"}],\"scattergeo\":[{\"type\":\"scattergeo\",\"marker\":{\"colorbar\":{\"outlinewidth\":0,\"ticks\":\"\"}}}],\"scatterpolar\":[{\"type\":\"scatterpolar\",\"marker\":{\"colorbar\":{\"outlinewidth\":0,\"ticks\":\"\"}}}],\"histogram\":[{\"marker\":{\"pattern\":{\"fillmode\":\"overlay\",\"size\":10,\"solidity\":0.2}},\"type\":\"histogram\"}],\"scattergl\":[{\"type\":\"scattergl\",\"marker\":{\"colorbar\":{\"outlinewidth\":0,\"ticks\":\"\"}}}],\"scatter3d\":[{\"type\":\"scatter3d\",\"line\":{\"colorbar\":{\"outlinewidth\":0,\"ticks\":\"\"}},\"marker\":{\"colorbar\":{\"outlinewidth\":0,\"ticks\":\"\"}}}],\"scattermapbox\":[{\"type\":\"scattermapbox\",\"marker\":{\"colorbar\":{\"outlinewidth\":0,\"ticks\":\"\"}}}],\"scatterternary\":[{\"type\":\"scatterternary\",\"marker\":{\"colorbar\":{\"outlinewidth\":0,\"ticks\":\"\"}}}],\"scattercarpet\":[{\"type\":\"scattercarpet\",\"marker\":{\"colorbar\":{\"outlinewidth\":0,\"ticks\":\"\"}}}],\"carpet\":[{\"aaxis\":{\"endlinecolor\":\"#2a3f5f\",\"gridcolor\":\"white\",\"linecolor\":\"white\",\"minorgridcolor\":\"white\",\"startlinecolor\":\"#2a3f5f\"},\"baxis\":{\"endlinecolor\":\"#2a3f5f\",\"gridcolor\":\"white\",\"linecolor\":\"white\",\"minorgridcolor\":\"white\",\"startlinecolor\":\"#2a3f5f\"},\"type\":\"carpet\"}],\"table\":[{\"cells\":{\"fill\":{\"color\":\"#EBF0F8\"},\"line\":{\"color\":\"white\"}},\"header\":{\"fill\":{\"color\":\"#C8D4E3\"},\"line\":{\"color\":\"white\"}},\"type\":\"table\"}],\"barpolar\":[{\"marker\":{\"line\":{\"color\":\"#E5ECF6\",\"width\":0.5},\"pattern\":{\"fillmode\":\"overlay\",\"size\":10,\"solidity\":0.2}},\"type\":\"barpolar\"}],\"pie\":[{\"automargin\":true,\"type\":\"pie\"}]},\"layout\":{\"autotypenumbers\":\"strict\",\"colorway\":[\"#636efa\",\"#EF553B\",\"#00cc96\",\"#ab63fa\",\"#FFA15A\",\"#19d3f3\",\"#FF6692\",\"#B6E880\",\"#FF97FF\",\"#FECB52\"],\"font\":{\"color\":\"#2a3f5f\"},\"hovermode\":\"closest\",\"hoverlabel\":{\"align\":\"left\"},\"paper_bgcolor\":\"white\",\"plot_bgcolor\":\"#E5ECF6\",\"polar\":{\"bgcolor\":\"#E5ECF6\",\"angularaxis\":{\"gridcolor\":\"white\",\"linecolor\":\"white\",\"ticks\":\"\"},\"radialaxis\":{\"gridcolor\":\"white\",\"linecolor\":\"white\",\"ticks\":\"\"}},\"ternary\":{\"bgcolor\":\"#E5ECF6\",\"aaxis\":{\"gridcolor\":\"white\",\"linecolor\":\"white\",\"ticks\":\"\"},\"baxis\":{\"gridcolor\":\"white\",\"linecolor\":\"white\",\"ticks\":\"\"},\"caxis\":{\"gridcolor\":\"white\",\"linecolor\":\"white\",\"ticks\":\"\"}},\"coloraxis\":{\"colorbar\":{\"outlinewidth\":0,\"ticks\":\"\"}},\"colorscale\":{\"sequential\":[[0.0,\"#0d0887\"],[0.1111111111111111,\"#46039f\"],[0.2222222222222222,\"#7201a8\"],[0.3333333333333333,\"#9c179e\"],[0.4444444444444444,\"#bd3786\"],[0.5555555555555556,\"#d8576b\"],[0.6666666666666666,\"#ed7953\"],[0.7777777777777778,\"#fb9f3a\"],[0.8888888888888888,\"#fdca26\"],[1.0,\"#f0f921\"]],\"sequentialminus\":[[0.0,\"#0d0887\"],[0.1111111111111111,\"#46039f\"],[0.2222222222222222,\"#7201a8\"],[0.3333333333333333,\"#9c179e\"],[0.4444444444444444,\"#bd3786\"],[0.5555555555555556,\"#d8576b\"],[0.6666666666666666,\"#ed7953\"],[0.7777777777777778,\"#fb9f3a\"],[0.8888888888888888,\"#fdca26\"],[1.0,\"#f0f921\"]],\"diverging\":[[0,\"#8e0152\"],[0.1,\"#c51b7d\"],[0.2,\"#de77ae\"],[0.3,\"#f1b6da\"],[0.4,\"#fde0ef\"],[0.5,\"#f7f7f7\"],[0.6,\"#e6f5d0\"],[0.7,\"#b8e186\"],[0.8,\"#7fbc41\"],[0.9,\"#4d9221\"],[1,\"#276419\"]]},\"xaxis\":{\"gridcolor\":\"white\",\"linecolor\":\"white\",\"ticks\":\"\",\"title\":{\"standoff\":15},\"zerolinecolor\":\"white\",\"automargin\":true,\"zerolinewidth\":2},\"yaxis\":{\"gridcolor\":\"white\",\"linecolor\":\"white\",\"ticks\":\"\",\"title\":{\"standoff\":15},\"zerolinecolor\":\"white\",\"automargin\":true,\"zerolinewidth\":2},\"scene\":{\"xaxis\":{\"backgroundcolor\":\"#E5ECF6\",\"gridcolor\":\"white\",\"linecolor\":\"white\",\"showbackground\":true,\"ticks\":\"\",\"zerolinecolor\":\"white\",\"gridwidth\":2},\"yaxis\":{\"backgroundcolor\":\"#E5ECF6\",\"gridcolor\":\"white\",\"linecolor\":\"white\",\"showbackground\":true,\"ticks\":\"\",\"zerolinecolor\":\"white\",\"gridwidth\":2},\"zaxis\":{\"backgroundcolor\":\"#E5ECF6\",\"gridcolor\":\"white\",\"linecolor\":\"white\",\"showbackground\":true,\"ticks\":\"\",\"zerolinecolor\":\"white\",\"gridwidth\":2}},\"shapedefaults\":{\"line\":{\"color\":\"#2a3f5f\"}},\"annotationdefaults\":{\"arrowcolor\":\"#2a3f5f\",\"arrowhead\":0,\"arrowwidth\":1},\"geo\":{\"bgcolor\":\"white\",\"landcolor\":\"#E5ECF6\",\"subunitcolor\":\"white\",\"showland\":true,\"showlakes\":true,\"lakecolor\":\"white\"},\"title\":{\"x\":0.05},\"mapbox\":{\"style\":\"light\"}}},\"xaxis\":{\"anchor\":\"y\",\"domain\":[0.0,1.0],\"title\":{\"text\":\"Componente 1\"}},\"yaxis\":{\"anchor\":\"x\",\"domain\":[0.0,1.0],\"title\":{\"text\":\"Componente 2\"}},\"legend\":{\"tracegroupgap\":0},\"margin\":{\"t\":60},\"title\":{\"text\":\"Reducci\\u00f3n de dimensionalidad con T-SNE\"}},                        {\"responsive\": true}                    ).then(function(){\n",
              "                            \n",
              "var gd = document.getElementById('73ba0c66-7aab-4eeb-a3e0-ef606642633d');\n",
              "var x = new MutationObserver(function (mutations, observer) {{\n",
              "        var display = window.getComputedStyle(gd).display;\n",
              "        if (!display || display === 'none') {{\n",
              "            console.log([gd, 'removed!']);\n",
              "            Plotly.purge(gd);\n",
              "            observer.disconnect();\n",
              "        }}\n",
              "}});\n",
              "\n",
              "// Listen for the removal of the full notebook cells\n",
              "var notebookContainer = gd.closest('#notebook-container');\n",
              "if (notebookContainer) {{\n",
              "    x.observe(notebookContainer, {childList: true});\n",
              "}}\n",
              "\n",
              "// Listen for the clearing of the current output cell\n",
              "var outputEl = gd.closest('.output');\n",
              "if (outputEl) {{\n",
              "    x.observe(outputEl, {childList: true});\n",
              "}}\n",
              "\n",
              "                        })                };                            </script>        </div>\n",
              "</body>\n",
              "</html>"
            ]
          },
          "metadata": {}
        }
      ],
      "execution_count": 8
    },
    {
      "cell_type": "markdown",
      "source": [
        "### 1.3.3 Clustering"
      ],
      "metadata": {
        "tags": [],
        "cell_id": "75015b8bec9f4985ae3535276edb9cf6",
        "deepnote_cell_height": 61.866668701171875,
        "deepnote_cell_type": "markdown",
        "id": "kXlz7P4J76SD"
      }
    },
    {
      "cell_type": "markdown",
      "source": [
        "#### 1.3.3.1 Método del Codo [1 puntos]"
      ],
      "metadata": {
        "tags": [],
        "cell_id": "01eb144ba7b844c98b0f68dc07f1ba38",
        "deepnote_cell_height": 53.866668701171875,
        "deepnote_cell_type": "markdown",
        "id": "AMKiRSQ576SE"
      }
    },
    {
      "cell_type": "markdown",
      "source": [
        "Utilizando la clase creada para escalamiento, aplique el método del codo para visualizar cual es el número de clusters que mejor se ajustan a los datos. Realice esto utilizando el algoritmo K-means dentro de un pipeline para un $k \\in [1,20]$, donde k representa el número de clusters del k-means. Para la realización de esta sección y la próxima (1.3.3.2), considere los mismos pasos utilizados para el t-sne, pero **permutando el algoritmo de reducción de dimensionalidad por k-means.**\n",
        "\n",
        "A través del grafico obtenido, comente y justifique que valor de k escogería para realizar el k-means."
      ],
      "metadata": {
        "tags": [],
        "cell_id": "de1f59f512af42618d3a5b084f84b460",
        "deepnote_cell_height": 223.06666564941406,
        "deepnote_cell_type": "markdown",
        "id": "XMmXv53876SE"
      }
    },
    {
      "cell_type": "markdown",
      "source": [
        "**Respuesta:**"
      ],
      "metadata": {
        "tags": [],
        "cell_id": "a268dbe1c26b4dccbaa8c976005c9141",
        "deepnote_cell_height": 52.26666259765625,
        "deepnote_cell_type": "markdown",
        "id": "l-h8yEkY76SE"
      }
    },
    {
      "cell_type": "code",
      "source": [
        "# Lista para almacenar las sumas de los cuadrados de las distancias\n",
        "sse = []\n",
        "\n",
        "# Rango de valores para el número de clusters\n",
        "k_values = list(range(1, 21))\n",
        "\n",
        "for k in k_values:\n",
        "    # Creamos el pipeline\n",
        "    pipeline = Pipeline([\n",
        "        ('features', feature_extractor),\n",
        "        ('scaling', column_transformer),\n",
        "        ('kmeans', KMeans(n_clusters=k))\n",
        "    ])\n",
        "\n",
        "    # Aplicamos el pipeline\n",
        "    pipeline.fit(df_retail)\n",
        "\n",
        "    # Obtenemos la suma de los cuadrados de las distancias\n",
        "    sse.append(pipeline.named_steps['kmeans'].inertia_)\n",
        "\n",
        "# Creamos el plot\n",
        "fig = go.Figure()\n",
        "fig.add_trace(go.Scatter(x=k_values, y=sse, mode='lines+markers'))\n",
        "fig.update_layout(\n",
        "    title='Método del codo',\n",
        "    xaxis_title='Número de clusters (k)',\n",
        "    yaxis_title='SSE'\n",
        ")\n",
        "fig.show()"
      ],
      "metadata": {
        "tags": [],
        "cell_id": "36239002cba54f98a3778e66878b1041",
        "deepnote_cell_height": 65.86666870117188,
        "deepnote_cell_type": "code",
        "colab": {
          "base_uri": "https://localhost:8080/",
          "height": 1000
        },
        "id": "1hrezOSp76SE",
        "outputId": "a85f0a7f-95b8-4faa-d6ce-ebb5e2fbe0a7"
      },
      "outputs": [
        {
          "output_type": "stream",
          "name": "stderr",
          "text": [
            "/usr/local/lib/python3.10/dist-packages/sklearn/cluster/_kmeans.py:870: FutureWarning:\n",
            "\n",
            "The default value of `n_init` will change from 10 to 'auto' in 1.4. Set the value of `n_init` explicitly to suppress the warning\n",
            "\n",
            "/usr/local/lib/python3.10/dist-packages/sklearn/cluster/_kmeans.py:870: FutureWarning:\n",
            "\n",
            "The default value of `n_init` will change from 10 to 'auto' in 1.4. Set the value of `n_init` explicitly to suppress the warning\n",
            "\n",
            "/usr/local/lib/python3.10/dist-packages/sklearn/cluster/_kmeans.py:870: FutureWarning:\n",
            "\n",
            "The default value of `n_init` will change from 10 to 'auto' in 1.4. Set the value of `n_init` explicitly to suppress the warning\n",
            "\n",
            "/usr/local/lib/python3.10/dist-packages/sklearn/cluster/_kmeans.py:870: FutureWarning:\n",
            "\n",
            "The default value of `n_init` will change from 10 to 'auto' in 1.4. Set the value of `n_init` explicitly to suppress the warning\n",
            "\n",
            "/usr/local/lib/python3.10/dist-packages/sklearn/cluster/_kmeans.py:870: FutureWarning:\n",
            "\n",
            "The default value of `n_init` will change from 10 to 'auto' in 1.4. Set the value of `n_init` explicitly to suppress the warning\n",
            "\n",
            "/usr/local/lib/python3.10/dist-packages/sklearn/cluster/_kmeans.py:870: FutureWarning:\n",
            "\n",
            "The default value of `n_init` will change from 10 to 'auto' in 1.4. Set the value of `n_init` explicitly to suppress the warning\n",
            "\n",
            "/usr/local/lib/python3.10/dist-packages/sklearn/cluster/_kmeans.py:870: FutureWarning:\n",
            "\n",
            "The default value of `n_init` will change from 10 to 'auto' in 1.4. Set the value of `n_init` explicitly to suppress the warning\n",
            "\n",
            "/usr/local/lib/python3.10/dist-packages/sklearn/cluster/_kmeans.py:870: FutureWarning:\n",
            "\n",
            "The default value of `n_init` will change from 10 to 'auto' in 1.4. Set the value of `n_init` explicitly to suppress the warning\n",
            "\n",
            "/usr/local/lib/python3.10/dist-packages/sklearn/cluster/_kmeans.py:870: FutureWarning:\n",
            "\n",
            "The default value of `n_init` will change from 10 to 'auto' in 1.4. Set the value of `n_init` explicitly to suppress the warning\n",
            "\n",
            "/usr/local/lib/python3.10/dist-packages/sklearn/cluster/_kmeans.py:870: FutureWarning:\n",
            "\n",
            "The default value of `n_init` will change from 10 to 'auto' in 1.4. Set the value of `n_init` explicitly to suppress the warning\n",
            "\n",
            "/usr/local/lib/python3.10/dist-packages/sklearn/cluster/_kmeans.py:870: FutureWarning:\n",
            "\n",
            "The default value of `n_init` will change from 10 to 'auto' in 1.4. Set the value of `n_init` explicitly to suppress the warning\n",
            "\n",
            "/usr/local/lib/python3.10/dist-packages/sklearn/cluster/_kmeans.py:870: FutureWarning:\n",
            "\n",
            "The default value of `n_init` will change from 10 to 'auto' in 1.4. Set the value of `n_init` explicitly to suppress the warning\n",
            "\n",
            "/usr/local/lib/python3.10/dist-packages/sklearn/cluster/_kmeans.py:870: FutureWarning:\n",
            "\n",
            "The default value of `n_init` will change from 10 to 'auto' in 1.4. Set the value of `n_init` explicitly to suppress the warning\n",
            "\n",
            "/usr/local/lib/python3.10/dist-packages/sklearn/cluster/_kmeans.py:870: FutureWarning:\n",
            "\n",
            "The default value of `n_init` will change from 10 to 'auto' in 1.4. Set the value of `n_init` explicitly to suppress the warning\n",
            "\n",
            "/usr/local/lib/python3.10/dist-packages/sklearn/cluster/_kmeans.py:870: FutureWarning:\n",
            "\n",
            "The default value of `n_init` will change from 10 to 'auto' in 1.4. Set the value of `n_init` explicitly to suppress the warning\n",
            "\n",
            "/usr/local/lib/python3.10/dist-packages/sklearn/cluster/_kmeans.py:870: FutureWarning:\n",
            "\n",
            "The default value of `n_init` will change from 10 to 'auto' in 1.4. Set the value of `n_init` explicitly to suppress the warning\n",
            "\n",
            "/usr/local/lib/python3.10/dist-packages/sklearn/cluster/_kmeans.py:870: FutureWarning:\n",
            "\n",
            "The default value of `n_init` will change from 10 to 'auto' in 1.4. Set the value of `n_init` explicitly to suppress the warning\n",
            "\n",
            "/usr/local/lib/python3.10/dist-packages/sklearn/cluster/_kmeans.py:870: FutureWarning:\n",
            "\n",
            "The default value of `n_init` will change from 10 to 'auto' in 1.4. Set the value of `n_init` explicitly to suppress the warning\n",
            "\n",
            "/usr/local/lib/python3.10/dist-packages/sklearn/cluster/_kmeans.py:870: FutureWarning:\n",
            "\n",
            "The default value of `n_init` will change from 10 to 'auto' in 1.4. Set the value of `n_init` explicitly to suppress the warning\n",
            "\n",
            "/usr/local/lib/python3.10/dist-packages/sklearn/cluster/_kmeans.py:870: FutureWarning:\n",
            "\n",
            "The default value of `n_init` will change from 10 to 'auto' in 1.4. Set the value of `n_init` explicitly to suppress the warning\n",
            "\n"
          ]
        },
        {
          "output_type": "display_data",
          "data": {
            "text/html": [
              "<html>\n",
              "<head><meta charset=\"utf-8\" /></head>\n",
              "<body>\n",
              "    <div>            <script src=\"https://cdnjs.cloudflare.com/ajax/libs/mathjax/2.7.5/MathJax.js?config=TeX-AMS-MML_SVG\"></script><script type=\"text/javascript\">if (window.MathJax && window.MathJax.Hub && window.MathJax.Hub.Config) {window.MathJax.Hub.Config({SVG: {font: \"STIX-Web\"}});}</script>                <script type=\"text/javascript\">window.PlotlyConfig = {MathJaxConfig: 'local'};</script>\n",
              "        <script charset=\"utf-8\" src=\"https://cdn.plot.ly/plotly-2.20.0.min.js\"></script>                <div id=\"d318d9be-2d99-4dc5-ae7b-ef1341344adb\" class=\"plotly-graph-div\" style=\"height:525px; width:100%;\"></div>            <script type=\"text/javascript\">                                    window.PLOTLYENV=window.PLOTLYENV || {};                                    if (document.getElementById(\"d318d9be-2d99-4dc5-ae7b-ef1341344adb\")) {                    Plotly.newPlot(                        \"d318d9be-2d99-4dc5-ae7b-ef1341344adb\",                        [{\"mode\":\"lines+markers\",\"x\":[1,2,3,4,5,6,7,8,9,10,11,12,13,14,15,16,17,18,19,20],\"y\":[357.4669990444998,150.43571201777974,100.13438390557701,65.34227964385724,53.39234696730545,44.95655721507315,40.18917985572199,35.98870857222518,32.48799931443204,30.3006108229173,27.887020789567472,25.510038679352498,23.92195060700861,21.844644318396178,20.53895665885505,19.301474438002856,18.306570107848692,17.552116403009006,16.821880044102077,16.229581587621848],\"type\":\"scatter\"}],                        {\"template\":{\"data\":{\"histogram2dcontour\":[{\"type\":\"histogram2dcontour\",\"colorbar\":{\"outlinewidth\":0,\"ticks\":\"\"},\"colorscale\":[[0.0,\"#0d0887\"],[0.1111111111111111,\"#46039f\"],[0.2222222222222222,\"#7201a8\"],[0.3333333333333333,\"#9c179e\"],[0.4444444444444444,\"#bd3786\"],[0.5555555555555556,\"#d8576b\"],[0.6666666666666666,\"#ed7953\"],[0.7777777777777778,\"#fb9f3a\"],[0.8888888888888888,\"#fdca26\"],[1.0,\"#f0f921\"]]}],\"choropleth\":[{\"type\":\"choropleth\",\"colorbar\":{\"outlinewidth\":0,\"ticks\":\"\"}}],\"histogram2d\":[{\"type\":\"histogram2d\",\"colorbar\":{\"outlinewidth\":0,\"ticks\":\"\"},\"colorscale\":[[0.0,\"#0d0887\"],[0.1111111111111111,\"#46039f\"],[0.2222222222222222,\"#7201a8\"],[0.3333333333333333,\"#9c179e\"],[0.4444444444444444,\"#bd3786\"],[0.5555555555555556,\"#d8576b\"],[0.6666666666666666,\"#ed7953\"],[0.7777777777777778,\"#fb9f3a\"],[0.8888888888888888,\"#fdca26\"],[1.0,\"#f0f921\"]]}],\"heatmap\":[{\"type\":\"heatmap\",\"colorbar\":{\"outlinewidth\":0,\"ticks\":\"\"},\"colorscale\":[[0.0,\"#0d0887\"],[0.1111111111111111,\"#46039f\"],[0.2222222222222222,\"#7201a8\"],[0.3333333333333333,\"#9c179e\"],[0.4444444444444444,\"#bd3786\"],[0.5555555555555556,\"#d8576b\"],[0.6666666666666666,\"#ed7953\"],[0.7777777777777778,\"#fb9f3a\"],[0.8888888888888888,\"#fdca26\"],[1.0,\"#f0f921\"]]}],\"heatmapgl\":[{\"type\":\"heatmapgl\",\"colorbar\":{\"outlinewidth\":0,\"ticks\":\"\"},\"colorscale\":[[0.0,\"#0d0887\"],[0.1111111111111111,\"#46039f\"],[0.2222222222222222,\"#7201a8\"],[0.3333333333333333,\"#9c179e\"],[0.4444444444444444,\"#bd3786\"],[0.5555555555555556,\"#d8576b\"],[0.6666666666666666,\"#ed7953\"],[0.7777777777777778,\"#fb9f3a\"],[0.8888888888888888,\"#fdca26\"],[1.0,\"#f0f921\"]]}],\"contourcarpet\":[{\"type\":\"contourcarpet\",\"colorbar\":{\"outlinewidth\":0,\"ticks\":\"\"}}],\"contour\":[{\"type\":\"contour\",\"colorbar\":{\"outlinewidth\":0,\"ticks\":\"\"},\"colorscale\":[[0.0,\"#0d0887\"],[0.1111111111111111,\"#46039f\"],[0.2222222222222222,\"#7201a8\"],[0.3333333333333333,\"#9c179e\"],[0.4444444444444444,\"#bd3786\"],[0.5555555555555556,\"#d8576b\"],[0.6666666666666666,\"#ed7953\"],[0.7777777777777778,\"#fb9f3a\"],[0.8888888888888888,\"#fdca26\"],[1.0,\"#f0f921\"]]}],\"surface\":[{\"type\":\"surface\",\"colorbar\":{\"outlinewidth\":0,\"ticks\":\"\"},\"colorscale\":[[0.0,\"#0d0887\"],[0.1111111111111111,\"#46039f\"],[0.2222222222222222,\"#7201a8\"],[0.3333333333333333,\"#9c179e\"],[0.4444444444444444,\"#bd3786\"],[0.5555555555555556,\"#d8576b\"],[0.6666666666666666,\"#ed7953\"],[0.7777777777777778,\"#fb9f3a\"],[0.8888888888888888,\"#fdca26\"],[1.0,\"#f0f921\"]]}],\"mesh3d\":[{\"type\":\"mesh3d\",\"colorbar\":{\"outlinewidth\":0,\"ticks\":\"\"}}],\"scatter\":[{\"fillpattern\":{\"fillmode\":\"overlay\",\"size\":10,\"solidity\":0.2},\"type\":\"scatter\"}],\"parcoords\":[{\"type\":\"parcoords\",\"line\":{\"colorbar\":{\"outlinewidth\":0,\"ticks\":\"\"}}}],\"scatterpolargl\":[{\"type\":\"scatterpolargl\",\"marker\":{\"colorbar\":{\"outlinewidth\":0,\"ticks\":\"\"}}}],\"bar\":[{\"error_x\":{\"color\":\"#2a3f5f\"},\"error_y\":{\"color\":\"#2a3f5f\"},\"marker\":{\"line\":{\"color\":\"#E5ECF6\",\"width\":0.5},\"pattern\":{\"fillmode\":\"overlay\",\"size\":10,\"solidity\":0.2}},\"type\":\"bar\"}],\"scattergeo\":[{\"type\":\"scattergeo\",\"marker\":{\"colorbar\":{\"outlinewidth\":0,\"ticks\":\"\"}}}],\"scatterpolar\":[{\"type\":\"scatterpolar\",\"marker\":{\"colorbar\":{\"outlinewidth\":0,\"ticks\":\"\"}}}],\"histogram\":[{\"marker\":{\"pattern\":{\"fillmode\":\"overlay\",\"size\":10,\"solidity\":0.2}},\"type\":\"histogram\"}],\"scattergl\":[{\"type\":\"scattergl\",\"marker\":{\"colorbar\":{\"outlinewidth\":0,\"ticks\":\"\"}}}],\"scatter3d\":[{\"type\":\"scatter3d\",\"line\":{\"colorbar\":{\"outlinewidth\":0,\"ticks\":\"\"}},\"marker\":{\"colorbar\":{\"outlinewidth\":0,\"ticks\":\"\"}}}],\"scattermapbox\":[{\"type\":\"scattermapbox\",\"marker\":{\"colorbar\":{\"outlinewidth\":0,\"ticks\":\"\"}}}],\"scatterternary\":[{\"type\":\"scatterternary\",\"marker\":{\"colorbar\":{\"outlinewidth\":0,\"ticks\":\"\"}}}],\"scattercarpet\":[{\"type\":\"scattercarpet\",\"marker\":{\"colorbar\":{\"outlinewidth\":0,\"ticks\":\"\"}}}],\"carpet\":[{\"aaxis\":{\"endlinecolor\":\"#2a3f5f\",\"gridcolor\":\"white\",\"linecolor\":\"white\",\"minorgridcolor\":\"white\",\"startlinecolor\":\"#2a3f5f\"},\"baxis\":{\"endlinecolor\":\"#2a3f5f\",\"gridcolor\":\"white\",\"linecolor\":\"white\",\"minorgridcolor\":\"white\",\"startlinecolor\":\"#2a3f5f\"},\"type\":\"carpet\"}],\"table\":[{\"cells\":{\"fill\":{\"color\":\"#EBF0F8\"},\"line\":{\"color\":\"white\"}},\"header\":{\"fill\":{\"color\":\"#C8D4E3\"},\"line\":{\"color\":\"white\"}},\"type\":\"table\"}],\"barpolar\":[{\"marker\":{\"line\":{\"color\":\"#E5ECF6\",\"width\":0.5},\"pattern\":{\"fillmode\":\"overlay\",\"size\":10,\"solidity\":0.2}},\"type\":\"barpolar\"}],\"pie\":[{\"automargin\":true,\"type\":\"pie\"}]},\"layout\":{\"autotypenumbers\":\"strict\",\"colorway\":[\"#636efa\",\"#EF553B\",\"#00cc96\",\"#ab63fa\",\"#FFA15A\",\"#19d3f3\",\"#FF6692\",\"#B6E880\",\"#FF97FF\",\"#FECB52\"],\"font\":{\"color\":\"#2a3f5f\"},\"hovermode\":\"closest\",\"hoverlabel\":{\"align\":\"left\"},\"paper_bgcolor\":\"white\",\"plot_bgcolor\":\"#E5ECF6\",\"polar\":{\"bgcolor\":\"#E5ECF6\",\"angularaxis\":{\"gridcolor\":\"white\",\"linecolor\":\"white\",\"ticks\":\"\"},\"radialaxis\":{\"gridcolor\":\"white\",\"linecolor\":\"white\",\"ticks\":\"\"}},\"ternary\":{\"bgcolor\":\"#E5ECF6\",\"aaxis\":{\"gridcolor\":\"white\",\"linecolor\":\"white\",\"ticks\":\"\"},\"baxis\":{\"gridcolor\":\"white\",\"linecolor\":\"white\",\"ticks\":\"\"},\"caxis\":{\"gridcolor\":\"white\",\"linecolor\":\"white\",\"ticks\":\"\"}},\"coloraxis\":{\"colorbar\":{\"outlinewidth\":0,\"ticks\":\"\"}},\"colorscale\":{\"sequential\":[[0.0,\"#0d0887\"],[0.1111111111111111,\"#46039f\"],[0.2222222222222222,\"#7201a8\"],[0.3333333333333333,\"#9c179e\"],[0.4444444444444444,\"#bd3786\"],[0.5555555555555556,\"#d8576b\"],[0.6666666666666666,\"#ed7953\"],[0.7777777777777778,\"#fb9f3a\"],[0.8888888888888888,\"#fdca26\"],[1.0,\"#f0f921\"]],\"sequentialminus\":[[0.0,\"#0d0887\"],[0.1111111111111111,\"#46039f\"],[0.2222222222222222,\"#7201a8\"],[0.3333333333333333,\"#9c179e\"],[0.4444444444444444,\"#bd3786\"],[0.5555555555555556,\"#d8576b\"],[0.6666666666666666,\"#ed7953\"],[0.7777777777777778,\"#fb9f3a\"],[0.8888888888888888,\"#fdca26\"],[1.0,\"#f0f921\"]],\"diverging\":[[0,\"#8e0152\"],[0.1,\"#c51b7d\"],[0.2,\"#de77ae\"],[0.3,\"#f1b6da\"],[0.4,\"#fde0ef\"],[0.5,\"#f7f7f7\"],[0.6,\"#e6f5d0\"],[0.7,\"#b8e186\"],[0.8,\"#7fbc41\"],[0.9,\"#4d9221\"],[1,\"#276419\"]]},\"xaxis\":{\"gridcolor\":\"white\",\"linecolor\":\"white\",\"ticks\":\"\",\"title\":{\"standoff\":15},\"zerolinecolor\":\"white\",\"automargin\":true,\"zerolinewidth\":2},\"yaxis\":{\"gridcolor\":\"white\",\"linecolor\":\"white\",\"ticks\":\"\",\"title\":{\"standoff\":15},\"zerolinecolor\":\"white\",\"automargin\":true,\"zerolinewidth\":2},\"scene\":{\"xaxis\":{\"backgroundcolor\":\"#E5ECF6\",\"gridcolor\":\"white\",\"linecolor\":\"white\",\"showbackground\":true,\"ticks\":\"\",\"zerolinecolor\":\"white\",\"gridwidth\":2},\"yaxis\":{\"backgroundcolor\":\"#E5ECF6\",\"gridcolor\":\"white\",\"linecolor\":\"white\",\"showbackground\":true,\"ticks\":\"\",\"zerolinecolor\":\"white\",\"gridwidth\":2},\"zaxis\":{\"backgroundcolor\":\"#E5ECF6\",\"gridcolor\":\"white\",\"linecolor\":\"white\",\"showbackground\":true,\"ticks\":\"\",\"zerolinecolor\":\"white\",\"gridwidth\":2}},\"shapedefaults\":{\"line\":{\"color\":\"#2a3f5f\"}},\"annotationdefaults\":{\"arrowcolor\":\"#2a3f5f\",\"arrowhead\":0,\"arrowwidth\":1},\"geo\":{\"bgcolor\":\"white\",\"landcolor\":\"#E5ECF6\",\"subunitcolor\":\"white\",\"showland\":true,\"showlakes\":true,\"lakecolor\":\"white\"},\"title\":{\"x\":0.05},\"mapbox\":{\"style\":\"light\"}}},\"title\":{\"text\":\"M\\u00e9todo del codo\"},\"xaxis\":{\"title\":{\"text\":\"N\\u00famero de clusters (k)\"}},\"yaxis\":{\"title\":{\"text\":\"SSE\"}}},                        {\"responsive\": true}                    ).then(function(){\n",
              "                            \n",
              "var gd = document.getElementById('d318d9be-2d99-4dc5-ae7b-ef1341344adb');\n",
              "var x = new MutationObserver(function (mutations, observer) {{\n",
              "        var display = window.getComputedStyle(gd).display;\n",
              "        if (!display || display === 'none') {{\n",
              "            console.log([gd, 'removed!']);\n",
              "            Plotly.purge(gd);\n",
              "            observer.disconnect();\n",
              "        }}\n",
              "}});\n",
              "\n",
              "// Listen for the removal of the full notebook cells\n",
              "var notebookContainer = gd.closest('#notebook-container');\n",
              "if (notebookContainer) {{\n",
              "    x.observe(notebookContainer, {childList: true});\n",
              "}}\n",
              "\n",
              "// Listen for the clearing of the current output cell\n",
              "var outputEl = gd.closest('.output');\n",
              "if (outputEl) {{\n",
              "    x.observe(outputEl, {childList: true});\n",
              "}}\n",
              "\n",
              "                        })                };                            </script>        </div>\n",
              "</body>\n",
              "</html>"
            ]
          },
          "metadata": {}
        }
      ],
      "execution_count": 26
    },
    {
      "cell_type": "markdown",
      "source": [
        "En base al gráfico obtenido, utilizaría 2 o 3 clusters, pues es donde existe un cambio bursco en la curva. Si tuviera que escoger diría que 3 clusters es la mejor opción debdio a que hay una mejora significativa en SSE de 2 a 3, pero sería bueno testearlo con otras métricas."
      ],
      "metadata": {
        "id": "VkWTdWgwQKEG"
      }
    },
    {
      "cell_type": "markdown",
      "source": [
        "#### 1.3.3.2 Segmentación de Clientes con K-Means 🎁 [1 punto]"
      ],
      "metadata": {
        "tags": [],
        "cell_id": "3bb5d86bc1e54cf18a851e71c2c3a3c1",
        "deepnote_cell_height": 53.866668701171875,
        "deepnote_cell_type": "markdown",
        "id": "PRVBIleW76SF"
      }
    },
    {
      "cell_type": "markdown",
      "source": [
        "En base a la elección de k realizada en la sección anterior, utilice este valor escogido y entrene un modelo de K-means utilizando el mismo pipeline de scikit-learn utilizado anteriormente.\n",
        "\n",
        "Una vez ajustado los datos, genere una tabla con los promedios (o medianas) para cada uno de los atributos, agrupando estos por el clúster que pertenecen. ¿Es posible observar agrupaciones coherentes?, ¿Qué tipo de clientes posee el retail?, Justifique su respuesta y no decepcione a Mr. Lepin.\n"
      ],
      "metadata": {
        "tags": [],
        "cell_id": "f8c3b4d105754ccb8a1ce6dfd606a40e",
        "deepnote_cell_height": 200.6666717529297,
        "deepnote_cell_type": "markdown",
        "id": "b-CshJZA76SF"
      }
    },
    {
      "cell_type": "markdown",
      "source": [
        "**Respuesta:**"
      ],
      "metadata": {
        "tags": [],
        "cell_id": "dbce893901024a828d2b875798e27674",
        "deepnote_cell_height": 52.26666259765625,
        "deepnote_cell_type": "markdown",
        "id": "I2cSwqhK76SF"
      }
    },
    {
      "cell_type": "code",
      "source": [
        "df_LRMFP = custom_features(df_retail)\n",
        "\n",
        "# Crear el pipeline con los pasos definidos\n",
        "pipeline = Pipeline([\n",
        "    ('features', feature_extractor),\n",
        "    ('scaling', column_transformer),\n",
        "    ('kmeans', KMeans(n_clusters=3))\n",
        "])\n",
        "# Ajustamos el pipeline\n",
        "pipeline.fit(df_retail)\n",
        "\n",
        "# Obtenemos la labels\n",
        "cluster_labels = pipeline.named_steps['kmeans'].labels_\n",
        "\n",
        "# Creamos una nueva columna 'Cluster' en el DataFrame de LRMFP\n",
        "df_LRMFP['Cluster'] = cluster_labels\n",
        "\n",
        "# Calcular los promedios por cluster para cada atributo\n",
        "cluster_means = df_LRMFP.groupby('Cluster').mean()\n",
        "\n",
        "# Mostrar la tabla de promedios por cluster\n",
        "print(np.round(cluster_means, 2))"
      ],
      "metadata": {
        "tags": [],
        "cell_id": "375d5f6e310c442d82a9c940805fc6d2",
        "deepnote_cell_height": 65.86666870117188,
        "deepnote_cell_type": "code",
        "colab": {
          "base_uri": "https://localhost:8080/"
        },
        "id": "4Z4_pnWt76Sj",
        "outputId": "4f9f4fc7-498a-420e-d932-bb6a6edf2dca"
      },
      "outputs": [
        {
          "output_type": "stream",
          "name": "stderr",
          "text": [
            "/usr/local/lib/python3.10/dist-packages/sklearn/cluster/_kmeans.py:870: FutureWarning:\n",
            "\n",
            "The default value of `n_init` will change from 10 to 'auto' in 1.4. Set the value of `n_init` explicitly to suppress the warning\n",
            "\n"
          ]
        },
        {
          "output_type": "stream",
          "name": "stdout",
          "text": [
            "         Length  Recency  Frequency  Monetary  Periodicity\n",
            "Cluster                                                   \n",
            "0        296.63    31.97     184.73     33.34        20.94\n",
            "1         98.76   201.11      56.84     32.18        14.98\n",
            "2        105.68    43.61      74.86     27.64        13.20\n"
          ]
        }
      ],
      "execution_count": 36
    },
    {
      "cell_type": "markdown",
      "source": [
        "¿Es posible observar agrupaciones coherentes?, ¿Qué tipo de clientes posee el retail?, Justifique su respuesta y no decepcione a Mr. Lepin.\n",
        "\n",
        "Se observan agrupaciones coherentes, estos se diferencian principalmente en los valores de las columnas Lenght, Recency y Frequency. El cluster 0 posee Frequency y Length muy alto, lo que quiere decir que son clientes leales. El cluster 1 posee Recency alto, que se podría decir que son clientes poco leales. Y el cluster 2 son clientes que estan entre los dos grupos anteriores, no son ni tan leales, ni tan esporádicos. Se puede decir que utilizar 3 cluster fue una buena decisión pues se engloban a los tres principales grupos de consumidores."
      ],
      "metadata": {
        "id": "NFZggTQKKab1"
      }
    },
    {
      "cell_type": "markdown",
      "source": [
        "**Respuesta Esperada:**\n",
        "\n",
        "|         | Length  | Recency   | Frequency | Monetary | Periodicity |       |\n",
        "|---------|---------|-----------|----------|-------------|-------|-------|\n",
        "| Cluster |         |           |          |             |       |       |\n",
        "|    0    |   258.8 |      45.2 |     76.1 |      1107.7 | 107.6 |   449 |\n",
        "|    1    |    76.1 |     217.6 |     45.5 |       791.7 |  14.1 |   466 |\n",
        "|    2    |   368.5 |       4.8 |   2715.0 |    226621.6 |   4.2 |     4 |\n",
        "|    3    |    85.3 |      45.7 |     65.8 |      1047.0 |  10.5 |   987 |\n",
        "|    4    |   347.2 |      15.9 |   1658.0 |     35829.3 |   8.0 |    25 |\n",
        "|    5    |   298.0 |      29.8 |    183.8 |      3639.9 |  32.0 |  1188 |"
      ],
      "metadata": {
        "tags": [],
        "cell_id": "18e50ee0240543d692bcde6d9c29fe73",
        "deepnote_cell_height": 261.4666748046875,
        "deepnote_cell_type": "markdown",
        "id": "U1Qp3dvo76Sj"
      }
    },
    {
      "cell_type": "markdown",
      "source": [
        "#### 1.3.3.3 Plot de K-Means 📈 [0.5 puntos]\n",
        "\n"
      ],
      "metadata": {
        "tags": [],
        "cell_id": "f79d1fa6b1a64b6f97bffc62b037a663",
        "deepnote_cell_height": 53.866668701171875,
        "deepnote_cell_type": "markdown",
        "id": "B2Oea5u176Sk"
      }
    },
    {
      "cell_type": "markdown",
      "source": [
        "Por último, Mr. Lepin, impaciente de no entender lo que usted intenta explicarle, le solicita que por favor muestre algún resultado \"visual\" de los grupos encontrados.\n",
        "\n",
        "Para esto, grafique nuevamente las características encontradas usando `T-SNE` (no calcule de nuevo, simplemente utilice las proyecciones encontradas) y agregue las labels calculadas con kmeans como el argumento `color`.   \n",
        "\n",
        "Comente: ¿Se separan bien los distintos clusters en la visualización?\n"
      ],
      "metadata": {
        "tags": [],
        "cell_id": "2d0348435e814f16b8957dfbc6384a88",
        "owner_user_id": "d50c3174-babb-4861-9c71-7e3af66458b8",
        "deepnote_cell_height": 192.26666259765625,
        "deepnote_cell_type": "markdown",
        "id": "GSlgJSWI76Sl"
      }
    },
    {
      "cell_type": "markdown",
      "source": [
        "**Respuesta:**"
      ],
      "metadata": {
        "tags": [],
        "cell_id": "e805388b96c04ea8a06a262229c2f799",
        "deepnote_cell_height": 52.26666259765625,
        "deepnote_cell_type": "markdown",
        "id": "ye5xGijh76Sl"
      }
    },
    {
      "cell_type": "code",
      "source": [
        "# Creamos el plot\n",
        "fig = px.scatter(x=X_transformed[:, 0], y=X_transformed[:, 1], color=df_LRMFP['Cluster'])\n",
        "fig.update_layout(\n",
        "    title='Reducción de dimensionalidad con T-SNE',\n",
        "    xaxis_title='Componente 1',\n",
        "    yaxis_title='Componente 2'\n",
        ")\n",
        "fig.show()"
      ],
      "metadata": {
        "tags": [],
        "cell_id": "9e2d26de81ed4a729e25c6c5361310e1",
        "deepnote_cell_height": 65.86666870117188,
        "deepnote_cell_type": "code",
        "colab": {
          "base_uri": "https://localhost:8080/",
          "height": 542
        },
        "id": "3RIJ3NOf76Sl",
        "outputId": "aa19ed27-e962-4e3b-a37a-f004a5eece33"
      },
      "outputs": [
        {
          "output_type": "display_data",
          "data": {
            "text/html": [
              "<html>\n",
              "<head><meta charset=\"utf-8\" /></head>\n",
              "<body>\n",
              "    <div>            <script src=\"https://cdnjs.cloudflare.com/ajax/libs/mathjax/2.7.5/MathJax.js?config=TeX-AMS-MML_SVG\"></script><script type=\"text/javascript\">if (window.MathJax && window.MathJax.Hub && window.MathJax.Hub.Config) {window.MathJax.Hub.Config({SVG: {font: \"STIX-Web\"}});}</script>                <script type=\"text/javascript\">window.PlotlyConfig = {MathJaxConfig: 'local'};</script>\n",
              "        <script charset=\"utf-8\" src=\"https://cdn.plot.ly/plotly-2.20.0.min.js\"></script>                <div id=\"cf93d8bc-4b74-4a43-8603-5777178d2916\" class=\"plotly-graph-div\" style=\"height:525px; width:100%;\"></div>            <script type=\"text/javascript\">                                    window.PLOTLYENV=window.PLOTLYENV || {};                                    if (document.getElementById(\"cf93d8bc-4b74-4a43-8603-5777178d2916\")) {                    Plotly.newPlot(                        \"cf93d8bc-4b74-4a43-8603-5777178d2916\",                        [{\"hovertemplate\":\"x=%{x}<br>y=%{y}<br>color=%{marker.color}<extra></extra>\",\"legendgroup\":\"\",\"marker\":{\"color\":[1,2,2,2,2,0,0,0,0,0,1,0,1,2,2,0,2,2,2,0,2,2,0,0,0,0,2,2,2,2,0,0,2,2,0,2,2,2,0,2,0,0,1,0,2,2,2,2,0,2,1,1,0,0,0,2,0,2,0,1,0,2,0,0,0,0,2,0,2,0,0,1,1,0,1,0,0,2,1,2,0,2,0,2,2,2,0,2,2,0,0,2,0,2,0,2,2,0,2,0,0,0,0,0,1,2,0,1,2,1,2,2,2,0,0,0,0,0,0,2,2,0,1,1,0,0,0,1,2,1,0,0,0,0,2,1,2,1,1,2,0,0,1,0,0,2,2,2,0,0,0,0,0,2,2,1,2,2,0,0,2,0,0,0,2,2,2,2,0,0,2,1,2,1,0,2,2,0,2,2,0,2,2,1,1,2,1,2,0,0,1,0,0,0,0,0,0,2,0,0,2,0,0,1,2,0,2,0,2,2,0,2,0,0,0,2,0,2,0,2,2,2,2,2,1,2,0,0,0,0,0,0,0,1,0,2,0,0,2,0,1,0,0,0,0,1,1,0,0,1,1,2,0,2,2,0,0,0,0,0,1,0,0,0,0,0,0,2,0,0,1,0,2,0,2,0,0,2,0,2,0,0,1,0,2,0,0,2,2,2,2,0,1,2,1,0,2,0,0,2,0,1,0,1,0,1,2,2,2,0,2,1,0,0,0,0,0,1,0,2,0,0,2,0,1,0,2,0,0,2,0,0,0,0,2,2,0,2,0,2,0,2,2,2,0,0,0,2,1,0,0,2,0,0,0,1,0,0,1,0,0,1,1,2,2,0,1,0,0,0,2,0,1,0,2,0,0,0,0,0,1,2,2,0,0,2,2,0,2,0,0,2,2,0,0,2,0,0,0,0,0,2,0,0,1,1,1,0,0,2,0,0,2,2,2,2,0,0,1,2,0,0,0,0,2,2,0,0,2,0,1,1,0,2,1,0,2,2,2,1,0,2,0,0,0,2,2,1,0,2,0,2,2,0,0,0,1,0,0,1,2,0,1,0,0,1,0,0,0,1,1,0,2,2,2,1,0,2,0,0,0,0,0,1,2,1,2,0,0,2,0,0,2,1,2,0,0,0,2,0,0,0,0,0,0,0,0,0,1,2,2,2,0,2,0,0,2,0,2,0,0,2,2,0,2,2,2,0,1,0,2,2,0,2,0,2,0,1,0,0,0,0,2,2,0,0,0,0,0,0,1,1,0,0,0,0,0,1,2,1,0,2,2,2,0,0,0,2,0,1,2,1,0,2,0,0,0,0,1,0,1,0,2,0,0,0,0,1,0,0,0,0,2,0,0,1,2,0,0,0,2,2,0,0,0,1,0,0,2,0,2,0,2,0,2,2,0,0,1,0,0,0,1,0,0,0,2,0,0,1,0,0,2,1,1,2,1,0,1,0,0,1,0,0,0,1,1,0,2,2,2,0,0,0,0,0,2,0,0,2,2,0,2,1,0,1,0,0,0,0,1,0,1,1,2,0,0,0,0,0,0,0,2,2,2,2,0,0,0,1,0,1,0,0,1,2,0,0,2,2,0,0,0,2,1,0,0,0,1,2,0,0,2,2,0,2,0,0,1,2,2,0,2,0,0,0,0,0,0,2,0,2,0,0,2,0,0,1,0,0,0,0,0,0,2,0,2,2,0,0,2,1,2,0,0,2,2,1,2,0,0,0,2,0,2,2,0,0,0,0,0,0,0,0,0,0,0,0,0,2,1,0,2,0,0,0,0,0,2,1,1,2,0,0,0,0,0,0,2,1,0,2,0,0,2,0,0,1,0,2,0,0,1,0,0,2,2,0,0,0,0,1,0,2,0,0,1,0,0,0,0,0,1,0,1,0,2,2,2,1,1,0,2,0,2,2,2,2,0,2,0,0,2,0,2,2,0,0,0,2,0,0,0,0,2,2,1,2,2,0,0,2,2,2,2,1,2,0,1,0,2,2,2,0,1,1,0,0,2,0,2,1,0,0,0,1,0,2,1,0,0,0,0,0,0,2,0,0,0,0,2,2,0,0,2,2,1,0,1,2,0,0,2,0,0,2,2,0,2,0,0,2,2,2,0,2,2,0,1,0,2,2,2,0,2,2,0,0,2,0,0,0,1,0,0,2,2,0,0,0,1,0,0,0,0,1,1,0,0,0,0,0,0,2,2,0,0,2,0,2,0,0,1,0,0,0,0,1,0,0,0,0,0,2,0,1,2,2,2,2,0,0,0,2,2,0,0,0,2,2,0,2,0,2,1,1,2,0,0,0,0,0,0,0,1,0,0,0,0,0,0,2,0,0,2,0,1,1,0,0,1,0,2,2,0,0,0,0,0,2,0,0,0,2,2,0,0,0,0,0,2,2,2,2,2,2,1,0,2,0,0,0,2,2,0,0,1,0,0,0,0,0,1,0,2,2,0,2,0,1,1,1,2,0,0,0,0,0,1,0,2,2,2,0,2,1,2,2,2,0,0,2,2,2,0,0,0,0,0,2,0,2,0,0,2,2,0,1,0,0,2,0,1,2,0,1,0,0,2,0,2,0,2,1,2,0,2,0,0,2,0,0,2,0,0,2,0,0,0,0,0,1,0,2,1,1,0,0,0,0,2,2,0,2,0,2,0,2,2,0,0,2,0,2,0,0,0,2,1,0,0,0,2,1,2,0,0,0,0,0,2,2,2,0,0,0,0,0,2,0,2,0,2,1,0,2,2,2,2,0,0,0,0,0,0,2,1,0,1,2,0,0,0,2,0,0,0,0,1,0,2,0,0,0,2,2,0,2,0,2,2,0,2,2,0,2,0,0,0,2,2,0,2,0,0,2,0,0,0,0,0,0,2,0,2,0,0,2,0,2,1,0,0,0,2,2,0,1,0,2,0,0,1,1,2,2,1,2,0,2,2,2,0,2,2,1,0,2,2,1,2,2,0,1,2,2,1,2,2,0,0,0,0,0,0,0,0,1,0,0,2,0,0,0,0,0,0,0,2,0,2,2,0,0,0,0,1,1,0,2,2,0,0,2,2,2,2,0,2,2,1,0,1,0,2,2,1,0,2,2,0,2,0,2,1,0,1,2,2,0,0,2,0,0,0,0,0,2,1,2,1,1,0,0,2,0,1,0,1,0,1,2,0,2,2,2,2,0,2,0,1,1,0,2,0,0,0,0,0,0,2,2,0,2,0,0,0,0,2,2,1,0,2,2,0,0,1,1,2,2,0,0,0,1,0,0,0,2,0,0,0,2,0,1,2,2,0,2,2,0,0,2,2,0,0,0,1,0,2,0,0,0,0,0,2,2,1,2,0,0,0,0,2,0,0,2,0,2,2,2,1,1,0,0,0,0,2,0,0,0,1,0,0,0,0,0,0,1,2,1,2,0,0,0,1,2,0,1,2,2,0,0,0,0,1,0,2,0,2,0,0,2,2,0,2,1,2,0,0,2,0,0,2,2,2,1,2,2,0,0,0,2,1,2,0,2,2,0,2,2,0,2,1,1,0,0,1,0,2,1,2,1,0,0,2,1,0,2,0,2,2,0,2,2,2,0,2,0,2,0,0,0,2,1,0,2,0,2,0,0,0,1,0,2,2,2,0,2,2,1,0,0,0,0,1,1,2,0,0,0,0,2,0,2,0,0,2,2,0,0,2,0,2,0,0,2,1,0,0,0,0,0,0,0,0,1,0,0,2,2,1,0,2,1,0,0,0,0,2,2,2,0,0,0,2,2,0,2,1,0,1,0,0,1,0,0,2,2,2,1,0,0,1,0,0,0,1,2,2,0,0,2,0,2,2,2,0,1,0,0,0,2,2,1,0,1,2,0,2,0,0,0,2,2,0,2,0,2,0,0,2,0,0,0,2,0,0,2,2,2,2,1,0,2,2,2,2,2,2,2,2,2,1,0,2,2,2,1,1,2,1,2,0,2,0,0,0,1,2,1,0,0,0,0,2,0,0,2,2,2,2,0,2,2,0,0,0,2,2,2,0,1,0,2,0,1,2,0,2,0,0,2,2,0,1,0,0,0,0,0,0,0,2,1,2,2,0,2,2,2,0,0,0,0,0,0,0,2,0,2,0,0,2,0,2,1,2,2,2,0,2,1,2,2,0,2,0,2,2,2,2,0,0,2,0,0,0,1,0,2,2,2,2,0,2,1,2,2,2,0,0,0,0,2,0,2,0,0,1,2,0,0,2,2,0,0,2,2,1,0,1,0,0,0,0,0,0,2,1,0,2,2,1,0,2,0,0,0,2,0,0,1,2,2,2,2,2,2,0,2,0,0,1,2,2,0,0,0,2,2,2,0,2,0,0,1,0,2,1,2,0,2,0,0,1,1,2,0,1,0,2,1,1,1,1,1,1,0,0,2,1,2,0,0,2,0,0,2,2,0,1,2,2,2,0,2,2,2,0,0,2,2,0,0,0,2,0,0,0,2,2,2,0,1,2,1,2,0,0,0,0,0,0,0,0,0,2,0,1,0,0,0,2,0,0,1,2,2,2,0,0,0,0,0,0,1,2,2,0,0,0,2,0,0,2,2,0,2,2,0,0,2,2,2,2,0,0,0,0,0,0,1,0,0,2,2,0,2,1,0,0,2,2,2,0,0,0,0,0,1,0,0,0,0,0,0,0,0,0,0,0,0,0,2,0,0,0,0,0,2,0,0,1,0,0,0,2,0,0,2,0,0,0,0,2,0,0,0,0,0,0,0,0,0,0,0,0,1,2,1,1,2,2,2,0,2,2,0,2,2,0,2,2,2,2,1,0,1,0,0,1,1,2,0,2,0,0,0,2,1,2,2,2,2,0,0,0,1,0,0,2,2,0,1,2,1,0,0,2,2,2,0,2,2,1,0,2,2,0,2,2,0,2,0,2,2,0,0,2,0,2,0,1,0,0,2,0,0,0,0,0,0,2,2,1,2,0,2,2,0,0,0,0,0,2,2,2,0,2,2,2,2,0,1,0,0,0,1,2,0,0,2,0,1,0,0,1,2,1,0,0,0,2,2,0,0,0,0,2,0,2,0,1,0,0,0,0,0,2,0,0,0,0,2,0,0,0,2,2,2,2,0,2,1,1,1,2,2,2,0,2,2,0,0,0,0,0,0,2,1,0,0,0,1,0,1,2,0,0,0,2,2,0,1,2,0,0,0,1,1,0,1,0,0,0,2,0,1,2,2,1,0,2,0,0,0,1,0,2,0,0,0,1,0,0,2,0,2,0,2,0,0,0,0,1,0,2,2,0,0,0,1,0,0,0,2,2,1,0,2,0,0,2,0,0,2,2,2,0,2,0,2,0,0,2,0,2,0,0,0,0,2,2,1,1,1,0,0,2,0,2,0,0,0,0,2,0,0,0,1,1,0,2,0,2,0,0,2,0,1,0,0,2,0,2,2,2,0,0,2,2,1,0,0,0,1,0,0,0,2,0,0,0,2,0,2,0,0,2,2,0,0,2,0,1,0,2,0,2,0,0,1,1,0,0,2,2,0,1,0,1,1,2,0,2,1,0,0,1,0,0,0,2,2,2,0,2,2,0,1,0,1,2,0,1,0,2,0,2,0,0,2,2,0,0,1,2,0,0,1,2,2,0,2,0,2,0,0,0,0,2,0,2,2,1,0,2,0,1,0,0,2,2,0,2,0,0,0,2,0,2,2,1,2,0,0,2,0,0,2,1,2,2,1,0,2,2,0,2,2,0,0,0,0,0,1,2,1,0,2,0,2,2,0,2,2,1,0,0,2,0,2,2,0,0,2,2,2,2,0,0,2,0,2,0,1,2,1,2,0,0,0,2,0,2,2,0,0,2,0,2,2,0,1,0,0,0,2,1,0,0,1,2,2,2,1,2,0,0,0,0,0,0,1,0,1,2,2,2,0,2,0,2,1,0,2,0,0,1,1,0,2,0,0,0,0,0,0,0,0,0,2,0,2,0,0,0,2,2,0,0,0,1,1,0,2,0,0,2,0,2,0,0,0,1,1,0,2,1,2,2,0,0,0,0,0,1,0,0,2,2,0,1,1,0,1,0,0,1,2,2,0,2,2,0,0,2,0,0,0,2,2,0,2,0,0,0,0,1,2,0,2,1,2,0,1,0,0,0,0,2,2,1,1,2,0,1,2,0,0,0,0,0,2,0,0,2,2,0,0,2,0,0,0,2,0,2,2,0,0,0,0,1,2,2,2,2,1,0,2,2,0,0,0,0,2,0,0,0,0,1,0,1,0,2,1,2,0,2,0,1,2,1,1,0,0,0,0,0,0,2,0,0,2,2,0,2,0,0,0,1,0,2,0,0,0,1,1,1,1,0,2,0,0,2],\"coloraxis\":\"coloraxis\",\"symbol\":\"circle\"},\"mode\":\"markers\",\"name\":\"\",\"showlegend\":false,\"x\":[10.95071792602539,63.20661544799805,7.679687023162842,68.04270935058594,58.2882080078125,-46.609703063964844,-14.08682632446289,-30.231775283813477,-1.0877389907836914,-8.523073196411133,38.000450134277344,-10.896020889282227,37.52206802368164,13.224405288696289,60.48006057739258,-1.386110544204712,30.801956176757812,4.184450626373291,24.38128662109375,-16.99195098876953,4.092092990875244,57.29082107543945,-9.221661567687988,-24.429624557495117,-31.788156509399414,-37.931400299072266,31.66701316833496,23.206518173217773,24.219602584838867,21.003759384155273,-22.797565460205078,-5.554827690124512,61.70943832397461,36.541419982910156,-27.792621612548828,42.38334655761719,27.263349533081055,10.834009170532227,-49.67561721801758,33.52587127685547,-27.16716957092285,-40.46443176269531,36.47245407104492,-0.7995681762695312,58.6906623840332,39.65446090698242,37.68266296386719,56.74989318847656,-3.1036009788513184,40.045230865478516,19.80652618408203,42.063541412353516,-57.58763122558594,-57.11359786987305,-36.106292724609375,33.19120407104492,-5.092635631561279,31.788785934448242,-16.857582092285156,33.80253219604492,-41.11441421508789,10.485595703125,-45.2728271484375,-2.1461892127990723,-13.796173095703125,-9.364249229431152,9.583528518676758,-2.4329898357391357,13.20264720916748,-45.639625549316406,-34.154151916503906,19.64020538330078,41.27214050292969,-8.14914608001709,27.524938583374023,-1.303944706916809,-46.03487777709961,19.129140853881836,26.45236587524414,59.31298828125,-49.35209274291992,55.80055618286133,-42.5480842590332,42.79658126831055,36.812744140625,26.359588623046875,-42.06773376464844,52.09065246582031,20.042522430419922,-48.72088623046875,-36.59986114501953,3.0975143909454346,-24.047517776489258,64.75625610351562,-27.210891723632812,6.930746078491211,3.7991507053375244,-50.434391021728516,44.240928649902344,-35.95750045776367,-34.241886138916016,-5.703330039978027,-49.90312957763672,-28.31234359741211,31.600759506225586,59.52051544189453,-5.93238639831543,39.7624626159668,23.349525451660156,41.9488639831543,50.61558151245117,16.300710678100586,5.736586570739746,-8.016880989074707,-23.420373916625977,-18.688796997070312,-52.85087203979492,-23.613910675048828,-46.3957405090332,42.21650695800781,23.51443862915039,-17.251380920410156,38.11176681518555,6.667093753814697,-17.231584548950195,-47.82593536376953,-32.97439193725586,40.534236907958984,39.2607421875,27.31243133544922,-53.56755447387695,-59.05691146850586,-60.118072509765625,-53.77584457397461,28.356319427490234,22.345712661743164,38.681243896484375,27.406848907470703,37.3045654296875,22.097169876098633,-50.4378662109375,-54.946449279785156,35.93967819213867,-56.468379974365234,-43.465110778808594,26.648548126220703,41.488704681396484,19.340612411499023,-2.871934413909912,-11.273088455200195,-0.9128531217575073,0.4723788797855377,-40.4104118347168,68.08477020263672,67.78497314453125,42.59944152832031,24.809350967407227,11.330313682556152,-54.29502868652344,-61.008907318115234,29.27742576599121,-53.80891036987305,-2.0766258239746094,-38.00458908081055,44.26531982421875,17.388813018798828,62.34486389160156,64.62647247314453,-0.5094487071037292,-54.86309051513672,24.432058334350586,11.589734077453613,37.474365234375,14.866151809692383,-19.937440872192383,65.50806427001953,53.42620086669922,2.0787863731384277,26.710180282592773,42.32964324951172,-39.42881774902344,17.540584564208984,41.6901969909668,33.77216720581055,21.55810546875,57.12211227416992,12.76325798034668,58.00611114501953,-30.835712432861328,-47.444236755371094,24.898582458496094,-51.08165740966797,-17.273447036743164,-37.910518646240234,-2.978219985961914,-57.855525970458984,-9.102981567382812,22.761947631835938,-25.524381637573242,-35.531394958496094,18.488853454589844,-1.6665297746658325,-11.883888244628906,16.35999298095703,65.880126953125,-11.039637565612793,39.41522979736328,-0.7150151133537292,39.740108489990234,42.298316955566406,-40.86817169189453,67.87659454345703,-18.783845901489258,-60.21630859375,-34.63676071166992,13.86318588256836,-2.453605890274048,4.346471786499023,-36.61567306518555,4.929500102996826,29.487775802612305,3.240933656692505,16.66761589050293,5.439849376678467,28.61650848388672,38.27874755859375,-47.36587905883789,-7.784048557281494,-14.149895668029785,-53.90316390991211,-3.6954612731933594,-9.693268775939941,-25.881418228149414,18.61001968383789,-60.21588897705078,7.498785495758057,-28.929645538330078,-19.702016830444336,13.673261642456055,-48.5737419128418,24.118432998657227,-40.44301223754883,-9.401873588562012,-1.8209487199783325,-48.94153594970703,38.32135772705078,38.25193405151367,-46.2911262512207,-45.29106521606445,36.829750061035156,13.276187896728516,7.558004379272461,-15.90502643585205,18.908037185668945,69.51700592041016,-42.97694396972656,-50.112083435058594,-15.81132984161377,-7.637744426727295,-37.36951446533203,42.66901397705078,-35.58333969116211,-49.537010192871094,-1.905570149421692,-22.491558074951172,-24.614107131958008,-14.301219940185547,2.728654384613037,-0.9902386665344238,-3.441540241241455,18.495275497436523,-41.90473175048828,60.141090393066406,-42.239131927490234,57.108699798583984,-26.4440975189209,-29.565196990966797,14.546439170837402,-49.06011962890625,13.99245834350586,-10.83425235748291,-41.12424087524414,28.838178634643555,-45.64250564575195,29.364322662353516,3.0219333171844482,-43.18783950805664,21.121978759765625,23.399208068847656,50.18501663208008,65.39757537841797,-32.33396911621094,21.259071350097656,23.944488525390625,22.888973236083984,9.32529354095459,38.5943603515625,-38.633243560791016,-10.508116722106934,67.05205535888672,-57.557064056396484,38.73613357543945,-10.597882270812988,27.866296768188477,1.6728113889694214,38.95232391357422,12.75682544708252,57.81740188598633,15.008835792541504,-2.2823355197906494,59.24387741088867,7.685999870300293,-56.283138275146484,-60.531917572021484,-0.6130053400993347,-60.002628326416016,-11.446295738220215,35.41537857055664,-60.54872512817383,28.748855590820312,-17.394956588745117,-59.80698776245117,67.22454071044922,-45.2914924621582,13.761126518249512,-3.116859197616577,24.12493133544922,-14.364666938781738,-19.527116775512695,51.817176818847656,-8.445164680480957,-22.119884490966797,-5.611220359802246,-23.140243530273438,51.78845977783203,38.747520446777344,-32.3837776184082,35.80492401123047,-16.815826416015625,62.96133041381836,-45.04156494140625,33.726226806640625,66.66317749023438,29.816028594970703,-39.80403137207031,-8.069326400756836,-42.87421798706055,20.813274383544922,39.69118118286133,-27.98495864868164,-30.596437454223633,30.061429977416992,-38.21382141113281,-10.375168800354004,-41.96694564819336,29.13048553466797,-55.411502838134766,-59.55439758300781,19.495824813842773,-40.231624603271484,-12.960686683654785,12.91629409790039,20.377012252807617,10.355753898620605,56.43768310546875,-55.028141021728516,21.795482635498047,-29.750768661499023,-32.69587326049805,-41.352725982666016,18.693225860595703,-3.6640536785125732,16.19231605529785,-40.937252044677734,8.053020477294922,-10.008626937866211,-15.304682731628418,-13.93511962890625,-20.018415451049805,-26.676822662353516,35.3717155456543,15.355721473693848,39.398006439208984,-33.74580001831055,-1.0033923387527466,8.804219245910645,26.904495239257812,-35.00414276123047,42.116268157958984,-9.638928413391113,-25.459096908569336,26.467266082763672,66.72271728515625,-40.96289825439453,-1.915358066558838,63.39706802368164,-19.425678253173828,-57.91264343261719,-58.35020065307617,-18.874568939208984,-16.842914581298828,17.187957763671875,-1.1788235902786255,-26.688642501831055,34.90718078613281,39.53207778930664,30.272851943969727,-3.8964860439300537,-19.3089656829834,31.606220245361328,-31.554771423339844,2.5185999870300293,20.428279876708984,17.754838943481445,32.64335250854492,7.1511712074279785,0.4113300144672394,-26.558944702148438,30.088315963745117,66.0724105834961,0.8837385773658752,-14.095027923583984,-35.95234680175781,-59.60212326049805,54.40068054199219,24.194068908691406,-52.72882843017578,-57.099857330322266,3.3465540409088135,-15.786097526550293,25.932249069213867,19.655786514282227,-15.65444564819336,24.533069610595703,22.73351287841797,-24.479433059692383,21.722497940063477,58.31151580810547,61.80949020385742,23.453107833862305,-18.734703063964844,57.78474807739258,-15.845779418945312,-44.120296478271484,-10.832296371459961,31.885292053222656,59.63541030883789,20.111082077026367,-45.32662582397461,62.277923583984375,-11.57719612121582,38.79755401611328,4.296283721923828,-30.615156173706055,1.8678152561187744,0.6754529476165771,32.917842864990234,-55.097511291503906,-27.98212432861328,37.47459411621094,23.515113830566406,0.3025865852832794,25.263626098632812,-48.63845443725586,-18.75245475769043,33.074214935302734,-39.25870132446289,1.2340078353881836,-17.312170028686523,38.928768157958984,12.444191932678223,-27.202566146850586,29.39237403869629,24.617660522460938,57.36040496826172,34.4550666809082,-5.35184907913208,27.91004180908203,-9.397296905517578,-50.215396881103516,-8.650035858154297,-18.588163375854492,-54.457069396972656,36.2140998840332,69.0249252319336,36.944496154785156,4.921923637390137,-20.236841201782227,-4.894631862640381,24.004812240600586,-6.323537349700928,-59.46120834350586,32.63470458984375,19.291671752929688,53.4323844909668,-11.265782356262207,-4.24973201751709,1.7455822229385376,43.79353713989258,-22.84159278869629,-45.27816390991211,-23.7828311920166,-45.06816482543945,5.57766580581665,-50.847415924072266,-47.4836540222168,-53.725948333740234,-43.28127670288086,32.72418212890625,25.32747459411621,11.554681777954102,42.01448059082031,-36.98234939575195,4.050373554229736,-1.254319190979004,-20.609270095825195,4.196869373321533,-37.3370246887207,63.94624328613281,-23.624073028564453,-55.79012680053711,24.424896240234375,57.45302963256836,-31.595333099365234,12.675629615783691,6.634428024291992,23.481630325317383,-47.13650131225586,37.174293518066406,-10.337627410888672,20.878353118896484,58.432395935058594,-7.276601791381836,51.98288345336914,-47.61893844604492,59.69053268432617,-18.586679458618164,36.55937576293945,-18.017366409301758,-37.24058532714844,-60.22980880737305,3.2681310176849365,30.12108039855957,53.41264724731445,-44.926658630371094,-21.740671157836914,-46.91923904418945,-33.787071228027344,-39.36857604980469,-9.009073257446289,14.488484382629395,9.91994571685791,-0.6918323040008545,-3.990262269973755,-50.75895309448242,-6.872276782989502,-20.926464080810547,23.584848403930664,64.81864166259766,18.748022079467773,-58.84279251098633,20.764631271362305,9.42112922668457,7.738469123840332,-45.8338508605957,-46.516357421875,1.615351915359497,20.102352142333984,-29.028911590576172,26.116962432861328,37.66061782836914,24.107301712036133,-43.56019973754883,19.471691131591797,-16.52825164794922,-3.222872257232666,-51.261539459228516,-6.200578689575195,29.583023071289062,-32.82051086425781,29.4954776763916,-31.0032958984375,18.003538131713867,-45.490901947021484,-32.90155029296875,-43.38615417480469,-3.713714838027954,30.883920669555664,-37.79789352416992,-14.964982986450195,-28.5894718170166,-26.94883155822754,30.678077697753906,-16.988483428955078,-40.00298309326172,29.534563064575195,30.288209915161133,3.4950063228607178,0.8770797252655029,-9.786504745483398,65.99671173095703,62.2441291809082,-44.619449615478516,-60.88515090942383,-15.198238372802734,32.23622512817383,-17.562179565429688,-19.728673934936523,31.90186309814453,-10.418020248413086,7.185178279876709,-21.234752655029297,8.97121524810791,-20.829092025756836,43.25162124633789,9.263480186462402,-7.495186805725098,-3.780618190765381,25.794082641601562,-33.071998596191406,-11.250998497009277,-21.586889266967773,31.512733459472656,-47.53691482543945,-16.771154403686523,-20.464113235473633,56.7851676940918,-50.2255973815918,-12.435806274414062,22.365951538085938,-52.293643951416016,-59.34461212158203,6.1262407302856445,18.64818000793457,29.55828094482422,59.369136810302734,34.542293548583984,-60.38528060913086,38.65262985229492,-51.31911087036133,-14.178287506103516,25.32444953918457,-19.73908233642578,-24.856082916259766,-52.421146392822266,33.38283920288086,23.002485275268555,-2.808321237564087,12.435168266296387,58.553104400634766,56.412864685058594,-56.834373474121094,-5.351438522338867,-15.705288887023926,-1.3182085752487183,-55.25916290283203,3.697049379348755,-11.520112991333008,-35.3742790222168,6.866855144500732,59.6563835144043,-54.99013900756836,50.26730728149414,9.83935260772705,-19.05916976928711,34.6367301940918,-22.676807403564453,-43.36973571777344,-34.771759033203125,-22.377094268798828,27.317731857299805,-50.232765197753906,31.70231056213379,24.13744354248047,63.347816467285156,-1.5238304138183594,-41.60814666748047,-48.59785461425781,-8.121086120605469,-41.221370697021484,-53.63902282714844,5.058251857757568,19.488590240478516,9.317601203918457,33.01448059082031,25.350540161132812,-47.964027404785156,-32.03822708129883,-8.411498069763184,10.59546947479248,-25.4183349609375,16.55596351623535,-33.79349136352539,-0.40999457240104675,37.61452102661133,3.616321563720703,-24.7449951171875,-26.047243118286133,40.709075927734375,9.645034790039062,-41.87320327758789,-43.157958984375,0.49594762921333313,31.131189346313477,7.494540691375732,-9.17947006225586,-10.74615478515625,-51.31263732910156,33.13555908203125,33.75615692138672,-27.41526222229004,0.9573897123336792,29.901304244995117,25.66975975036621,-23.298696517944336,55.91133117675781,-28.1138973236084,-36.95989227294922,36.62574005126953,61.128517150878906,8.935991287231445,-48.24021911621094,40.38084030151367,-42.64655685424805,-21.312082290649414,-39.237178802490234,-47.01323318481445,-12.308259963989258,-43.62432861328125,30.95345115661621,-8.950909614562988,57.47875213623047,-1.2004494667053223,-20.185686111450195,54.435543060302734,-22.110328674316406,-29.264774322509766,17.489662170410156,-40.63087463378906,-1.8305281400680542,-49.95918655395508,-57.3555793762207,-55.09867477416992,-39.757816314697266,66.19166564941406,-13.907554626464844,31.4483699798584,42.95216369628906,-42.93146514892578,-35.228675842285156,66.469970703125,40.61187744140625,25.325435638427734,-49.0625,-20.35150909423828,30.289722442626953,56.8836784362793,24.540632247924805,25.521726608276367,-14.460495948791504,2.1128616333007812,-41.86896896362305,39.29093933105469,-4.267874240875244,27.750995635986328,19.961671829223633,-58.394569396972656,-60.58488082885742,-51.613224029541016,0.07241558283567429,0.9205378293991089,-31.485532760620117,-45.78843307495117,3.563835620880127,-22.45613670349121,-49.26503372192383,-44.30672836303711,-17.001014709472656,-57.382015228271484,38.58221435546875,19.957733154296875,-42.29369354248047,37.19881057739258,-29.129714965820312,5.770847320556641,-48.49763107299805,-46.958126068115234,-22.220714569091797,57.3913688659668,33.59364700317383,39.75597381591797,24.190780639648438,-18.547801971435547,-21.206172943115234,-58.659339904785156,-36.21379089355469,-58.372955322265625,-26.038097381591797,59.06026840209961,33.20561218261719,-37.63109588623047,18.176156997680664,-47.72216796875,-9.945062637329102,12.238184928894043,-20.554244995117188,-3.4519128799438477,38.292545318603516,-8.911563873291016,2.4292452335357666,-46.97166061401367,-1.448624610900879,17.163959503173828,-34.64999008178711,-24.966358184814453,57.92014694213867,8.284256935119629,-39.500083923339844,-37.004539489746094,-57.53462219238281,-29.685476303100586,38.866355895996094,-29.65866470336914,14.299372673034668,-46.51266860961914,-14.446544647216797,36.409969329833984,-28.59108543395996,-46.859092712402344,-61.04802322387695,-23.737634658813477,-56.925010681152344,31.422197341918945,-52.023414611816406,24.14173698425293,-0.171620175242424,22.756404876708984,58.96430969238281,66.8492660522461,38.6744384765625,30.024080276489258,0.8759561777114868,69.83055114746094,-28.285964965820312,12.45439338684082,21.10418701171875,18.50677490234375,39.53586959838867,-3.6747186183929443,68.18373107910156,-28.68262481689453,-45.38759231567383,1.4888615608215332,-39.46068572998047,32.11570358276367,8.038901329040527,-14.432490348815918,-16.905431747436523,-15.85672664642334,65.6883316040039,-41.003604888916016,-51.833106994628906,-21.168413162231445,-53.30656814575195,17.780710220336914,38.08757400512695,41.763084411621094,17.644332885742188,20.566781997680664,-23.21078109741211,-19.43007469177246,31.74012565612793,40.16422653198242,31.36084747314453,7.820976734161377,24.114662170410156,27.238466262817383,-4.026732921600342,34.10572814941406,-10.235410690307617,33.29479217529297,22.05038833618164,38.566829681396484,-23.450199127197266,23.264793395996094,10.904634475708008,-27.56848907470703,-27.142335891723633,34.742774963378906,-10.833846092224121,21.269006729125977,40.87288284301758,-2.0740370750427246,-17.188207626342773,-16.387596130371094,17.483924865722656,-41.151119232177734,30.478696823120117,7.462331295013428,-26.645475387573242,-19.638301849365234,-41.60963439941406,-6.518411636352539,-51.526023864746094,-6.323819160461426,20.680858612060547,-59.61074447631836,-58.921875,-16.901458740234375,-11.490580558776855,59.419002532958984,5.687518119812012,-41.45366668701172,-45.77412414550781,24.379528045654297,28.89313507080078,35.25713348388672,0.5399312376976013,21.647886276245117,54.81669998168945,-7.1508026123046875,-29.42316436767578,36.849884033203125,-47.3175163269043,-45.304752349853516,60.48989486694336,22.398380279541016,-17.615922927856445,55.13740921020508,-23.40057373046875,-22.852567672729492,39.003578186035156,56.80891036987305,60.26105880737305,-24.158252716064453,58.2169075012207,55.01701354980469,-33.56694793701172,38.734107971191406,-4.199861526489258,18.02315330505371,33.79588317871094,40.26588439941406,-49.85744094848633,13.733006477355957,55.557552337646484,-16.776811599731445,-56.765316009521484,28.44508171081543,-30.480159759521484,-7.21221923828125,-11.773299217224121,37.229793548583984,-36.37591552734375,-0.9315073490142822,2.5865933895111084,53.04632568359375,-28.665464401245117,-45.94277572631836,-38.01255416870117,15.253499031066895,-45.52693557739258,-12.493885040283203,-9.653176307678223,-18.47886085510254,22.38432502746582,30.764671325683594,-45.004329681396484,-3.8480453491210938,-10.98973274230957,-56.94527816772461,-47.98066329956055,-27.77094841003418,70.35585021972656,52.85212707519531,-10.120126724243164,-46.21604537963867,28.416921615600586,-43.703792572021484,39.65459442138672,-26.803009033203125,-47.55835723876953,36.34970474243164,-25.389127731323242,-39.04806137084961,-37.501461029052734,-22.651723861694336,21.41798210144043,-17.776817321777344,-41.91145324707031,-56.92973327636719,-23.04350471496582,-26.229984283447266,40.91960906982422,-23.59430694580078,40.1506233215332,70.5428237915039,10.532354354858398,60.78681182861328,6.533379554748535,-18.985492706298828,-25.756824493408203,-22.897735595703125,21.99734115600586,40.571311950683594,-42.12511444091797,-9.1188383102417,-40.40928649902344,16.138383865356445,52.444007873535156,-32.383296966552734,24.832128524780273,-6.496453285217285,16.227500915527344,36.32761001586914,31.78925132751465,62.934024810791016,-9.091620445251465,-60.60146713256836,-38.06198501586914,-31.48506736755371,0.6389586925506592,-10.397845268249512,-20.20186424255371,20.360292434692383,-41.776737213134766,-29.59327507019043,-47.95926284790039,-48.43775177001953,1.9191755056381226,-17.235441207885742,39.198543548583984,-26.297422409057617,-2.189645290374756,35.080078125,-33.75834655761719,31.479808807373047,33.39736557006836,-42.8697395324707,-30.814651489257812,32.08479690551758,-8.929372787475586,30.64740562438965,19.330291748046875,1.5830448865890503,-51.145652770996094,-29.53768539428711,-13.178485870361328,-11.196168899536133,60.65317153930664,-15.232914924621582,-40.729732513427734,-5.59377384185791,52.6137580871582,30.2293643951416,-44.055755615234375,-61.3048095703125,-0.6711931228637695,-47.2463264465332,-34.60639572143555,30.056533813476562,18.251798629760742,20.70250701904297,16.553041458129883,63.237186431884766,14.120656967163086,16.105224609375,-5.816056251525879,5.203830242156982,-38.5782470703125,-29.04808235168457,-9.45661449432373,38.3883056640625,32.06574630737305,-17.480552673339844,-27.943822860717773,26.71817970275879,-20.09596061706543,-61.14624786376953,-17.493087768554688,-47.02222442626953,-10.509328842163086,6.952349662780762,-1.3391859531402588,5.101634979248047,59.73477554321289,-13.108871459960938,13.854167938232422,-60.28950119018555,28.340246200561523,41.0770378112793,17.063405990600586,61.85618209838867,-13.837441444396973,-32.915504455566406,-59.87202835083008,-26.2867431640625,-11.57677936553955,19.76898956298828,-14.870795249938965,20.8160457611084,44.218711853027344,64.131591796875,-12.555242538452148,33.25099182128906,8.38542366027832,57.85087585449219,34.94124221801758,39.3416633605957,-10.014680862426758,-58.45503616333008,3.562955856323242,23.76146697998047,42.730403900146484,-42.55399703979492,-47.20292663574219,-60.23887252807617,-28.92140007019043,-10.332222938537598,43.42137145996094,-56.38188171386719,23.98797035217285,-19.418428421020508,-32.356407165527344,64.3475112915039,27.382572174072266,-36.7199821472168,15.758662223815918,-59.13787841796875,-13.933625221252441,58.944217681884766,0.31589630246162415,22.3155517578125,60.621334075927734,-31.104459762573242,36.68264389038086,-23.388818740844727,-43.61265563964844,58.87937927246094,-2.495025634765625,9.270435333251953,-38.499900817871094,7.158074378967285,26.5344181060791,51.83216857910156,-39.51224899291992,38.501834869384766,-55.5727653503418,-26.943023681640625,52.950984954833984,-3.0206170082092285,-24.233171463012695,53.098941802978516,-17.280885696411133,-9.846577644348145,6.355260372161865,4.783144950866699,-40.52302551269531,-46.31962585449219,-22.041057586669922,-17.226621627807617,27.651470184326172,-28.711530685424805,51.42633056640625,35.57415008544922,31.097774505615234,-9.52053451538086,-15.86414909362793,-29.589336395263672,-47.024234771728516,10.686325073242188,20.362926483154297,-52.30316925048828,21.187803268432617,-4.239320278167725,8.365965843200684,-39.635196685791016,23.25029754638672,4.94834566116333,-33.20595932006836,-52.4765739440918,41.5673828125,-30.962556838989258,59.64470672607422,-33.99576950073242,-26.11077880859375,3.1458239555358887,20.122486114501953,39.98462677001953,-7.235109329223633,-33.26171112060547,-9.213318824768066,55.519927978515625,38.3199462890625,59.92396545410156,-5.380150318145752,-43.418006896972656,-59.15938949584961,-20.302330017089844,-56.147010803222656,28.148927688598633,20.051349639892578,61.08420181274414,-43.67521286010742,-9.698752403259277,-5.604822158813477,-61.425498962402344,-32.305877685546875,38.964534759521484,-43.81281661987305,7.24738883972168,0.2565358877182007,30.948572158813477,39.105812072753906,-7.452083110809326,23.39316749572754,68.40972900390625,51.74295425415039,5.212389945983887,-17.902679443359375,-25.654531478881836,-28.49519157409668,-10.987434387207031,-0.16487261652946472,-27.551801681518555,59.600257873535156,21.80888557434082,-47.299720764160156,38.58311080932617,22.913522720336914,-32.82475662231445,-5.239491939544678,-17.823339462280273,15.072668075561523,-43.66480255126953,-44.971893310546875,-53.53847122192383,-5.740508079528809,25.84547233581543,-16.531763076782227,9.980134963989258,-51.962989807128906,1.700196385383606,-60.499549865722656,19.156169891357422,63.2999382019043,0.13091689348220825,10.85820484161377,6.271534442901611,21.417695999145508,29.18792724609375,-49.13237762451172,54.50191879272461,47.08906173706055,-8.901948928833008,66.8671646118164,-25.85264778137207,-37.100860595703125,-52.23847961425781,5.282378673553467,54.68805694580078,-60.00899124145508,36.661949157714844,-44.36089324951172,-23.804378509521484,40.294857025146484,-43.87511444091797,0.6134793162345886,-5.083451271057129,-30.27749252319336,-48.27903747558594,-56.159088134765625,6.383613109588623,-19.759479522705078,4.249691009521484,2.145684242248535,-36.88489532470703,7.700429439544678,-31.97248077392578,55.38248062133789,41.71247482299805,3.57078218460083,-59.42898941040039,-54.69990539550781,38.60224533081055,15.237855911254883,-26.590633392333984,36.372047424316406,-48.8322639465332,7.423808574676514,-24.223793029785156,-54.300106048583984,32.57815170288086,41.87859344482422,4.7758097648620605,45.52443313598633,18.828296661376953,38.78172302246094,-4.375088214874268,59.66646194458008,7.849487781524658,4.208747863769531,-0.02619090862572193,16.754695892333984,23.042264938354492,20.59224510192871,-6.661860466003418,25.25562286376953,58.86014175415039,17.74014663696289,18.31159019470215,36.77063751220703,-36.02585983276367,34.44171142578125,34.09218215942383,36.88573455810547,17.8852481842041,57.87123107910156,57.79819869995117,-41.52333450317383,-23.3850040435791,-33.266807556152344,-12.527393341064453,-37.05607604980469,-4.601353168487549,-14.607961654663086,-28.075708389282227,39.423702239990234,-31.081743240356445,-0.7180644273757935,27.991920471191406,-2.4480462074279785,-47.7680549621582,-58.44734191894531,-8.072640419006348,-28.355527877807617,-29.19779396057129,1.7909700870513916,11.32023811340332,-35.68916320800781,25.663942337036133,3.5033295154571533,-3.5482828617095947,-38.902164459228516,-28.98652458190918,0.37642332911491394,24.674795150756836,15.083708763122559,-11.473302841186523,39.11953353881836,68.35538482666016,-46.035240173339844,-5.738979816436768,5.328440189361572,38.1710205078125,28.204492568969727,5.237509727478027,-26.01483154296875,5.441423416137695,7.266104698181152,41.38026428222656,-32.146514892578125,16.383548736572266,-50.637123107910156,55.96247863769531,37.21446990966797,23.403661727905273,-48.297367095947266,25.326251983642578,68.35075378417969,-24.93843650817871,30.44219207763672,0.5747879147529602,56.96354293823242,28.2091121673584,-39.85173416137695,32.70845413208008,60.803226470947266,28.190975189208984,-41.82465362548828,-42.793434143066406,18.46053695678711,-24.073659896850586,-48.4234504699707,-22.97896957397461,-57.72051239013672,-47.358036041259766,45.03104019165039,26.49369239807129,56.67803955078125,18.20020866394043,24.963376998901367,-60.854957580566406,-33.7297477722168,61.09693145751953,-9.696459770202637,28.633216857910156,-24.53602409362793,24.21542739868164,-37.234371185302734,29.268770217895508,24.128990173339844,-16.484386444091797,60.04695510864258,48.43865966796875,69.75714111328125,52.95021438598633,-60.155696868896484,55.07073211669922,-59.136375427246094,37.587547302246094,41.50619125366211,-4.240976333618164,30.311872482299805,-25.763105392456055,-13.462249755859375,-17.229053497314453,3.1931655406951904,1.1587661504745483,-3.391055107116699,61.69873046875,42.11491012573242,-53.65318298339844,14.402993202209473,-50.32732009887695,-1.892008662223816,-34.73421096801758,-47.322017669677734,64.21528625488281,54.093414306640625,18.082698822021484,-28.170106887817383,23.66147232055664,27.99718475341797,-0.6668351292610168,3.325838088989258,39.81238555908203,34.143802642822266,9.805944442749023,14.76410961151123,-9.042901039123535,-39.35588836669922,-38.31908416748047,38.77327346801758,-24.48336410522461,-2.591480016708374,-31.006309509277344,38.023616790771484,-46.08002853393555,-16.284175872802734,-29.234418869018555,17.636598587036133,-36.804969787597656,28.281673431396484,14.385504722595215,29.608394622802734,-26.16826057434082,38.061885833740234,13.983036994934082,-53.53939437866211,-37.393157958984375,14.058488845825195,51.51868438720703,1.3115395307540894,-28.906753540039062,-40.317481994628906,12.14202880859375,-50.064491271972656,26.026535034179688,-37.345794677734375,-21.479787826538086,1.555357575416565,-29.96805191040039,-55.44683837890625,63.23630905151367,9.071321487426758,21.263111114501953,39.77427673339844,-33.231773376464844,-52.944602966308594,-42.78857421875,-37.6171989440918,51.23016357421875,-41.003761291503906,-28.416303634643555,70.19196319580078,-28.433374404907227,66.8980941772461,14.887918472290039,55.320682525634766,31.5595645904541,6.810947895050049,-48.95852279663086,-57.01893615722656,-27.281965255737305,-43.84606170654297,20.543148040771484,-59.88819885253906,-32.041961669921875,-11.667049407958984,16.806011199951172,0.5537617206573486,-28.09735107421875,-23.613204956054688,-19.54895782470703,-44.955997467041016,-6.262860298156738,27.146249771118164,40.993995666503906,38.64069747924805,56.47126388549805,-36.74117660522461,-59.7172966003418,-25.801408767700195,29.688037872314453,38.12382125854492,-6.730022430419922,31.7155818939209,27.653141021728516,13.973569869995117,-58.225704193115234,-56.21731185913086,-48.857017517089844,-23.604900360107422,20.059921264648438,-40.9711799621582,6.9469075202941895,-43.62522888183594,31.32700538635254,-4.132650852203369,-29.855398178100586,15.661380767822266,37.40266036987305,-52.691162109375,35.10847473144531,6.777470111846924,25.044044494628906,-19.368160247802734,-9.486990928649902,18.87318229675293,-47.388938903808594,-34.02497100830078,61.42558288574219,62.20780563354492,65.02078247070312,27.268375396728516,10.562617301940918,38.94698715209961,-51.64235305786133,-26.237695693969727,-45.40061950683594,2.779033660888672,33.824493408203125,3.321040153503418,-6.882897853851318,42.80885696411133,2.3844223022460938,-17.848445892333984,55.18858337402344,28.02237892150879,-59.35986328125,7.254374027252197,31.80419158935547,13.215165138244629,-28.700145721435547,-55.9906005859375,32.46844482421875,-22.600669860839844,2.4231066703796387,32.33150100708008,54.50590896606445,25.015419006347656,-43.449100494384766,-51.32054901123047,31.588769912719727,36.621742248535156,-55.8559455871582,12.179537773132324,-57.959869384765625,4.4327192306518555,19.35735511779785,-46.272132873535156,50.56204605102539,64.73110961914062,56.687843322753906,-43.30659484863281,31.722530364990234,-49.31482696533203,18.743202209472656,-47.43265914916992,-60.31352233886719,-1.7948640584945679,43.951229095458984,18.231260299682617,-44.23800277709961,18.430843353271484,6.443507194519043,54.384796142578125,-3.488662004470825,1.1727828979492188,-48.70695495605469,31.561853408813477,-11.550954818725586,9.946632385253906,36.74433517456055,2.348661184310913,-35.610233306884766,28.947649002075195,5.594359874725342,26.329328536987305,-3.250361442565918,-47.640411376953125,-22.86914825439453,-17.13727378845215,28.716121673583984,12.096502304077148,17.839677810668945,-5.069645881652832,-38.721466064453125,-18.031946182250977,-59.59469223022461,36.10740661621094,-34.26803207397461,67.78248596191406,-6.602797985076904,-1.598975419998169,28.38888931274414,4.039290904998779,3.3731002807617188,-47.05270767211914,35.70263671875,-50.96672821044922,58.39320373535156,-46.3680534362793,-32.14339828491211,26.008949279785156,21.122264862060547,-2.0497019290924072,-39.39289474487305,-38.79054641723633,-60.290306091308594,-56.017738342285156,-56.57701873779297,-4.756507873535156,-47.63313293457031,27.65113067626953,-30.379182815551758,-57.14232635498047,55.26103973388672,13.840330123901367,43.2545280456543,-45.659202575683594,58.045066833496094,15.934469223022461,-21.781801223754883,-52.05544662475586,-10.38177490234375,-41.699363708496094,9.05966567993164,21.270488739013672,28.64183235168457,-55.36040115356445,-1.9873943328857422,-57.95531463623047,21.452131271362305,33.41767501831055,-44.847591400146484,46.122188568115234,42.3610954284668,-29.60121726989746,28.189422607421875,-7.267380237579346,-54.7000617980957,23.777162551879883,-11.661334037780762,-12.691490173339844,61.20450210571289,41.78229522705078,31.872201919555664,38.10394287109375,-26.84687614440918,-55.685916900634766,23.087047576904297,-48.44417953491211,-55.71808624267578,-33.00746536254883,14.597102165222168,21.81719207763672,52.066036224365234,-59.51759338378906,-48.40507888793945,33.957950592041016,-49.821624755859375,22.987138748168945,50.06226348876953,23.39333724975586,-1.4806959629058838,34.854244232177734,-4.5392351150512695,-58.60962677001953,-59.37482833862305,26.197261810302734,70.62826538085938,27.70981216430664,-44.6910400390625,18.973529815673828,51.37639236450195,-7.427639007568359,65.48715209960938,-46.289608001708984,-41.782020568847656,1.6627848148345947,51.78849411010742,19.526212692260742,-17.408632278442383,61.86265563964844,-59.949798583984375,27.86294937133789,-49.3607292175293,-25.931840896606445,63.77396011352539,-29.77726936340332,-29.796649932861328,-37.981388092041016,21.664859771728516,-7.486000061035156,-49.03148651123047,37.46971130371094,32.749271392822266,64.2618179321289,4.282398700714111,27.744775772094727,2.3383476734161377,9.527565002441406,46.20020294189453,38.413089752197266,37.907859802246094,12.146688461303711,24.679800033569336,66.19332885742188,3.552943468093872,3.4356303215026855,15.152209281921387,-0.40571895241737366,38.29225540161133,17.819664001464844,34.884159088134766,27.26885986328125,24.04058265686035,28.957481384277344,34.12900161743164,50.95294189453125,-45.571773529052734,68.56866455078125,-46.983585357666016,-56.56031036376953,-43.165550231933594,41.72245788574219,29.627887725830078,32.896060943603516,-8.263912200927734,-8.13480281829834,-37.59638214111328,-8.254804611206055,26.184616088867188,-44.905914306640625,-17.697978973388672,13.780266761779785,4.794753074645996,9.143637657165527,6.2002363204956055,-27.380891799926758,9.943943977355957,53.392051696777344,-17.7103328704834,-54.02170944213867,-45.58404541015625,27.84512710571289,34.783870697021484,4.3818535804748535,-48.40275573730469,29.458614349365234,-16.153202056884766,29.537952423095703,-2.5305755138397217,38.06245803833008,48.41828918457031,-52.6121940612793,4.770209789276123,-26.156850814819336,-37.38689041137695,23.072362899780273,17.49846076965332,-41.94209289550781,8.891915321350098,-0.9184647798538208,-49.10651779174805,-56.25510787963867,-23.3972225189209,-20.924518585205078,-57.51164627075195,-21.80885887145996,41.16575622558594,29.255523681640625,32.40154266357422,3.570972442626953,-1.2544019222259521,38.601097106933594,1.3789821863174438,64.71244812011719,-49.46958541870117,-28.35378074645996,-48.45561218261719,-0.06343482434749603,-13.220452308654785,-46.6442985534668,-19.0589656829834,27.660856246948242,-32.86394119262695,22.275720596313477,-39.89131164550781,-22.790603637695312,16.50368881225586,-52.733482360839844,60.222434997558594,37.488826751708984,7.481436252593994,31.216901779174805,66.9901351928711,-25.35373878479004,60.839263916015625,40.74205780029297,66.23727416992188,8.688502311706543,-4.8153300285339355,25.775524139404297,-55.9133415222168,32.980491638183594,40.8491325378418,43.443416595458984,61.67544174194336,-19.653488159179688,1.1809426546096802,69.27477264404297,-16.23516845703125,-20.454179763793945,-51.00349807739258,30.041059494018555,-19.011381149291992,4.0798869132995605,52.247371673583984,59.19971466064453,64.9959716796875,-17.45628547668457,6.906527996063232,38.98613357543945,17.856752395629883,24.749515533447266,42.81587219238281,-2.2395379543304443,-20.92367935180664,3.337801456451416,-11.011384010314941,20.978614807128906,-46.57632827758789,31.1643123626709,-6.767333984375,-52.87196731567383,28.879541397094727,56.02992630004883,-10.705324172973633,-11.316823959350586,49.80216598510742,21.513790130615234,-46.34930419921875,-8.007708549499512,41.409236907958984,31.868391036987305,39.655311584472656,-4.946165084838867,27.07491111755371,-14.743112564086914,-39.94550323486328,-57.349632263183594,-13.981497764587402,-11.020663261413574,-0.6477852463722229,15.850349426269531,14.132643699645996,0.0862484872341156,30.51347541809082,11.287675857543945,17.755367279052734,-19.000329971313477,55.59965133666992,-22.661067962646484,-50.861576080322266,-2.133511543273926,12.280977249145508,-37.68230056762695,-52.51298522949219,20.706125259399414,10.81464958190918,2.943084955215454,61.75529861450195,7.184473037719727,63.10333251953125,22.36859130859375,-28.641258239746094,15.049874305725098,-25.367408752441406,-12.372823715209961,21.576732635498047,18.26947593688965,21.485225677490234,-59.17972946166992,-41.54891586303711,-35.9871940612793,12.623246192932129,2.4799370765686035,57.14116668701172,-45.28910446166992,54.06770324707031,-31.778825759887695,-23.513877868652344,31.703649520874023,-24.97327423095703,61.966739654541016,32.04540252685547,41.07150650024414,-53.51531219482422,37.492549896240234,-41.42515182495117,-9.484026908874512,42.95110321044922,34.898597717285156,56.91008758544922,0.9671253561973572,24.807523727416992,-9.495789527893066,63.471126556396484,34.65166473388672,34.530601501464844,15.552023887634277,36.57672882080078,41.81298828125,40.15766525268555,-18.80143165588379,-18.358497619628906,8.241706848144531,36.172096252441406,58.69261169433594,-22.471559524536133,5.966501712799072,43.538299560546875,-37.82532501220703,-24.115997314453125,14.526541709899902,31.805410385131836,-9.5556058883667,33.139522552490234,54.00191116333008,9.624968528747559,38.28164291381836,-22.4162654876709,13.6549072265625,14.589178085327148,23.720407485961914,-49.00819396972656,-17.147281646728516,16.873859405517578,24.746641159057617,-32.70337677001953,-33.75333023071289,-10.497944831848145,58.64619445800781,-25.28522300720215,-9.559711456298828,-58.52488327026367,39.174224853515625,51.89829635620117,-45.273460388183594,-39.43183517456055,37.90456771850586,17.7235107421875,21.686450958251953,49.33928680419922,-18.764331817626953,-59.48746871948242,-12.110478401184082,-25.95842933654785,-32.99205017089844,-48.55173873901367,-60.06797790527344,-29.694686889648438,-27.317340850830078,20.283349990844727,1.2192703485488892,29.409408569335938,-13.837105751037598,-10.514033317565918,-10.253522872924805,33.28406524658203,-42.35231399536133,-6.98112154006958,30.407623291015625,5.643270969390869,6.72161865234375,63.543766021728516,-37.863765716552734,-32.096160888671875,-49.67560577392578,-53.19939041137695,-36.253482818603516,-10.12882137298584,41.72475814819336,59.010581970214844,6.201214790344238,1.256180763244629,-10.880219459533691,-42.48992919921875,8.733332633972168,-28.64873695373535,-31.199726104736328,5.823101043701172,28.770549774169922,-10.038493156433105,17.396730422973633,31.32765769958496,-47.84198760986328,-0.17430752515792847,32.11772918701172,32.421051025390625,24.673999786376953,33.71603775024414,-7.824801445007324,-18.446475982666016,-23.127742767333984,-14.819779396057129,-19.95075798034668,-26.230504989624023,13.366251945495605,-13.262125968933105,-35.78022766113281,54.89016342163086,62.6491813659668,-13.00549602508545,11.10400104522705,42.39622497558594,-49.72718048095703,-43.23106384277344,51.3017463684082,22.721342086791992,57.685298919677734,-14.596124649047852,-41.73447799682617,-59.67707443237305,-15.744197845458984,-18.69612693786621,37.27403259277344,-39.60129165649414,-12.085062026977539,-41.653709411621094,-59.0396842956543,-48.880340576171875,-58.44989013671875,-57.30055618286133,-55.588829040527344,-53.69563293457031,-36.03646469116211,-58.9579963684082,-5.3079376220703125,-51.927154541015625,62.60273742675781,-39.6606559753418,-26.286970138549805,-34.0274543762207,5.843539714813232,4.280235767364502,23.341999053955078,-45.8948974609375,-32.899749755859375,22.51730728149414,-47.332786560058594,-0.4929744303226471,-10.776470184326172,12.198080062866211,-32.831058502197266,1.253993272781372,35.040740966796875,-1.9659807682037354,-11.74135971069336,-8.01328182220459,-10.93861198425293,47.11508560180664,-5.96627140045166,-60.07558822631836,-42.068058013916016,-60.38087463378906,-17.302244186401367,-39.55997848510742,-23.234159469604492,-45.826377868652344,-47.53030014038086,-16.740726470947266,-51.29078674316406,-41.3975830078125,15.187923431396484,57.7559814453125,35.92573928833008,19.304515838623047,20.3460636138916,11.064492225646973,69.63633728027344,-17.197336196899414,34.90324783325195,51.906429290771484,-31.611278533935547,17.914716720581055,4.057431221008301,-4.916889190673828,56.67190933227539,8.25903034210205,3.3123319149017334,10.097312927246094,23.222074508666992,-41.00254821777344,34.1407470703125,-24.26723289489746,-15.207685470581055,40.78790283203125,35.712013244628906,53.759246826171875,-7.138531684875488,58.98214340209961,-50.04054260253906,-8.143948554992676,0.8124701976776123,30.377639770507812,20.227191925048828,61.56264114379883,14.154425621032715,2.8114371299743652,55.8407096862793,-10.112804412841797,-23.950002670288086,-56.65742111206055,41.32386016845703,-30.674680709838867,-39.15814971923828,10.304959297180176,30.048847198486328,-56.65357208251953,14.764113426208496,71.21367645263672,41.06147766113281,-5.694704055786133,-1.309587836265564,66.87612915039062,61.033382415771484,61.66987609863281,-47.81682205200195,21.59658432006836,18.031465530395508,38.604888916015625,-14.741714477539062,7.43847131729126,60.172733306884766,-17.175373077392578,33.83189010620117,17.721458435058594,-48.483760833740234,18.45001983642578,-43.508056640625,66.55115509033203,21.626934051513672,-36.23577117919922,-12.700576782226562,59.579750061035156,-21.03022003173828,18.607112884521484,-1.7346206903457642,31.406742095947266,-35.510128021240234,-26.165271759033203,7.0531415939331055,-6.525051593780518,-48.756160736083984,-5.303497791290283,-46.3575325012207,-46.004398345947266,-20.477035522460938,23.328500747680664,46.27526092529297,39.872371673583984,37.58810806274414,-11.127761840820312,50.67189407348633,46.547000885009766,-18.096385955810547,-38.479400634765625,-5.463128566741943,-45.392635345458984,-30.946500778198242,29.05997657775879,60.260616302490234,64.33717346191406,-18.295703887939453,4.106131553649902,8.852582931518555,59.40933609008789,27.929643630981445,-16.75010108947754,39.16220474243164,-59.07353210449219,-28.950702667236328,-59.193756103515625,27.57349395751953,19.419963836669922,-28.811086654663086,-28.289228439331055,58.37867736816406,-4.35643196105957,20.812795639038086,-33.3316535949707,0.9363089799880981,14.039861679077148,34.011165618896484,20.93436050415039,0.9052510261535645,-40.07046127319336,-48.061424255371094,56.257484436035156,10.183764457702637,-9.73676872253418,-11.749006271362305,-25.40837860107422,-45.0788688659668,8.882596015930176,-50.21181869506836,47.28232192993164,-25.357826232910156,38.37166976928711,-19.427135467529297,-47.2175178527832,-41.71824264526367,-9.008511543273926,-30.636140823364258,22.88528060913086,-23.337486267089844,-27.824125289916992,-18.400976181030273,-58.06837463378906,27.178876876831055,-53.18450927734375,-9.844372749328613,-8.500875473022461,13.136961936950684,51.828739166259766,17.237552642822266,20.23029136657715,-29.115665435791016,37.3173942565918,29.06917381286621,26.07134437561035,13.689078330993652,31.629810333251953,24.869548797607422,43.35581588745117,-12.004222869873047,43.22471237182617,14.507320404052734,-0.9990464448928833,-22.14781951904297,-30.927217483520508,-45.575138092041016,-23.233182907104492,-29.036863327026367,34.2704963684082,21.06212615966797,-10.094466209411621,-8.846778869628906,-43.3354606628418,9.529692649841309,1.1560337543487549,28.617395401000977,17.74912452697754,-51.2166633605957,-5.26076602935791,-33.37081527709961,51.06427001953125,68.64889526367188,-9.321427345275879,20.607765197753906,9.09522819519043,-22.955324172973633,-5.239315032958984,-11.509278297424316,17.60645866394043,40.230831146240234,-4.185370445251465,15.401076316833496,-12.957537651062012,-59.77438735961914,-29.073366165161133,71.4580078125,-25.61111068725586,21.30211067199707,13.246688842773438,21.830894470214844,30.576261520385742,-51.35359191894531,43.18635559082031,-51.801517486572266,-50.27668762207031,-23.88159942626953,40.0196418762207,-0.11499474942684174,70.99899291992188,-2.1339876651763916,-50.112064361572266,-26.564849853515625,16.486373901367188,-45.313724517822266,-3.6227333545684814,11.29637622833252,-9.341632843017578,69.91962432861328,-59.28474807739258,25.01013946533203,-30.4667911529541,-3.958319902420044,-59.63432312011719,-32.43394470214844,12.752339363098145,-33.19704818725586,52.188961029052734,27.230850219726562,-25.47521209716797,-33.927032470703125,-51.46149444580078,21.570663452148438,-4.551287651062012,-0.37911856174468994,-43.22627258300781,33.26744079589844,52.01152038574219,38.485076904296875,-59.60105514526367,66.47492218017578,-26.296783447265625,-33.86561584472656,29.889902114868164,-31.972944259643555,-27.699121475219727,54.32017135620117,39.99309158325195,58.89247131347656,-35.76835632324219,56.30124282836914,-39.00265121459961,15.612969398498535,-32.87109375,-32.37673568725586,52.79078674316406,-48.968902587890625,8.128555297851562,-45.631587982177734,-31.86859703063965,-50.77541732788086,-8.993083000183105,29.406837463378906,20.657228469848633,38.568851470947266,27.825794219970703,23.89181137084961,-41.01535415649414,-20.43011474609375,25.627578735351562,-49.760581970214844,13.68282413482666,-38.992244720458984,-43.184139251708984,-45.577117919921875,-16.760021209716797,3.5130932331085205,-19.767183303833008,-32.4766731262207,-11.065861701965332,14.776317596435547,24.412076950073242,-30.363264083862305,56.41153335571289,-39.77119445800781,65.11721801757812,-48.35504150390625,-37.25084686279297,57.47526168823242,-36.71506118774414,27.549158096313477,-46.618621826171875,-8.4369535446167,29.964130401611328,-60.4862174987793,32.794525146484375,15.506621360778809,24.563154220581055,-14.512344360351562,-50.44108200073242,38.720054626464844,49.34605407714844,20.872486114501953,-50.18177032470703,-14.208377838134766,-56.83448791503906,42.73238754272461,-14.049590110778809,-31.41345977783203,-55.92486572265625,10.727474212646484,-14.674734115600586,-38.601566314697266,-48.524070739746094,65.8746337890625,-31.56984519958496,18.877899169921875,1.5945996046066284,-60.27461624145508,58.143882751464844,31.5616512298584,-38.465965270996094,-21.392133712768555,4.245094299316406,-31.569231033325195,22.442594528198242,-40.10310363769531,56.249183654785156,-3.9148972034454346,42.22895050048828,-48.078369140625,-47.642730712890625,40.12808609008789,28.35491180419922,-14.730513572692871,-25.940067291259766,26.157676696777344,54.92756271362305,-30.482484817504883,38.77524185180664,-7.65067720413208,31.80512046813965,38.10600280761719,8.208160400390625,-5.244074821472168,40.57624816894531,25.303199768066406,-4.215599060058594,-36.706146240234375,37.71775436401367,-41.580650329589844,-60.62132263183594,-2.9213168621063232,39.910430908203125,20.28326416015625,4.5734171867370605,-57.862152099609375,57.153926849365234,58.72761535644531,-50.2379264831543,31.855566024780273,-57.44765090942383,28.890972137451172,3.1503968238830566,-23.114465713500977,27.43094825744629,-3.327955722808838,6.739882469177246,-38.683780670166016,67.2588882446289,-27.545536041259766,-21.292797088623047,14.88527774810791,15.293325424194336,-25.121557235717773,-34.59407043457031,39.297733306884766,48.6182975769043,-36.89319610595703,-59.58892822265625,38.43442153930664,38.90914535522461,58.423030853271484,-57.85883712768555,9.649398803710938,0.23028787970542908,54.48337936401367,-12.545882225036621,-19.12261199951172,-49.95675277709961,-23.756319046020508,18.559812545776367,-53.17658996582031,13.466980934143066,22.254619598388672,26.75422477722168,-21.86566162109375,18.037147521972656,-0.20872752368450165,12.408368110656738,-17.431045532226562,-37.42420196533203,38.8167724609375,41.663612365722656,-46.535282135009766,59.413604736328125,-20.87367057800293,-5.651008605957031,-1.5967286825180054,59.86892318725586,-41.03019714355469,68.70153045654297,13.57645034790039,33.472557067871094,39.2213249206543,-15.277067184448242,-11.042755126953125,27.621448516845703,-25.067651748657227,-52.19282531738281,43.94609451293945,41.59672164916992,57.171329498291016,69.0010986328125,34.92649459838867,-8.912187576293945,21.356060028076172,39.39329528808594,-3.2336063385009766,19.820301055908203,70.48248291015625,-23.48838996887207,-20.080394744873047,-55.62592315673828,-21.188703536987305,-55.351070404052734,8.430745124816895,28.19774627685547,30.660390853881836,-30.273906707763672,14.147971153259277,-40.54585266113281,30.869226455688477,41.14964294433594,-45.89468002319336,11.858838081359863,22.81505584716797,39.47918701171875,-34.122657775878906,-39.722747802734375,33.12117004394531,-44.2237434387207,65.9495849609375,27.274219512939453,-52.22732925415039,-41.666839599609375,62.04597091674805,24.273841857910156,15.018973350524902,36.29769515991211,-40.1747932434082,-2.30159068107605,71.11404418945312,-33.45960998535156,54.9415168762207,-1.264974594116211,37.78904724121094,31.406414031982422,25.612764358520508,29.270423889160156,-10.52471923828125,-46.91653823852539,-43.57077407836914,20.820955276489258,-13.196418762207031,33.760318756103516,22.757461547851562,-4.931382179260254,-38.99943542480469,67.26366424560547,-53.09745407104492,22.770030975341797,5.713521480560303,-30.32868003845215,38.822052001953125,-30.436988830566406,-31.459001541137695,-46.67414474487305,17.60720443725586,15.68609619140625,-27.09444236755371,-32.18669128417969,38.17446517944336,26.750490188598633,15.693819046020508,43.66111755371094,38.5125732421875,55.50874710083008,-28.618879318237305,-42.49046325683594,-8.066557884216309,-49.032379150390625,-44.8755989074707,-42.99353790283203,39.88082504272461,-52.2895622253418,38.268470764160156,52.222835540771484,17.478565216064453,58.948978424072266,-51.442569732666016,59.01902770996094,-46.339698791503906,23.107402801513672,23.761444091796875,-14.616132736206055,58.35957717895508,-25.659809112548828,-61.407588958740234,40.78868865966797,23.73954200744629,-18.22458839416504,19.58111572265625,-61.00847625732422,-16.87796401977539,-32.84889602661133,-24.989715576171875,-1.5480098724365234,-47.426116943359375,-54.6170768737793,-52.57025909423828,-40.679222106933594,9.742507934570312,-33.024898529052734,57.97151184082031,-57.67240524291992,2.3032736778259277,-22.329357147216797,11.560462951660156,57.089969635009766,-38.36903381347656,-37.63326644897461,-46.063411712646484,29.79409408569336,26.644901275634766,-59.09794235229492,17.999006271362305,-35.4802131652832,-17.863798141479492,34.339012145996094,-1.2958171367645264,28.248687744140625,-44.76380157470703,-39.249977111816406,-40.45541000366211,28.089313507080078,42.89920425415039,-59.971187591552734,26.194812774658203,41.1493034362793,64.14463806152344,24.497690200805664,-49.97449493408203,-14.778775215148926,-22.141212463378906,-29.908592224121094,-45.35099411010742,28.525272369384766,-47.07182312011719,-34.282073974609375,64.86997985839844,16.226465225219727,-55.99583435058594,39.271766662597656,25.234853744506836,-58.3996696472168,20.962984085083008,0.3410932421684265,-57.5905876159668,30.79648780822754,59.773868560791016,25.76731300354004,5.688488006591797,63.76465606689453,30.04895782470703,-54.9272575378418,-36.977386474609375,12.969189643859863,2.5213568210601807,-32.75830078125,-9.312578201293945,68.91128540039062,15.140372276306152,-42.203285217285156,70.78897857666016,-3.819890022277832,-40.82783889770508,-33.22409439086914,-14.247077941894531,26.822938919067383,3.893397092819214,-26.37127113342285,62.52996063232422,42.9220085144043,19.457904815673828,-13.342218399047852,43.62847900390625,-35.11372756958008,-16.91875457763672,-26.357135772705078,-53.022705078125,12.69035816192627,17.806964874267578,29.134675979614258,42.7469482421875,61.608909606933594,-39.59425735473633,24.50246810913086,20.351839065551758,-56.59251022338867,-1.9913023710250854,-13.272921562194824,-4.544545650482178,-35.19027328491211,61.28497314453125,-20.79348373413086,-55.58518600463867,27.810869216918945,29.550662994384766,-56.69707107543945,2.756588935852051,67.57022094726562,-21.00400161743164,-49.379459381103516,-53.09516143798828,11.366691589355469,-11.716691017150879,12.052947998046875,39.193016052246094,-30.64619255065918,-42.90000915527344,-47.449371337890625,0.5402855277061462,21.916858673095703,19.25159454345703,25.008426666259766,61.84712219238281,71.91716003417969,30.927597045898438,-12.408291816711426,55.11785888671875,6.442981243133545,-37.48226547241211,-40.287261962890625,-9.902200698852539,-7.483926773071289,37.936946868896484,-56.886898040771484,-50.25535202026367,-2.8678946495056152,-39.256649017333984,16.76775550842285,-21.079172134399414,21.94675064086914,-30.99138832092285,5.775966644287109,26.037607192993164,51.77273178100586,-15.713133811950684,18.492277145385742,-32.52979278564453,41.299137115478516,7.424134731292725,42.36222839355469,35.272560119628906,-53.40239715576172,-26.410991668701172,-40.1170768737793,-60.23045349121094,-24.17853355407715,-54.7725830078125,22.98400115966797,-32.00697708129883,-2.5963211059570312,57.32647705078125,2.6560678482055664,-10.787874221801758,38.80876922607422,-23.357650756835938,-5.402068614959717,-17.82503318786621,14.744346618652344,0.25267156958580017,29.861146926879883,-54.064762115478516,-45.330902099609375,-1.1996735334396362,21.91830825805664,25.274999618530273,28.343713760375977,19.199777603149414,-30.176376342773438,38.28049087524414,-30.413267135620117,0.9212442636489868,6.648245334625244],\"xaxis\":\"x\",\"y\":[26.83420753479004,-17.65607261657715,-25.373821258544922,-9.865452766418457,-15.744805335998535,4.786112308502197,42.76399612426758,-31.03455352783203,4.844034194946289,-10.124811172485352,34.405975341796875,-11.499587059020996,34.26007080078125,-8.766700744628906,-10.073325157165527,-33.25676727294922,-11.46754264831543,4.561082363128662,-5.1904215812683105,-14.588983535766602,4.55933141708374,-15.977524757385254,-35.940673828125,-28.427749633789062,-24.310945510864258,-22.744850158691406,-24.108633041381836,-10.183853149414062,-20.670738220214844,-29.102684020996094,41.127159118652344,-10.762359619140625,-10.453588485717773,-12.938212394714355,35.84523391723633,-20.626161575317383,-11.48549747467041,-35.381221771240234,-30.288272857666016,-29.129636764526367,29.946229934692383,31.54072380065918,39.492488861083984,31.707626342773438,-2.363090991973877,-14.685232162475586,7.795088291168213,-5.278247833251953,37.561161041259766,-9.82302474975586,17.24542808532715,19.682069778442383,30.348634719848633,28.803218841552734,-30.188282012939453,-22.222412109375,-25.924253463745117,-21.79387664794922,-36.8745002746582,27.310562133789062,-30.494258880615234,9.866534233093262,18.798770904541016,-36.59946060180664,-28.382173538208008,-0.14698246121406555,-9.222502708435059,35.87471389770508,-6.747346878051758,13.325979232788086,-25.62098503112793,10.483189582824707,15.372883796691895,-9.600581169128418,35.581939697265625,36.482601165771484,22.109636306762695,7.635916233062744,24.72321128845215,-12.831233978271484,-3.921304941177368,-16.041059494018555,-33.879520416259766,-22.26317024230957,7.229029655456543,-23.027902603149414,18.672151565551758,-17.854778289794922,-12.461685180664062,16.845077514648438,15.405277252197266,-27.77138328552246,-12.673223495483398,-5.472750186920166,-31.398298263549805,4.0682573318481445,-33.58841323852539,7.751162528991699,-22.703617095947266,16.624065399169922,29.475854873657227,-10.257492065429688,-24.731800079345703,-14.671468734741211,12.97728443145752,-12.483729362487793,3.9829413890838623,17.979490280151367,-30.301355361938477,21.242351531982422,-16.82234764099121,-32.911895751953125,-5.641763687133789,-31.12439727783203,-9.15405559539795,-13.991471290588379,-28.104167938232422,-8.090070724487305,-28.85547637939453,-22.62433433532715,-11.53191089630127,-35.404640197753906,34.423519134521484,25.57993507385254,-11.186198234558105,-24.1171817779541,-27.002552032470703,23.844236373901367,-13.426892280578613,22.12874984741211,-30.253528594970703,31.305065155029297,25.93749237060547,13.322382926940918,-22.552642822265625,17.656661987304688,-9.515206336975098,18.260623931884766,34.868080139160156,-30.7923526763916,13.209195137023926,21.735919952392578,32.15836715698242,9.177791595458984,30.073123931884766,-30.769107818603516,-21.39267921447754,-29.15809440612793,-36.344825744628906,-28.6483211517334,-0.8666445016860962,-1.576292872428894,-25.89020347595215,-10.256364822387695,-6.291752815246582,20.373769760131836,2.844879627227783,10.174652099609375,10.753108978271484,36.43246078491211,-21.881383895874023,-31.711864471435547,36.385597229003906,26.21146583557129,12.609131813049316,6.010464191436768,-18.85159683227539,-6.5852532386779785,-28.141210556030273,9.828697204589844,-30.281269073486328,26.960126876831055,8.305542945861816,12.621026039123535,-35.711063385009766,-15.018044471740723,-22.262928009033203,5.5580267906188965,-6.284160614013672,11.351436614990234,-30.018312454223633,-5.271756649017334,-24.64729118347168,26.055742263793945,18.348987579345703,-17.72498893737793,11.234585762023926,-9.404862403869629,33.67133331298828,-8.553388595581055,17.076200485229492,10.729487419128418,46.57097244262695,26.901512145996094,-38.514732360839844,14.11658000946045,0.1499992460012436,-31.971221923828125,33.35517120361328,23.141000747680664,-3.753225803375244,-33.29118728637695,-3.8644096851348877,28.022705078125,-14.934326171875,0.79185551404953,-10.388750076293945,-33.5809440612793,-23.605371475219727,12.488434791564941,33.85137176513672,-11.008819580078125,-35.23754119873047,22.227733612060547,-23.895000457763672,-30.505508422851562,8.091075897216797,-28.75859260559082,-22.28805923461914,-33.31430435180664,-26.732580184936523,2.61822772026062,-29.997602462768555,4.132312774658203,25.25786018371582,-20.46409797668457,-9.14989948272705,-6.729004859924316,-34.42580795288086,1.6363345384597778,-36.1150016784668,1.2253392934799194,32.59626770019531,29.663076400756836,30.680545806884766,-30.520309448242188,31.883146286010742,44.06049728393555,-32.631473541259766,-4.344900608062744,19.353099822998047,20.488094329833984,-35.404884338378906,35.0986213684082,-5.690321922302246,24.868797302246094,41.45249557495117,28.71077537536621,-27.076679229736328,39.65929412841797,26.493873596191406,-26.39274024963379,-11.765951156616211,-33.80717849731445,-10.320902824401855,19.69841194152832,10.357376098632812,-11.73270320892334,41.452850341796875,-30.878833770751953,17.532684326171875,26.393280029296875,-4.150269508361816,-27.887117385864258,-9.343058586120605,-11.9901762008667,36.40110397338867,-9.005626678466797,-0.055912766605615616,-28.17359161376953,9.164000511169434,34.04928970336914,1.0494160652160645,30.78307342529297,3.3810157775878906,35.245479583740234,-32.65573501586914,-6.997334957122803,22.622108459472656,-4.7192702293396,-10.385026931762695,14.245551109313965,23.174833297729492,12.25174331665039,5.773070335388184,28.795612335205078,-19.160966873168945,-28.975099563598633,-16.85140037536621,-17.012571334838867,-15.42430305480957,34.48871612548828,30.897592544555664,-4.1855902671813965,32.557369232177734,10.718868255615234,-15.41910457611084,18.958660125732422,0.16806982457637787,-5.154480457305908,28.733375549316406,26.946239471435547,-8.522313117980957,18.348848342895508,-10.453460693359375,24.049814224243164,-33.986751556396484,-1.014431118965149,-36.18501663208008,35.238094329833984,-0.2091943919658661,26.549219131469727,14.333044052124023,24.68979835510254,-27.378480911254883,34.31637954711914,38.99968338012695,39.82172393798828,34.86357116699219,-30.5844669342041,-12.072225570678711,31.994157791137695,-12.421603202819824,30.395729064941406,11.376701354980469,-37.712039947509766,-6.336921215057373,-6.524652004241943,-13.458395957946777,-21.786575317382812,42.22919845581055,-36.177024841308594,-34.632484436035156,-35.854347229003906,-20.758607864379883,9.634142875671387,-33.6052360534668,6.382899761199951,-10.86166763305664,-1.64234459400177,16.819284439086914,-27.175600051879883,-13.587188720703125,-29.850425720214844,27.467668533325195,-31.178974151611328,30.74962043762207,6.928073406219482,36.227115631103516,-14.485610961914062,34.4184455871582,-29.569181442260742,-28.98747444152832,-10.925125122070312,16.358211517333984,24.30756378173828,13.451827049255371,30.722576141357422,30.727039337158203,33.74494171142578,-27.01782989501953,27.37163543701172,18.66054916381836,-3.6846046447753906,-14.70886516571045,2.3928613662719727,11.580794334411621,32.70245361328125,28.739965438842773,33.73025894165039,-0.975979745388031,38.7878532409668,13.23997688293457,19.693683624267578,-32.07347106933594,-9.004162788391113,-5.586483001708984,37.94528579711914,-29.42302703857422,-13.134695053100586,39.30167770385742,-6.632848739624023,-9.072366714477539,-33.66473388671875,1.527229905128479,-2.213566303253174,-22.22760581970215,-23.943634033203125,10.594550132751465,-27.39735221862793,-9.766380310058594,-29.8509521484375,-8.97251033782959,-23.816102981567383,-30.029600143432617,-5.490261077880859,42.61007308959961,12.109354019165039,9.697959899902344,-33.64655685424805,-23.935894012451172,-30.26318359375,-27.553281784057617,-31.60495948791504,26.213584899902344,32.174072265625,30.419322967529297,0.48086315393447876,-12.224581718444824,-12.297113418579102,-24.339292526245117,-34.69094467163086,-12.472515106201172,-29.216766357421875,-11.365837097167969,-31.05105209350586,2.515371322631836,-33.425262451171875,9.256129264831543,-9.123759269714355,31.697227478027344,-27.660808563232422,28.737934112548828,25.272401809692383,3.1431236267089844,-8.993154525756836,15.380143165588379,5.126526832580566,1.7407914400100708,-12.22058391571045,19.087268829345703,19.7061710357666,-5.393218994140625,3.288419008255005,10.193885803222656,-9.248473167419434,4.788417816162109,-17.33658790588379,1.0236996412277222,12.34805679321289,43.4691162109375,-0.2163614183664322,-25.175302505493164,17.601694107055664,41.666847229003906,-23.14112663269043,0.5092369318008423,30.829837799072266,19.599546432495117,-2.7197415828704834,1.1921544075012207,8.964104652404785,-35.080379486083984,28.65578269958496,29.276409149169922,-6.697937965393066,27.187820434570312,21.944948196411133,31.328401565551758,35.41761779785156,3.3663289546966553,31.733211517333984,20.61347770690918,21.04818344116211,-14.844905853271484,12.889780044555664,22.650848388671875,29.90095329284668,-14.047544479370117,26.16400909423828,11.251387596130371,-28.77312660217285,-28.23639678955078,-23.3421688079834,2.1522104740142822,39.49617385864258,2.4630792140960693,-29.241619110107422,-2.7068564891815186,22.97577476501465,-35.42936325073242,-29.817880630493164,8.16158676147461,40.1393928527832,-7.64438009262085,34.057857513427734,-25.306297302246094,41.41237258911133,-27.68523597717285,-4.87418794631958,-11.361217498779297,23.792236328125,6.246021270751953,30.080032348632812,3.5777461528778076,-12.3825101852417,3.5096986293792725,5.554250240325928,11.130030632019043,-11.944836616516113,12.140978813171387,-29.130287170410156,13.08268928527832,27.456497192382812,-27.648523330688477,12.524653434753418,7.780957221984863,-33.064002990722656,9.906288146972656,-12.608091354370117,8.294631004333496,-24.37468719482422,19.584392547607422,-31.365297317504883,-0.9785483479499817,-8.670845985412598,0.24636004865169525,14.444982528686523,-17.05128288269043,-14.374245643615723,6.373331546783447,-29.458162307739258,2.5513343811035156,-23.4688663482666,-8.710295677185059,4.433383941650391,-9.241732597351074,23.700763702392578,34.91809844970703,-10.364141464233398,-23.362619400024414,-14.63886547088623,-4.569147109985352,-24.869831085205078,-26.132131576538086,4.078719615936279,42.6302604675293,18.541383743286133,-24.220239639282227,-22.55596160888672,33.5882682800293,-4.78605318069458,-10.265410423278809,-23.235685348510742,26.218162536621094,-33.57889938354492,13.249244689941406,23.549583435058594,-33.02974319458008,-28.22902488708496,11.372794151306152,26.917512893676758,0.9607031345367432,38.23139953613281,22.33621597290039,39.8731575012207,-24.79511833190918,16.100400924682617,-1.3953207731246948,9.86987590789795,7.389939308166504,-23.034706115722656,-32.04192352294922,-30.966222763061523,-26.96414566040039,11.630489349365234,1.7123583555221558,-23.003868103027344,-22.41094398498535,23.970643997192383,-14.152533531188965,20.230772018432617,19.13892936706543,8.35790729522705,-5.11410665512085,-28.146202087402344,-29.289024353027344,40.866920471191406,36.691673278808594,20.437347412109375,9.920248985290527,34.58165740966797,-33.87654495239258,-31.36470603942871,-33.633277893066406,17.14415740966797,-35.62956619262695,10.975173950195312,-29.483057022094727,-10.792291641235352,-28.91944122314453,-30.815372467041016,-24.250770568847656,41.029457092285156,26.842927932739258,19.563831329345703,-21.071372985839844,29.26461410522461,34.035789489746094,-27.528730392456055,-9.191819190979004,-0.057815901935100555,12.45766830444336,32.10536193847656,-5.77496862411499,29.555856704711914,-11.200191497802734,-35.63728713989258,-10.421051025390625,2.1719725131988525,-8.324098587036133,41.11551284790039,-24.95072364807129,-30.067506790161133,11.202544212341309,-28.295045852661133,-8.160886764526367,-28.470184326171875,33.91291427612305,26.659618377685547,0.6811214685440063,39.32037353515625,17.396299362182617,26.670801162719727,45.71394729614258,40.106876373291016,-19.914833068847656,6.609142780303955,-34.26836013793945,32.19019317626953,14.652613639831543,7.584050178527832,-26.164745330810547,10.960881233215332,28.99406623840332,-2.906381368637085,26.34980583190918,24.165796279907227,41.167945861816406,12.682568550109863,41.789920806884766,18.610843658447266,-22.79918670654297,-25.19631004333496,0.2657690942287445,11.125019073486328,31.76287078857422,37.06237030029297,9.634106636047363,4.1889777183532715,2.8943045139312744,7.014583587646484,4.39584493637085,-26.85256004333496,-2.3104019165039062,21.393375396728516,-0.45604097843170166,42.53397750854492,-30.546077728271484,-6.161940574645996,4.604001045227051,6.1169610023498535,-16.355384826660156,26.823055267333984,-15.013618469238281,39.52393341064453,-12.088052749633789,-25.251523971557617,22.427440643310547,-33.375938415527344,35.05213928222656,8.61706256866455,26.856454849243164,16.726106643676758,-2.43493914604187,-38.0286750793457,-33.86958694458008,-3.988927125930786,-26.53879165649414,-30.083293914794922,-31.72051239013672,27.92473602294922,2.279998540878296,-28.25440788269043,-10.53837776184082,3.802870988845825,-23.30942153930664,-26.333984375,39.90970230102539,26.78845977783203,-29.250375747680664,11.732312202453613,29.419803619384766,5.894598484039307,24.130062103271484,-35.74510192871094,-32.45568084716797,38.79911804199219,-23.80747413635254,-25.324453353881836,-28.985811233520508,11.638293266296387,-34.80655288696289,7.9877610206604,27.200435638427734,0.41767632961273193,-27.90198516845703,-30.726028442382812,36.23062515258789,-11.415624618530273,-31.124589920043945,4.621175765991211,-11.2540922164917,-7.979832649230957,38.02391815185547,3.7945518493652344,-13.549715042114258,28.533178329467773,29.374666213989258,-11.803384780883789,-6.080994129180908,1.640162706375122,-19.584060668945312,11.13289737701416,39.249332427978516,24.743738174438477,-6.803979873657227,-7.579370021820068,20.150577545166016,-21.794315338134766,-36.50685501098633,-13.354660034179688,6.783551216125488,-30.172332763671875,-16.99722671508789,-10.486435890197754,-22.281814575195312,11.784575462341309,30.929180145263672,-1.3078750371932983,-31.795671463012695,13.813777923583984,7.261508941650391,-32.1014518737793,-9.540677070617676,-33.020992279052734,5.836273193359375,-21.782758712768555,16.56958770751953,22.01894760131836,-6.259554386138916,18.440954208374023,-5.301149368286133,20.857898712158203,39.20828628540039,-28.58882713317871,-11.62763500213623,17.901559829711914,5.885226249694824,-33.672245025634766,-34.546634674072266,-23.70735740661621,10.28382396697998,-35.73349380493164,4.412813663482666,4.641575336456299,28.51097297668457,25.73005485534668,10.951364517211914,-26.438703536987305,31.148969650268555,-23.144487380981445,29.721269607543945,29.00847053527832,-16.271900177001953,-5.124261379241943,-32.29037094116211,-29.787776947021484,4.1297197341918945,-18.347476959228516,30.403793334960938,18.583450317382812,8.043598175048828,-34.274227142333984,27.02039909362793,4.2104620933532715,-7.360032081604004,-8.788642883300781,-12.620896339416504,30.197494506835938,17.463417053222656,-20.46990966796875,-35.64480209350586,40.03646469116211,30.738372802734375,14.205464363098145,28.704723358154297,39.405338287353516,-3.954509735107422,36.190975189208984,17.14323616027832,7.02931022644043,22.07806968688965,-29.78303337097168,-29.745647430419922,43.27894973754883,37.88980484008789,41.49220657348633,43.5534553527832,1.1067744493484497,4.437129497528076,-28.261981964111328,11.204899787902832,17.430896759033203,35.30615997314453,-16.35378074645996,-26.322866439819336,15.727993965148926,23.68979835510254,5.267786502838135,35.92050552368164,11.804046630859375,-32.679203033447266,3.0776493549346924,-26.164941787719727,-27.69451141357422,39.04920959472656,-28.47610855102539,-26.68062973022461,36.506874084472656,-27.25238037109375,30.68616485595703,31.238697052001953,14.608357429504395,12.592514991760254,5.013221740722656,-12.991782188415527,3.835848093032837,-11.009135246276855,32.844356536865234,36.801109313964844,-9.810700416564941,-11.022994995117188,-30.472288131713867,-34.301753997802734,-17.10228157043457,-3.4321279525756836,-12.685606956481934,-5.004796504974365,-12.447249412536621,32.953269958496094,-24.044038772583008,-3.3358912467956543,-22.84358787536621,-11.27202320098877,-24.855575561523438,-33.80413818359375,43.522666931152344,-25.281265258789062,-5.877527236938477,-27.256574630737305,-30.274030685424805,41.40637969970703,8.391532897949219,-33.96305847167969,-13.882353782653809,25.046276092529297,-1.1214776039123535,-23.55260467529297,-8.38824462890625,-12.505617141723633,-9.181070327758789,-13.694314002990723,-9.41633129119873,4.29921817779541,11.69638729095459,-29.681964874267578,-35.9737548828125,38.94654083251953,42.36983871459961,-29.140024185180664,-19.31041717529297,8.429551124572754,-17.097759246826172,11.1469087600708,10.502787590026855,-30.921098709106445,29.13319206237793,8.442102432250977,-34.36750030517578,3.537445068359375,24.6634521484375,-28.957063674926758,-13.80866813659668,38.21012496948242,14.22298526763916,-33.270748138427734,5.362922668457031,26.796554565429688,39.2349967956543,39.667301177978516,22.268512725830078,-11.641639709472656,8.583939552307129,40.247928619384766,-12.867986679077148,33.99649429321289,5.463602542877197,-11.449531555175781,42.541534423828125,-0.8611319065093994,-33.49726486206055,-30.928691864013672,12.870906829833984,-13.246092796325684,-28.18553924560547,25.973163604736328,-7.808555603027344,19.828081130981445,2.94071364402771,-4.321316719055176,-16.17359733581543,7.83518648147583,-29.064516067504883,23.325727462768555,-12.811427116394043,-11.852790832519531,42.45479202270508,3.153204917907715,-14.212002754211426,-35.82233810424805,-10.599011421203613,-17.118772506713867,-0.15846145153045654,-35.546844482421875,-12.117789268493652,-10.410825729370117,-23.4155330657959,36.90702819824219,2.346791982650757,-3.0891427993774414,5.231595993041992,-20.016220092773438,-28.209943771362305,-8.041874885559082,-23.431684494018555,-30.569955825805664,12.834851264953613,-21.70675277709961,-24.291017532348633,-11.392433166503906,40.703609466552734,28.777299880981445,14.29404354095459,32.235015869140625,-35.716339111328125,-24.59646987915039,-16.019683837890625,30.793367385864258,-23.248685836791992,12.574579238891602,23.600788116455078,1.573817253112793,42.04302978515625,-22.280691146850586,11.068285942077637,13.529239654541016,-30.052114486694336,-37.06692886352539,2.6262145042419434,4.171050071716309,-30.758005142211914,-14.628180503845215,-10.300106048583984,-25.513181686401367,-34.47104263305664,-23.53534507751465,-22.648916244506836,12.963430404663086,-9.447450637817383,34.81438064575195,-23.58286476135254,26.193706512451172,-9.892788887023926,15.12603759765625,27.278549194335938,-12.89996337890625,31.534887313842773,-3.6330041885375977,14.419732093811035,8.681412696838379,38.25850296020508,-16.707014083862305,-23.044343948364258,37.738372802734375,17.358503341674805,-10.074995994567871,-4.692325115203857,-1.058898687362671,-6.441195011138916,-25.23744773864746,34.953861236572266,-34.55717849731445,-20.607379913330078,-24.183767318725586,34.170501708984375,-36.35902786254883,19.828277587890625,-32.29347610473633,-20.921613693237305,20.707275390625,-7.193305492401123,41.903141021728516,-29.656963348388672,39.842315673828125,29.42593765258789,0.255388081073761,43.68790054321289,35.2880744934082,-25.11266326904297,-17.2805118560791,-25.7617244720459,-24.813987731933594,-23.315427780151367,17.921112060546875,20.012828826904297,-15.038660049438477,3.351214647293091,24.74262809753418,30.40419578552246,41.79948425292969,-21.409629821777344,-15.471921920776367,-33.798500061035156,-13.455048561096191,24.17345428466797,29.357666015625,38.809356689453125,15.953984260559082,-25.450695037841797,12.888137817382812,42.16404724121094,-14.17632007598877,-1.9007188081741333,-10.404659271240234,-30.789894104003906,33.35443115234375,-32.93639373779297,-6.785895824432373,-13.173216819763184,43.957191467285156,33.278011322021484,3.7104315757751465,-19.446481704711914,-23.52159881591797,12.716147422790527,37.34976577758789,32.08087158203125,2.7656607627868652,-25.28887176513672,-22.565597534179688,-3.280003309249878,-22.26961326599121,-28.583024978637695,-1.5757911205291748,-33.07404327392578,12.445231437683105,-34.561668395996094,-10.043692588806152,19.040424346923828,34.53662872314453,1.181485891342163,-22.294414520263672,-9.230342864990234,-13.66168212890625,-16.084823608398438,34.642398834228516,39.43975830078125,35.32283401489258,45.993858337402344,-24.586585998535156,-25.10601043701172,27.569841384887695,-30.74273109436035,-10.320243835449219,4.175243854522705,42.597408294677734,-7.4112749099731445,30.285572052001953,36.02854537963867,23.32714080810547,12.997296333312988,-18.5885066986084,-27.2634220123291,20.128416061401367,32.868896484375,-28.41320037841797,-3.792729139328003,29.74995994567871,-10.849048614501953,-20.139842987060547,-23.699880599975586,-4.613908767700195,-33.70244216918945,-11.117350578308105,27.037904739379883,-19.235952377319336,-10.021614074707031,-12.103114128112793,-1.0317108631134033,21.90042495727539,-7.8311686515808105,-8.147403717041016,-24.630094528198242,17.452486038208008,22.82552719116211,22.144798278808594,-16.648557662963867,1.4951707124710083,13.725837707519531,13.051438331604004,-22.42329978942871,-35.28984451293945,31.875125885009766,-17.1859188079834,-11.005247116088867,26.113725662231445,28.356996536254883,6.496672630310059,-12.038763046264648,-19.187204360961914,-36.633453369140625,11.59911060333252,-2.092958927154541,-33.51734161376953,39.760257720947266,-10.388184547424316,20.385530471801758,-14.630232810974121,-27.989194869995117,-35.341182708740234,32.68247985839844,4.554403305053711,34.9970817565918,-17.157485961914062,13.92879581451416,-15.218354225158691,24.795072555541992,-30.117570877075195,-25.51186752319336,-26.136445999145508,-26.950092315673828,-22.537538528442383,-36.27425765991211,-25.60682487487793,3.590972661972046,28.159921646118164,-29.873281478881836,-32.91470718383789,-33.162052154541016,-36.28334426879883,25.701581954956055,24.707141876220703,-22.052038192749023,39.87368392944336,17.5794677734375,1.0199154615402222,41.87446594238281,-14.79891586303711,11.740967750549316,-6.109585762023926,-17.801298141479492,-28.473590850830078,-14.764084815979004,-5.690179347991943,-8.348981857299805,-25.484243392944336,5.108174800872803,-1.7870523929595947,19.87981414794922,6.220447063446045,-27.61748695373535,32.723453521728516,-14.26608943939209,29.659616470336914,-14.241456985473633,29.632780075073242,7.14843225479126,18.20227813720703,-8.917901992797852,-31.55204963684082,-29.063745498657227,2.410759925842285,33.863101959228516,1.0309836864471436,40.36428451538086,28.99888801574707,11.757180213928223,41.54193878173828,12.52641773223877,-30.477317810058594,-22.39044189453125,-0.5557613372802734,10.788511276245117,-36.518531799316406,-1.7369531393051147,37.76374435424805,-22.0889949798584,-22.15481185913086,11.38892650604248,-6.10403299331665,-26.149967193603516,-22.867725372314453,33.1788330078125,-31.18350601196289,4.570102691650391,-12.728224754333496,-20.30569076538086,-30.0825252532959,41.06880569458008,34.74707794189453,-27.837814331054688,-28.238889694213867,31.222400665283203,30.066349029541016,1.9263283014297485,31.98806381225586,24.501209259033203,23.22284698486328,-30.821420669555664,28.744300842285156,40.78382873535156,-13.422539710998535,-6.781412601470947,-28.21831512451172,-31.358896255493164,1.3386588096618652,-34.5435791015625,34.0445671081543,-32.64005661010742,-6.527353286743164,-29.84807014465332,7.042052745819092,34.13705062866211,6.874439239501953,-3.7476086616516113,-35.87852096557617,9.30403995513916,28.403392791748047,-22.606870651245117,-31.1602783203125,-24.225177764892578,-24.0032958984375,-22.346101760864258,-27.5291690826416,-14.406758308410645,-30.44381332397461,32.39384078979492,0.965472400188446,-30.677623748779297,-23.158395767211914,34.088191986083984,8.159662246704102,28.987340927124023,-13.427490234375,-10.273541450500488,16.058269500732422,30.626256942749023,39.94915008544922,-31.92607307434082,24.06893539428711,21.568721771240234,-8.216792106628418,42.49918746948242,-10.364741325378418,-9.477161407470703,13.233146667480469,-31.271820068359375,-22.483551025390625,2.8308541774749756,15.326601028442383,27.43045997619629,22.32540512084961,7.585809707641602,-10.428272247314453,-34.29640197753906,-30.59079360961914,25.78433609008789,16.77447509765625,4.088890552520752,-12.065546035766602,-31.906984329223633,13.322409629821777,20.699424743652344,-6.630321502685547,-23.049501419067383,30.29962921142578,-14.733699798583984,-36.23725128173828,-13.225855827331543,-1.939958930015564,-8.514609336853027,-8.239899635314941,6.4768853187561035,5.559152126312256,18.743223190307617,-33.73619842529297,-27.266530990600586,-14.270371437072754,13.966591835021973,-0.016315387561917305,-13.850634574890137,22.756088256835938,26.99925422668457,5.629437446594238,-11.479150772094727,29.39590835571289,-10.274834632873535,-19.0523624420166,-25.103267669677734,-17.62220001220703,22.674894332885742,-33.80293655395508,28.60500717163086,-36.99818420410156,37.57032012939453,-28.991235733032227,23.63162612915039,28.684246063232422,6.476982116699219,-27.379732131958008,4.88885498046875,-32.57167053222656,9.25342082977295,40.53075408935547,33.10131072998047,-16.407482147216797,-34.657527923583984,-4.3359503746032715,29.497241973876953,-12.391668319702148,-34.17706298828125,-28.264142990112305,-26.123876571655273,-34.37041091918945,31.083391189575195,33.68722915649414,12.561094284057617,-26.224538803100586,-10.064438819885254,-11.991735458374023,12.765266418457031,-4.281085014343262,-26.3858585357666,10.240998268127441,-13.098993301391602,-6.478679180145264,-11.714947700500488,-8.737940788269043,-26.012651443481445,22.855815887451172,32.57399368286133,12.593618392944336,22.1798095703125,-17.147186279296875,-23.61410140991211,32.8709716796875,-29.70249366760254,5.709235668182373,-7.491016387939453,37.411434173583984,-31.09784507751465,0.8872167468070984,-11.289441108703613,22.872236251831055,-29.904151916503906,10.25597858428955,-21.655569076538086,-23.618106842041016,12.679588317871094,-33.527137756347656,0.22038650512695312,-25.858501434326172,5.4185404777526855,-15.219908714294434,13.882596015930176,-6.345124244689941,-23.867948532104492,23.66026496887207,-20.891408920288086,10.652193069458008,33.63788986206055,35.85052490234375,24.736675262451172,0.6795015335083008,-1.3496291637420654,23.117389678955078,-23.233407974243164,33.32054138183594,15.118400573730469,10.312077522277832,-31.78371238708496,-10.191633224487305,3.8046875,-23.307579040527344,-9.241539001464844,-23.492799758911133,21.258197784423828,-23.765968322753906,27.671449661254883,38.32949447631836,19.922983169555664,39.35726547241211,-28.685861587524414,-20.815954208374023,-11.941167831420898,43.65517807006836,27.138486862182617,-2.5417771339416504,-36.28353500366211,-12.297125816345215,10.824295997619629,1.3592159748077393,-9.635795593261719,22.40165901184082,-33.373382568359375,-24.6589412689209,-8.191559791564941,-2.8145875930786133,-20.525468826293945,29.281003952026367,36.08525848388672,-12.613120079040527,2.6439778804779053,-31.476459503173828,28.675806045532227,25.637800216674805,37.48817443847656,9.325636863708496,-7.822239398956299,41.752567291259766,26.888507843017578,-30.329822540283203,27.128149032592773,-22.38571548461914,-38.09602355957031,28.75821304321289,8.957390785217285,-31.192276000976562,-14.04241943359375,33.6063232421875,5.503949165344238,16.733625411987305,17.907917022705078,-5.824772357940674,-23.568727493286133,39.045387268066406,-12.214513778686523,2.9859650135040283,11.217107772827148,27.273853302001953,-31.90208625793457,-19.641399383544922,5.156457901000977,23.494979858398438,-26.659881591796875,27.093599319458008,6.639886379241943,2.7116341590881348,-22.707096099853516,-24.035724639892578,31.548870086669922,25.486303329467773,24.512466430664062,-0.7734615802764893,-35.237510681152344,16.59164047241211,-23.00922203063965,-24.181224822998047,-30.000425338745117,17.58793830871582,21.978153228759766,-18.768627166748047,-23.466039657592773,24.856191635131836,-9.160196304321289,36.25334167480469,-15.19989013671875,-35.837947845458984,-9.91988754272461,17.7353572845459,27.967300415039062,-25.793581008911133,30.28663444519043,-13.38433837890625,17.79055404663086,-22.775144577026367,30.36213493347168,-27.917673110961914,41.16714859008789,12.849197387695312,4.575076103210449,33.473751068115234,-26.326156616210938,-30.469675064086914,30.26055335998535,-34.59275436401367,34.5107307434082,-24.644277572631836,41.02092361450195,-15.85053539276123,-30.386680603027344,26.82438087463379,-21.779129028320312,29.30819320678711,-18.846033096313477,-34.2800407409668,27.634584426879883,-30.853431701660156,-7.167533874511719,24.298748016357422,6.569476127624512,-30.835145950317383,-26.657331466674805,19.66197967529297,-29.236984252929688,-4.773725986480713,30.488866806030273,-22.290666580200195,-5.576704502105713,32.69986343383789,-32.3623161315918,7.542895793914795,12.67719841003418,5.849398612976074,27.53850555419922,-6.657057762145996,41.84124755859375,-30.988527297973633,-1.911874532699585,21.178998947143555,33.08049774169922,0.9934135675430298,-17.510509490966797,-12.373824119567871,17.436307907104492,-8.86703872680664,-21.949825286865234,7.103114604949951,-28.625455856323242,-33.19707107543945,-34.11123275756836,39.230560302734375,0.5456134080886841,-10.332977294921875,12.697683334350586,1.2139298915863037,44.15580368041992,1.7887440919876099,-22.611833572387695,8.937309265136719,-32.938358306884766,29.93891716003418,27.61467170715332,31.704782485961914,3.437053680419922,29.754783630371094,-10.478775024414062,6.203029632568359,12.220497131347656,-22.607383728027344,22.32192039489746,15.110638618469238,10.022744178771973,4.699172019958496,25.019245147705078,13.62710952758789,-8.589780807495117,31.81461524963379,-0.7509927153587341,-17.067888259887695,-23.388778686523438,-19.805335998535156,-1.4100944995880127,-16.801679611206055,-32.37689971923828,-9.44178581237793,22.283220291137695,0.26617956161499023,-30.580585479736328,22.021448135375977,35.49613571166992,-23.87036895751953,9.510811805725098,19.671321868896484,-30.597169876098633,26.7335205078125,3.150493860244751,3.62595534324646,34.34189224243164,-4.158557891845703,30.44379997253418,-7.243352890014648,-26.195390701293945,7.953512668609619,5.1235833168029785,22.076602935791016,-11.860941886901855,-6.2937140464782715,18.192609786987305,-27.256027221679688,2.6306779384613037,-9.017477989196777,-35.2798957824707,28.061960220336914,10.629777908325195,-0.5168566107749939,1.3055059909820557,27.41291618347168,-13.95300006866455,28.596200942993164,7.165661334991455,-27.08378791809082,-14.263777732849121,39.739479064941406,-28.989402770996094,-11.579360961914062,-5.942309379577637,28.62334632873535,13.141291618347168,6.420121669769287,-31.004798889160156,-17.848814010620117,-6.027510166168213,25.244197845458984,-22.968002319335938,18.681516647338867,-4.332494735717773,19.349782943725586,14.615219116210938,25.519851684570312,16.110767364501953,13.726672172546387,3.029543399810791,26.009132385253906,34.44844436645508,-15.52949047088623,29.00898551940918,-11.407764434814453,-32.41972351074219,17.644794464111328,-26.318031311035156,-2.991006374359131,27.988588333129883,42.538795471191406,8.870479583740234,42.137569427490234,-28.422121047973633,-9.443692207336426,-18.551471710205078,-21.868806838989258,16.167434692382812,-29.12836265563965,28.61197280883789,-15.886040687561035,5.172820568084717,-28.995750427246094,-22.73552703857422,15.354464530944824,-21.863037109375,34.82988739013672,40.71834182739258,12.870641708374023,33.10045623779297,41.284175872802734,-25.365215301513672,1.8142154216766357,-22.6237735748291,5.113759994506836,37.25838088989258,32.309715270996094,5.433873176574707,11.86097526550293,-25.72095489501953,7.159404277801514,-32.63503646850586,27.899749755859375,-19.41544532775879,-21.267602920532227,10.927877426147461,25.196128845214844,-10.969026565551758,-4.137148380279541,1.7541385889053345,-23.550216674804688,-16.652544021606445,-3.2209126949310303,11.545894622802734,-26.105722427368164,10.647915840148926,24.34154510498047,-7.044212341308594,-10.071928024291992,21.309036254882812,10.977044105529785,9.683758735656738,-15.771316528320312,-10.581908226013184,-16.0473690032959,32.311973571777344,15.686368942260742,6.080096244812012,-26.07260513305664,-31.367141723632812,-32.92303466796875,-15.622310638427734,10.160257339477539,-21.65431785583496,-3.5101799964904785,-16.635103225708008,-17.554141998291016,-14.968673706054688,33.46925354003906,24.097450256347656,-22.073774337768555,3.9442412853240967,-3.797954559326172,6.902669429779053,-29.418853759765625,-3.502239942550659,-7.946308612823486,20.331531524658203,-8.122220993041992,-6.212032794952393,-21.912738800048828,-23.507116317749023,-12.467243194580078,-34.16785430908203,-30.345970153808594,-7.810517311096191,-10.30592155456543,-9.177268981933594,13.243629455566406,-37.49599838256836,-17.494539260864258,-31.12283706665039,-28.84966468811035,23.25545883178711,17.632457733154297,-9.706402778625488,12.739235877990723,-18.38477897644043,-33.364967346191406,-6.815129280090332,-26.25102424621582,6.680837631225586,-19.126394271850586,26.109012603759766,-24.480728149414062,12.515738487243652,-35.483001708984375,-9.210235595703125,14.389470100402832,-8.748822212219238,-7.456841945648193,-26.572525024414062,43.766319274902344,-4.999520301818848,-5.7006402015686035,-27.361507415771484,-26.527578353881836,34.19789123535156,-28.873933792114258,-22.27208137512207,41.544559478759766,16.566808700561523,20.045791625976562,-28.143909454345703,-14.002537727355957,-8.456454277038574,6.038227558135986,19.915782928466797,-35.0197639465332,-11.279547691345215,-34.23924255371094,41.08755874633789,-22.72199821472168,10.409476280212402,-30.320514678955078,-21.407352447509766,15.016571044921875,-12.248934745788574,-30.24529266357422,17.090673446655273,26.8579044342041,33.106361389160156,-23.247228622436523,5.387971878051758,-9.551685333251953,39.70182418823242,11.091383934020996,-23.256723403930664,11.347075462341309,9.585558891296387,7.557196617126465,-8.653594970703125,-2.3644495010375977,10.529230117797852,-3.2327728271484375,-3.2013401985168457,21.96467399597168,35.37907028198242,1.677439570426941,31.661813735961914,-28.374155044555664,27.076984405517578,40.790199279785156,-29.789358139038086,19.669235229492188,-21.766271591186523,-26.391294479370117,-24.402976989746094,-28.307649612426758,1.0392916202545166,2.023056983947754,33.61771011352539,-34.700260162353516,-29.632532119750977,-11.155143737792969,-21.305652618408203,-13.509956359863281,15.129837989807129,-6.718567848205566,-32.36758804321289,-34.63700485229492,-11.859857559204102,5.7580180168151855,8.721736907958984,-23.80587387084961,-21.028621673583984,-20.62568473815918,-31.06812858581543,3.4722483158111572,-9.653984069824219,43.60747528076172,-34.263492584228516,-28.16305160522461,9.912649154663086,-25.76430892944336,-10.896388053894043,-16.99765968322754,4.645640850067139,-7.255292892456055,-10.063735961914062,3.180715799331665,37.52833938598633,6.08056640625,5.937082767486572,13.856243133544922,-32.41383361816406,-9.230456352233887,27.8361873626709,-8.9056978225708,5.680525779724121,-30.590557098388672,5.690999984741211,-34.72123336791992,10.185331344604492,35.61556625366211,-10.894078254699707,-2.0923635959625244,-25.89628791809082,-22.659107208251953,-11.404131889343262,-6.52293062210083,-9.940266609191895,-20.444303512573242,-25.779129028320312,23.92759895324707,2.9701457023620605,35.563018798828125,42.76287841796875,-27.265098571777344,29.32577133178711,42.89472198486328,-6.213516712188721,-3.65681791305542,-6.401702404022217,26.36937713623047,-8.029536247253418,-8.930293083190918,-4.764467239379883,12.214326858520508,-25.44305419921875,-20.004905700683594,41.17898178100586,7.704301834106445,-33.997596740722656,-33.45716094970703,-31.618186950683594,8.857956886291504,30.839645385742188,-4.88228702545166,-11.256160736083984,-11.199104309082031,-27.479114532470703,-4.156466007232666,-18.2393798828125,-22.737037658691406,-7.001305103302002,-35.077667236328125,-25.481182098388672,18.679832458496094,-22.851652145385742,-15.79624080657959,23.792282104492188,31.667098999023438,32.54304885864258,-32.443206787109375,0.899436354637146,-12.825316429138184,29.818132400512695,-23.514162063598633,-24.034732818603516,-8.94192886352539,27.872753143310547,-26.241748809814453,-0.38946303725242615,27.028072357177734,-23.513471603393555,-29.825645446777344,-13.268299102783203,-29.812320709228516,2.004391670227051,18.788103103637695,39.401397705078125,-16.7204647064209,-9.049996376037598,33.001495361328125,-24.752166748046875,-9.099512100219727,28.856618881225586,27.963098526000977,28.21355438232422,34.44917297363281,20.75005340576172,32.184288024902344,-35.934757232666016,-32.51738739013672,-34.551578521728516,28.77342987060547,1.6234443187713623,-31.524309158325195,25.983930587768555,13.144410133361816,32.92023849487305,-26.139657974243164,-5.96816873550415,-28.764535903930664,42.17557144165039,26.943449020385742,-17.973247528076172,-3.3561034202575684,-10.014094352722168,41.535675048828125,-33.536502838134766,-33.22467041015625,-22.046871185302734,-30.979990005493164,-24.524635314941406,-31.552444458007812,-12.030613899230957,-34.128684997558594,-33.102481842041016,-9.2089262008667,4.268343925476074,-13.196707725524902,2.099669933319092,4.702627658843994,10.467761039733887,-19.152809143066406,-7.154435634613037,-28.9703426361084,23.644941329956055,-32.64579772949219,16.542621612548828,-23.690738677978516,-28.10836410522461,26.928770065307617,41.110450744628906,-22.961977005004883,28.038698196411133,21.488935470581055,21.281585693359375,35.523983001708984,31.39990997314453,-18.90559959411621,-3.616395950317383,36.12106704711914,-34.33995819091797,-25.3242130279541,-6.497556209564209,-11.817831039428711,-32.080543518066406,-3.8748040199279785,29.255739212036133,-1.2996835708618164,-31.36470603942871,-2.00775146484375,19.647510528564453,26.508193969726562,-26.464908599853516,7.218406677246094,15.872511863708496,-27.73463249206543,24.561973571777344,-1.3193919658660889,-27.214494705200195,1.7517451047897339,-12.931940078735352,15.063309669494629,-25.686376571655273,-29.475147247314453,21.999523162841797,-26.641403198242188,-11.307847023010254,-12.110431671142578,6.8463616371154785,9.343832969665527,-31.298992156982422,-2.130521059036255,-28.658018112182617,-8.619869232177734,2.0666444301605225,-11.873080253601074,-13.34193229675293,-36.62648010253906,-17.017736434936523,37.69242858886719,-36.349632263183594,-10.901432037353516,27.129257202148438,-30.728517532348633,32.21028137207031,3.993586540222168,-1.8349189758300781,-11.478649139404297,-35.25444793701172,20.256305694580078,-0.7433261871337891,30.931194305419922,-16.142534255981445,-13.333120346069336,-4.733797550201416,-11.751323699951172,14.142311096191406,9.582834243774414,42.706031799316406,41.533382415771484,33.5892219543457,33.87525939941406,-24.740032196044922,21.51064109802246,27.701030731201172,1.7548588514328003,29.964094161987305,9.656845092773438,12.453869819641113,15.855594635009766,17.324857711791992,9.175642967224121,39.55998992919922,16.36790657043457,-10.28901481628418,-25.051637649536133,38.92988586425781,31.95196533203125,27.826683044433594,28.27924156188965,1.856226921081543,29.415077209472656,26.964332580566406,31.35979652404785,-8.53203010559082,33.35734939575195,-12.66460132598877,-9.084490776062012,21.17231559753418,30.358644485473633,-28.260894775390625,36.02054977416992,39.45835494995117,41.34321212768555,-6.41411018371582,-23.574621200561523,-10.491972923278809,29.807680130004883,-32.33283615112305,34.88682556152344,-34.8339729309082,-23.54558563232422,-18.146196365356445,26.315431594848633,-29.027799606323242,-33.334537506103516,-27.6801815032959,31.024213790893555,27.269277572631836,3.71311092376709,39.41963195800781,29.635372161865234,4.584326267242432,-5.771551609039307,-7.447072982788086,-30.719905853271484,5.959945201873779,-22.66111183166504,22.049816131591797,-30.01030158996582,-28.712709426879883,38.61268997192383,2.8567659854888916,-4.305280685424805,-35.04719924926758,-24.72414779663086,17.989185333251953,-33.00624084472656,30.198284149169922,-9.821813583374023,44.197914123535156,24.715545654296875,27.091093063354492,-20.248252868652344,-9.240141868591309,0.9544432163238525,11.148627281188965,-9.233717918395996,1.735714316368103,-23.509716033935547,19.976821899414062,-18.472816467285156,-6.030499458312988,-28.51061248779297,2.498229742050171,-2.4242098331451416,-8.223828315734863,15.131904602050781,23.980693817138672,34.61604309082031,-22.93747901916504,-26.16106605529785,6.867875099182129,16.17902946472168,27.853466033935547,-10.394256591796875,16.258682250976562,-1.3850435018539429,-36.79151916503906,-9.719809532165527,-14.421759605407715,-20.416048049926758,13.317036628723145,-11.578853607177734,-33.990360260009766,36.15071487426758,41.852622985839844,-32.01536178588867,-18.4812068939209,45.30243682861328,-28.904441833496094,-3.4102048873901367,-23.895944595336914,-33.111454010009766,-32.24826431274414,-14.947559356689453,-12.399078369140625,29.617040634155273,-33.15836715698242,-14.24142074584961,-28.733625411987305,8.381566047668457,37.705570220947266,17.635807037353516,32.06426239013672,-29.66373062133789,3.995520830154419,-4.51490592956543,-31.96670913696289,39.04489517211914,-28.379587173461914,-32.55835723876953,-24.347402572631836,-23.575048446655273,-21.481773376464844,18.355255126953125,-11.328439712524414,-26.769845962524414,-19.033411026000977,-23.44610023498535,-22.143726348876953,13.21159553527832,2.0444679260253906,11.43851089477539,-26.4886417388916,4.8131303787231445,-12.951919555664062,-2.5918586254119873,-35.03208923339844,-0.6922448873519897,-26.10397720336914,-9.903816223144531,5.233402729034424,-25.43498992919922,37.498069763183594,7.453703880310059,23.53125,24.70268440246582,19.942739486694336,-3.9658055305480957,-14.56226921081543,-32.89762878417969,-19.8851261138916,38.208744049072266,30.555017471313477,-26.995655059814453,-33.72956085205078,26.78265380859375,-13.764406204223633,31.653079986572266,-27.960309982299805,13.44539737701416,3.892317533493042,-19.089134216308594,-3.4874606132507324,41.587799072265625,1.12174654006958,-32.456180572509766,-30.719881057739258,-2.605797529220581,-26.9340877532959,-23.625324249267578,39.54656219482422,41.02086639404297,-29.43763542175293,11.407000541687012,-29.130146026611328,41.0854377746582,30.62615966796875,-28.97970962524414,-24.45948600769043,35.01148223876953,-13.68120288848877,31.483667373657227,-29.186120986938477,16.53171730041504,-1.5364713668823242,40.375064849853516,-31.40144157409668,-23.22886848449707,-29.713781356811523,-22.1599063873291,-23.067506790161133,-14.835945129394531,16.85617446899414,24.63127899169922,27.4373779296875,-23.55659294128418,-6.259921550750732,-22.91921615600586,42.26856994628906,10.452188491821289,3.1540768146514893,-36.302818298339844,-12.974994659423828,-25.82758140563965,-24.36968231201172,-13.414737701416016,-17.295013427734375,-12.422157287597656,14.962766647338867,-1.6765186786651611,2.888662576675415,12.674569129943848,26.855318069458008,31.410099029541016,20.557188034057617,6.520982265472412,24.15277099609375,1.3448009490966797,20.9582576751709,-20.26665687561035,-9.776288986206055,40.54551696777344,17.40308952331543,-31.86517906188965,-14.512853622436523,-36.309688568115234,39.21765899658203,29.167003631591797,31.361934661865234,38.418758392333984,27.913955688476562,-13.630147933959961,21.611175537109375,23.105003356933594,-9.995257377624512,-28.226247787475586,16.94042205810547,-33.80766677856445,-14.060308456420898,37.25766372680664,13.869860649108887,11.2688570022583,11.54956340789795,-27.80392074584961,-14.368576049804688,31.346874237060547,6.711823463439941,-9.6333646774292,0.01271762140095234,-31.506256103515625,-34.471832275390625,28.49787139892578,31.31964683532715,37.245628356933594,-34.41034698486328,-11.22869873046875,-8.394715309143066,28.91680335998535,-26.40169334411621,-27.86956024169922,3.6927073001861572,29.551776885986328,20.686065673828125,27.4613037109375,23.396011352539062,-16.2359676361084,6.494190692901611,-24.09163475036621,-33.27432632446289,0.13379672169685364,11.262090682983398,39.27402877807617,32.686885833740234,-19.465557098388672,5.510281562805176,-16.567527770996094,35.022823333740234,22.219406127929688,-3.418142318725586,-32.56346893310547,22.405845642089844,6.194079399108887,31.492422103881836,-32.579402923583984,3.69746470451355,-20.7310848236084,-4.474618434906006,-23.91835594177246,-5.41810417175293,-29.958698272705078,-25.63119888305664,-24.377140045166016,31.155139923095703,-25.357337951660156,-31.71099090576172,-28.36602020263672,14.35777473449707,-17.175260543823242,11.841635704040527,-11.16890811920166,-20.460325241088867,-18.128786087036133,41.46921920776367,20.315000534057617,17.810638427734375,-28.95366668701172,-29.3461971282959,-31.481348037719727,-24.451095581054688,-35.11785888671875,-30.82590103149414,11.624885559082031,11.234753608703613,-30.525720596313477,-4.63470983505249,-34.070980072021484,-23.69527816772461,41.00895309448242,3.5189881324768066,21.87571144104004,-31.88795280456543,-15.336162567138672,-23.123825073242188,-2.3367936611175537,27.00876808166504,-27.15079116821289,3.7107715606689453,16.65260887145996,35.15880584716797,26.207860946655273,-8.377387046813965,-21.128402709960938,34.28374481201172,-9.677918434143066,-26.003833770751953,-7.460519790649414,41.33650588989258,1.09758460521698,-13.304896354675293,-23.625179290771484,29.97269058227539,13.201231956481934,35.9874382019043,9.165032386779785,17.146329879760742,38.35424041748047,21.014427185058594,11.656431198120117,-24.506921768188477,37.846595764160156,33.02370834350586,-32.02070999145508,-14.305944442749023,21.1960391998291,-29.62847137451172,1.2871098518371582,23.78064727783203,-9.821203231811523,-29.105955123901367,26.01255989074707,38.52611541748047,-0.5508080124855042,-28.770366668701172,8.985784530639648,28.439708709716797,-5.44146728515625,4.706862449645996,-24.741199493408203,2.0230321884155273,-31.284975051879883,24.69450569152832,17.371458053588867,43.13486099243164,38.14759826660156,-30.953065872192383,-9.705845832824707,31.339683532714844,33.442752838134766,-11.52599811553955,9.744321823120117,26.814334869384766,-30.839014053344727,-37.084014892578125,11.53194522857666,23.305850982666016,-29.081722259521484,-29.964813232421875,24.337047576904297,21.05480194091797,32.12810134887695,36.7462158203125,-13.325435638427734,-22.8309383392334,-7.631106853485107,7.455972194671631,-11.189663887023926,-9.242128372192383,10.262751579284668,30.87746238708496,8.911962509155273,17.820682525634766,0.9678988456726074,-11.265585899353027,34.34026336669922,-32.780696868896484,-30.011234283447266,-31.60589599609375,-9.287728309631348,-22.595632553100586,-35.3447151184082,2.7688581943511963,-8.1068696975708,-25.32940673828125,28.039098739624023,26.720767974853516,-22.467838287353516,13.14873218536377,25.812719345092773,37.026363372802734,9.915045738220215,-18.09406280517578,23.746341705322266,-3.0294055938720703,5.50976037979126,4.79620885848999,-26.458614349365234,-28.440073013305664,-31.681745529174805,40.686492919921875,-2.0561490058898926,16.74153709411621,-9.017844200134277,6.034882545471191,34.37189483642578,-11.106314659118652,-1.7466129064559937,-26.91191291809082,26.754270553588867,46.42544937133789,21.68389892578125,-21.71723175048828,-27.620864868164062,-24.480026245117188,-1.8398233652114868,42.57724380493164,38.554813385009766,37.82371520996094,-11.2903470993042,11.847984313964844,-7.666478157043457,-8.017354011535645,37.13143539428711,-21.8121280670166,-34.393802642822266,42.14879608154297,-29.521778106689453,-23.228038787841797,12.355395317077637,13.31627082824707,15.981931686401367,-20.884092330932617,-10.293720245361328,38.89192199707031,-9.10213565826416,5.110402584075928,10.744268417358398,-2.677659034729004,2.2882232666015625,-10.862257957458496,-12.277804374694824,-31.72630500793457,23.693071365356445,-36.2502326965332,23.687644958496094,26.847890853881836,-26.963930130004883,29.708736419677734,-33.72602462768555,-30.48930549621582,-32.507080078125,-11.053065299987793,-20.685773849487305,-33.14860153198242,-34.863525390625,-21.764785766601562,17.107275009155273,-23.77385902404785,25.639968872070312,8.776010513305664,19.247779846191406,-7.630746841430664,2.740056276321411,-28.01970100402832,11.843297004699707,-2.119856357574463,4.400559425354004,-31.056686401367188,-11.388029098510742,31.74663734436035,-36.68995666503906,-10.643768310546875,-23.373794555664062,-10.194989204406738,-32.92088317871094,33.977745056152344,-28.720609664916992,17.646831512451172,-30.775941848754883,-25.747587203979492,4.904957294464111,-28.08774757385254,-18.14923095703125,42.65754699707031,9.066628456115723,4.4762139320373535,5.1180596351623535,14.765742301940918,-10.575894355773926,-27.5490665435791,-11.480177879333496,-28.987773895263672,-32.608272552490234,37.86211395263672,35.3836555480957,21.53619384765625,-25.130512237548828,-4.601395130157471,12.769818305969238,-22.556198120117188,28.48442268371582,38.56989288330078,-5.599104404449463,-32.002227783203125,12.933030128479004,39.711402893066406,-22.90247344970703,36.447566986083984,31.719545364379883,2.7491629123687744,24.40544319152832,10.838876724243164,-24.996564865112305,23.566598892211914,1.1643315553665161,38.63249206542969,-25.950145721435547,-33.83092498779297,-18.000635147094727,9.8865385055542,-16.81836700439453,4.775477409362793,-12.20034408569336,32.29814910888672,-12.221842765808105,0.13019855320453644,-34.85530471801758,37.702491760253906,23.990537643432617,16.12818145751953,41.949031829833984,6.760599613189697,36.407989501953125,44.346500396728516,26.837820053100586,39.497642517089844,34.78410720825195,-9.17223072052002,11.075618743896484,13.510254859924316,28.127418518066406,-31.150922775268555,-33.342987060546875,-13.80958080291748,30.082977294921875,28.74123191833496,39.516361236572266,-34.87519073486328,-5.218750476837158,-23.244384765625,14.646414756774902,-6.8479695320129395,36.67320251464844,19.51551055908203,22.059431076049805,-4.476682186126709,16.99346160888672,-35.5154914855957,-28.80039405822754,-37.65276336669922,2.6906423568725586,-31.973628997802734,18.569868087768555,32.73379898071289,35.62244415283203,17.6964168548584,33.09137725830078,-28.76906967163086,19.860559463500977,-12.768330574035645,-5.470784664154053,-4.15313196182251,-26.937049865722656,-22.935863494873047,34.58382797241211,-6.51408052444458,28.131256103515625,-5.746864318847656,15.684057235717773,-14.32443904876709,-31.739822387695312,15.911662101745605,38.13698959350586,17.205541610717773,23.548171997070312,20.148786544799805,6.156068801879883,27.564115524291992,28.936561584472656,-18.86539077758789,-30.20543670654297,28.22394561767578,-9.8363037109375,-30.374849319458008,6.988345146179199,27.819528579711914,-32.99465560913086,29.827089309692383,18.79157257080078,-24.954607009887695,-6.774345397949219,-31.768293380737305,13.606891632080078,-10.930302619934082,38.833526611328125,12.280930519104004,23.713058471679688,35.631103515625,19.938282012939453,-34.99653625488281,-15.59161376953125,-3.0028421878814697,18.47222328186035,-31.296085357666016,-33.75896072387695,17.657140731811523,29.82158660888672,41.079307556152344,-32.968971252441406,-27.744447708129883,-30.26182746887207,-4.426525115966797,36.29509735107422,19.872541427612305,-20.15167236328125,-24.65912437438965,19.713939666748047,-17.520160675048828,3.8310437202453613,-31.088199615478516,-27.666227340698242,1.0635300874710083,28.54033851623535,-10.513375282287598,-28.935245513916016,6.261819839477539,-29.34114646911621,-29.257654190063477,9.514548301696777,-7.784910678863525,-5.123655796051025,-35.16008758544922,1.4108729362487793,1.1294113397598267,-2.810570478439331,2.3811275959014893,-7.650445938110352,-8.355960845947266,27.837299346923828,-32.01736068725586,-5.193284034729004,6.683363437652588,32.0725212097168,-33.3437614440918,-12.337820053100586,-15.589115142822266,-11.42507266998291,29.82131576538086,-27.05675506591797,-9.231117248535156,-26.390724182128906,12.186734199523926,21.414152145385742,-12.513567924499512,-8.321857452392578,-21.992225646972656,15.423301696777344,-30.83119010925293,6.048903465270996,28.297311782836914,28.576250076293945,-21.674236297607422,16.933795928955078,35.3684196472168,-6.5553107261657715,33.03278732299805,-19.537553787231445,-4.287716865539551,5.354247570037842,19.883386611938477,20.699440002441406,-4.866469860076904,18.81005096435547,29.499221801757812,8.51639461517334,32.36228561401367,27.28740692138672,20.8155517578125,-31.87870216369629,2.2095305919647217,-29.163423538208008,-17.783248901367188,-30.157527923583984,-19.69292449951172,-9.556629180908203,2.0291452407836914,-9.897061347961426,-31.555044174194336,-10.781452178955078,-3.5513992309570312,27.491830825805664,0.4249303638935089,5.2009429931640625,5.908282279968262,22.90464973449707,-28.86353874206543,31.41866111755371,33.59877014160156,20.814250946044922,30.454008102416992,32.38579559326172,-20.05101203918457,-28.825298309326172,30.410625457763672,-32.51998519897461],\"yaxis\":\"y\",\"type\":\"scattergl\"}],                        {\"template\":{\"data\":{\"histogram2dcontour\":[{\"type\":\"histogram2dcontour\",\"colorbar\":{\"outlinewidth\":0,\"ticks\":\"\"},\"colorscale\":[[0.0,\"#0d0887\"],[0.1111111111111111,\"#46039f\"],[0.2222222222222222,\"#7201a8\"],[0.3333333333333333,\"#9c179e\"],[0.4444444444444444,\"#bd3786\"],[0.5555555555555556,\"#d8576b\"],[0.6666666666666666,\"#ed7953\"],[0.7777777777777778,\"#fb9f3a\"],[0.8888888888888888,\"#fdca26\"],[1.0,\"#f0f921\"]]}],\"choropleth\":[{\"type\":\"choropleth\",\"colorbar\":{\"outlinewidth\":0,\"ticks\":\"\"}}],\"histogram2d\":[{\"type\":\"histogram2d\",\"colorbar\":{\"outlinewidth\":0,\"ticks\":\"\"},\"colorscale\":[[0.0,\"#0d0887\"],[0.1111111111111111,\"#46039f\"],[0.2222222222222222,\"#7201a8\"],[0.3333333333333333,\"#9c179e\"],[0.4444444444444444,\"#bd3786\"],[0.5555555555555556,\"#d8576b\"],[0.6666666666666666,\"#ed7953\"],[0.7777777777777778,\"#fb9f3a\"],[0.8888888888888888,\"#fdca26\"],[1.0,\"#f0f921\"]]}],\"heatmap\":[{\"type\":\"heatmap\",\"colorbar\":{\"outlinewidth\":0,\"ticks\":\"\"},\"colorscale\":[[0.0,\"#0d0887\"],[0.1111111111111111,\"#46039f\"],[0.2222222222222222,\"#7201a8\"],[0.3333333333333333,\"#9c179e\"],[0.4444444444444444,\"#bd3786\"],[0.5555555555555556,\"#d8576b\"],[0.6666666666666666,\"#ed7953\"],[0.7777777777777778,\"#fb9f3a\"],[0.8888888888888888,\"#fdca26\"],[1.0,\"#f0f921\"]]}],\"heatmapgl\":[{\"type\":\"heatmapgl\",\"colorbar\":{\"outlinewidth\":0,\"ticks\":\"\"},\"colorscale\":[[0.0,\"#0d0887\"],[0.1111111111111111,\"#46039f\"],[0.2222222222222222,\"#7201a8\"],[0.3333333333333333,\"#9c179e\"],[0.4444444444444444,\"#bd3786\"],[0.5555555555555556,\"#d8576b\"],[0.6666666666666666,\"#ed7953\"],[0.7777777777777778,\"#fb9f3a\"],[0.8888888888888888,\"#fdca26\"],[1.0,\"#f0f921\"]]}],\"contourcarpet\":[{\"type\":\"contourcarpet\",\"colorbar\":{\"outlinewidth\":0,\"ticks\":\"\"}}],\"contour\":[{\"type\":\"contour\",\"colorbar\":{\"outlinewidth\":0,\"ticks\":\"\"},\"colorscale\":[[0.0,\"#0d0887\"],[0.1111111111111111,\"#46039f\"],[0.2222222222222222,\"#7201a8\"],[0.3333333333333333,\"#9c179e\"],[0.4444444444444444,\"#bd3786\"],[0.5555555555555556,\"#d8576b\"],[0.6666666666666666,\"#ed7953\"],[0.7777777777777778,\"#fb9f3a\"],[0.8888888888888888,\"#fdca26\"],[1.0,\"#f0f921\"]]}],\"surface\":[{\"type\":\"surface\",\"colorbar\":{\"outlinewidth\":0,\"ticks\":\"\"},\"colorscale\":[[0.0,\"#0d0887\"],[0.1111111111111111,\"#46039f\"],[0.2222222222222222,\"#7201a8\"],[0.3333333333333333,\"#9c179e\"],[0.4444444444444444,\"#bd3786\"],[0.5555555555555556,\"#d8576b\"],[0.6666666666666666,\"#ed7953\"],[0.7777777777777778,\"#fb9f3a\"],[0.8888888888888888,\"#fdca26\"],[1.0,\"#f0f921\"]]}],\"mesh3d\":[{\"type\":\"mesh3d\",\"colorbar\":{\"outlinewidth\":0,\"ticks\":\"\"}}],\"scatter\":[{\"fillpattern\":{\"fillmode\":\"overlay\",\"size\":10,\"solidity\":0.2},\"type\":\"scatter\"}],\"parcoords\":[{\"type\":\"parcoords\",\"line\":{\"colorbar\":{\"outlinewidth\":0,\"ticks\":\"\"}}}],\"scatterpolargl\":[{\"type\":\"scatterpolargl\",\"marker\":{\"colorbar\":{\"outlinewidth\":0,\"ticks\":\"\"}}}],\"bar\":[{\"error_x\":{\"color\":\"#2a3f5f\"},\"error_y\":{\"color\":\"#2a3f5f\"},\"marker\":{\"line\":{\"color\":\"#E5ECF6\",\"width\":0.5},\"pattern\":{\"fillmode\":\"overlay\",\"size\":10,\"solidity\":0.2}},\"type\":\"bar\"}],\"scattergeo\":[{\"type\":\"scattergeo\",\"marker\":{\"colorbar\":{\"outlinewidth\":0,\"ticks\":\"\"}}}],\"scatterpolar\":[{\"type\":\"scatterpolar\",\"marker\":{\"colorbar\":{\"outlinewidth\":0,\"ticks\":\"\"}}}],\"histogram\":[{\"marker\":{\"pattern\":{\"fillmode\":\"overlay\",\"size\":10,\"solidity\":0.2}},\"type\":\"histogram\"}],\"scattergl\":[{\"type\":\"scattergl\",\"marker\":{\"colorbar\":{\"outlinewidth\":0,\"ticks\":\"\"}}}],\"scatter3d\":[{\"type\":\"scatter3d\",\"line\":{\"colorbar\":{\"outlinewidth\":0,\"ticks\":\"\"}},\"marker\":{\"colorbar\":{\"outlinewidth\":0,\"ticks\":\"\"}}}],\"scattermapbox\":[{\"type\":\"scattermapbox\",\"marker\":{\"colorbar\":{\"outlinewidth\":0,\"ticks\":\"\"}}}],\"scatterternary\":[{\"type\":\"scatterternary\",\"marker\":{\"colorbar\":{\"outlinewidth\":0,\"ticks\":\"\"}}}],\"scattercarpet\":[{\"type\":\"scattercarpet\",\"marker\":{\"colorbar\":{\"outlinewidth\":0,\"ticks\":\"\"}}}],\"carpet\":[{\"aaxis\":{\"endlinecolor\":\"#2a3f5f\",\"gridcolor\":\"white\",\"linecolor\":\"white\",\"minorgridcolor\":\"white\",\"startlinecolor\":\"#2a3f5f\"},\"baxis\":{\"endlinecolor\":\"#2a3f5f\",\"gridcolor\":\"white\",\"linecolor\":\"white\",\"minorgridcolor\":\"white\",\"startlinecolor\":\"#2a3f5f\"},\"type\":\"carpet\"}],\"table\":[{\"cells\":{\"fill\":{\"color\":\"#EBF0F8\"},\"line\":{\"color\":\"white\"}},\"header\":{\"fill\":{\"color\":\"#C8D4E3\"},\"line\":{\"color\":\"white\"}},\"type\":\"table\"}],\"barpolar\":[{\"marker\":{\"line\":{\"color\":\"#E5ECF6\",\"width\":0.5},\"pattern\":{\"fillmode\":\"overlay\",\"size\":10,\"solidity\":0.2}},\"type\":\"barpolar\"}],\"pie\":[{\"automargin\":true,\"type\":\"pie\"}]},\"layout\":{\"autotypenumbers\":\"strict\",\"colorway\":[\"#636efa\",\"#EF553B\",\"#00cc96\",\"#ab63fa\",\"#FFA15A\",\"#19d3f3\",\"#FF6692\",\"#B6E880\",\"#FF97FF\",\"#FECB52\"],\"font\":{\"color\":\"#2a3f5f\"},\"hovermode\":\"closest\",\"hoverlabel\":{\"align\":\"left\"},\"paper_bgcolor\":\"white\",\"plot_bgcolor\":\"#E5ECF6\",\"polar\":{\"bgcolor\":\"#E5ECF6\",\"angularaxis\":{\"gridcolor\":\"white\",\"linecolor\":\"white\",\"ticks\":\"\"},\"radialaxis\":{\"gridcolor\":\"white\",\"linecolor\":\"white\",\"ticks\":\"\"}},\"ternary\":{\"bgcolor\":\"#E5ECF6\",\"aaxis\":{\"gridcolor\":\"white\",\"linecolor\":\"white\",\"ticks\":\"\"},\"baxis\":{\"gridcolor\":\"white\",\"linecolor\":\"white\",\"ticks\":\"\"},\"caxis\":{\"gridcolor\":\"white\",\"linecolor\":\"white\",\"ticks\":\"\"}},\"coloraxis\":{\"colorbar\":{\"outlinewidth\":0,\"ticks\":\"\"}},\"colorscale\":{\"sequential\":[[0.0,\"#0d0887\"],[0.1111111111111111,\"#46039f\"],[0.2222222222222222,\"#7201a8\"],[0.3333333333333333,\"#9c179e\"],[0.4444444444444444,\"#bd3786\"],[0.5555555555555556,\"#d8576b\"],[0.6666666666666666,\"#ed7953\"],[0.7777777777777778,\"#fb9f3a\"],[0.8888888888888888,\"#fdca26\"],[1.0,\"#f0f921\"]],\"sequentialminus\":[[0.0,\"#0d0887\"],[0.1111111111111111,\"#46039f\"],[0.2222222222222222,\"#7201a8\"],[0.3333333333333333,\"#9c179e\"],[0.4444444444444444,\"#bd3786\"],[0.5555555555555556,\"#d8576b\"],[0.6666666666666666,\"#ed7953\"],[0.7777777777777778,\"#fb9f3a\"],[0.8888888888888888,\"#fdca26\"],[1.0,\"#f0f921\"]],\"diverging\":[[0,\"#8e0152\"],[0.1,\"#c51b7d\"],[0.2,\"#de77ae\"],[0.3,\"#f1b6da\"],[0.4,\"#fde0ef\"],[0.5,\"#f7f7f7\"],[0.6,\"#e6f5d0\"],[0.7,\"#b8e186\"],[0.8,\"#7fbc41\"],[0.9,\"#4d9221\"],[1,\"#276419\"]]},\"xaxis\":{\"gridcolor\":\"white\",\"linecolor\":\"white\",\"ticks\":\"\",\"title\":{\"standoff\":15},\"zerolinecolor\":\"white\",\"automargin\":true,\"zerolinewidth\":2},\"yaxis\":{\"gridcolor\":\"white\",\"linecolor\":\"white\",\"ticks\":\"\",\"title\":{\"standoff\":15},\"zerolinecolor\":\"white\",\"automargin\":true,\"zerolinewidth\":2},\"scene\":{\"xaxis\":{\"backgroundcolor\":\"#E5ECF6\",\"gridcolor\":\"white\",\"linecolor\":\"white\",\"showbackground\":true,\"ticks\":\"\",\"zerolinecolor\":\"white\",\"gridwidth\":2},\"yaxis\":{\"backgroundcolor\":\"#E5ECF6\",\"gridcolor\":\"white\",\"linecolor\":\"white\",\"showbackground\":true,\"ticks\":\"\",\"zerolinecolor\":\"white\",\"gridwidth\":2},\"zaxis\":{\"backgroundcolor\":\"#E5ECF6\",\"gridcolor\":\"white\",\"linecolor\":\"white\",\"showbackground\":true,\"ticks\":\"\",\"zerolinecolor\":\"white\",\"gridwidth\":2}},\"shapedefaults\":{\"line\":{\"color\":\"#2a3f5f\"}},\"annotationdefaults\":{\"arrowcolor\":\"#2a3f5f\",\"arrowhead\":0,\"arrowwidth\":1},\"geo\":{\"bgcolor\":\"white\",\"landcolor\":\"#E5ECF6\",\"subunitcolor\":\"white\",\"showland\":true,\"showlakes\":true,\"lakecolor\":\"white\"},\"title\":{\"x\":0.05},\"mapbox\":{\"style\":\"light\"}}},\"xaxis\":{\"anchor\":\"y\",\"domain\":[0.0,1.0],\"title\":{\"text\":\"Componente 1\"}},\"yaxis\":{\"anchor\":\"x\",\"domain\":[0.0,1.0],\"title\":{\"text\":\"Componente 2\"}},\"coloraxis\":{\"colorbar\":{\"title\":{\"text\":\"color\"}},\"colorscale\":[[0.0,\"#0d0887\"],[0.1111111111111111,\"#46039f\"],[0.2222222222222222,\"#7201a8\"],[0.3333333333333333,\"#9c179e\"],[0.4444444444444444,\"#bd3786\"],[0.5555555555555556,\"#d8576b\"],[0.6666666666666666,\"#ed7953\"],[0.7777777777777778,\"#fb9f3a\"],[0.8888888888888888,\"#fdca26\"],[1.0,\"#f0f921\"]]},\"legend\":{\"tracegroupgap\":0},\"margin\":{\"t\":60},\"title\":{\"text\":\"Reducci\\u00f3n de dimensionalidad con T-SNE\"}},                        {\"responsive\": true}                    ).then(function(){\n",
              "                            \n",
              "var gd = document.getElementById('cf93d8bc-4b74-4a43-8603-5777178d2916');\n",
              "var x = new MutationObserver(function (mutations, observer) {{\n",
              "        var display = window.getComputedStyle(gd).display;\n",
              "        if (!display || display === 'none') {{\n",
              "            console.log([gd, 'removed!']);\n",
              "            Plotly.purge(gd);\n",
              "            observer.disconnect();\n",
              "        }}\n",
              "}});\n",
              "\n",
              "// Listen for the removal of the full notebook cells\n",
              "var notebookContainer = gd.closest('#notebook-container');\n",
              "if (notebookContainer) {{\n",
              "    x.observe(notebookContainer, {childList: true});\n",
              "}}\n",
              "\n",
              "// Listen for the clearing of the current output cell\n",
              "var outputEl = gd.closest('.output');\n",
              "if (outputEl) {{\n",
              "    x.observe(outputEl, {childList: true});\n",
              "}}\n",
              "\n",
              "                        })                };                            </script>        </div>\n",
              "</body>\n",
              "</html>"
            ]
          },
          "metadata": {}
        }
      ],
      "execution_count": 38
    },
    {
      "cell_type": "markdown",
      "source": [
        "Si bien se separa en los grupos correspondientes, en base a la forma de los datos, puede que haya sido mejor utilziar otros métodos de clustering que identifican mejor los patrones de los datos como DBSCAN. "
      ],
      "metadata": {
        "id": "JBu5YlJoL3Z6"
      }
    },
    {
      "cell_type": "markdown",
      "source": [
        "# Conclusión\n",
        "Eso ha sido todo para el lab de hoy, recuerden que el laboratorio tiene un plazo de entrega de una semana. Cualquier duda del laboratorio, no duden en contactarnos por correo, Discord o U-cursos.\n",
        "\n",
        "![Gracias Totales!](https://i.pinimg.com/originals/65/ae/27/65ae270df87c3c4adcea997e48f60852.gif \"bruno\")\n"
      ],
      "metadata": {
        "id": "Rg4ZMq8ezAH6",
        "cell_id": "94721075d5ff44bd83601c871797ae2a",
        "deepnote_cell_height": 514.4666748046875,
        "deepnote_cell_type": "markdown"
      }
    },
    {
      "cell_type": "markdown",
      "source": [
        "<br>\n",
        "<center>\n",
        "<img src=\"https://i.kym-cdn.com/photos/images/original/001/194/195/b18.png\" width=100 height=50 />\n",
        "</center>\n",
        "<br>"
      ],
      "metadata": {
        "id": "wCL1lACBzAH7",
        "cell_id": "7e31a91f8cb744cabd0ed0287ac5257e",
        "deepnote_cell_height": 171.28334045410156,
        "deepnote_cell_type": "markdown"
      }
    },
    {
      "cell_type": "markdown",
      "source": [
        "<a style='text-decoration:none;line-height:16px;display:flex;color:#5B5B62;padding:10px;justify-content:end;' href='https://deepnote.com?utm_source=created-in-deepnote-cell&projectId=87110296-876e-426f-b91d-aaf681223468' target=\"_blank\">\n",
        "<img alt='Created in deepnote.com' style='display:inline;max-height:16px;margin:0px;margin-right:7.5px;' src='data:image/svg+xml;base64,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' > </img>\n",
        "Created in <span style='font-weight:600;margin-left:4px;'>Deepnote</span></a>"
      ],
      "metadata": {
        "created_in_deepnote_cell": true,
        "deepnote_cell_type": "markdown",
        "id": "kmDrJ9QY76Sm"
      }
    }
  ],
  "nbformat": 4,
  "nbformat_minor": 0,
  "metadata": {
    "toc": {
      "sideBar": true,
      "nav_menu": {},
      "toc_cell": false,
      "title_cell": "Tabla de Contenidos",
      "toc_position": {
        "top": "150px",
        "left": "10px",
        "width": "241.867px",
        "height": "calc(100% - 180px)"
      },
      "skip_h1_title": true,
      "title_sidebar": "Contenidos",
      "base_numbering": 1,
      "number_sections": true,
      "toc_window_display": true,
      "toc_section_display": true
    },
    "colab": {
      "provenance": []
    },
    "deepnote": {},
    "kernelspec": {
      "name": "python3",
      "language": "python",
      "display_name": "Python 3"
    },
    "varInspector": {
      "cols": {
        "lenVar": 40,
        "lenName": 16,
        "lenType": 16
      },
      "kernels_config": {
        "r": {
          "library": "var_list.r",
          "varRefreshCmd": "cat(var_dic_list()) ",
          "delete_cmd_prefix": "rm(",
          "delete_cmd_postfix": ") "
        },
        "python": {
          "library": "var_list.py",
          "varRefreshCmd": "print(var_dic_list())",
          "delete_cmd_prefix": "del ",
          "delete_cmd_postfix": ""
        }
      },
      "window_display": false,
      "types_to_exclude": [
        "module",
        "function",
        "builtin_function_or_method",
        "instance",
        "_Feature"
      ]
    },
    "language_info": {
      "name": "python",
      "version": "3.8.3",
      "mimetype": "text/x-python",
      "file_extension": ".py",
      "pygments_lexer": "ipython3",
      "codemirror_mode": {
        "name": "ipython",
        "version": 3
      },
      "nbconvert_exporter": "python"
    },
    "deepnote_notebook_id": "33c253a4f84d40a091bd5023e95abb64",
    "deepnote_execution_queue": []
  }
}